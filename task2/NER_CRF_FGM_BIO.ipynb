{
  "cells": [
    {
      "cell_type": "code",
      "execution_count": null,
      "metadata": {
        "colab": {
          "base_uri": "https://localhost:8080/"
        },
        "id": "hOHV3tgnd2Mp",
        "outputId": "9432ab86-3524-40b6-8e48-dc7681f0a796"
      },
      "outputs": [
        {
          "name": "stdout",
          "output_type": "stream",
          "text": [
            "Collecting pytorch-crf\n",
            "  Downloading pytorch_crf-0.7.2-py3-none-any.whl.metadata (2.4 kB)\n",
            "Downloading pytorch_crf-0.7.2-py3-none-any.whl (9.5 kB)\n",
            "Installing collected packages: pytorch-crf\n",
            "Successfully installed pytorch-crf-0.7.2\n"
          ]
        }
      ],
      "source": [
        "!pip install pytorch-crf"
      ]
    },
    {
      "cell_type": "code",
      "execution_count": null,
      "metadata": {
        "colab": {
          "base_uri": "https://localhost:8080/"
        },
        "id": "g5_ZSvBNdHQ9",
        "outputId": "4047a245-0ce0-4aa1-f4aa-fc20632ec638"
      },
      "outputs": [
        {
          "name": "stdout",
          "output_type": "stream",
          "text": [
            "Collecting torchcrf\n",
            "  Downloading TorchCRF-1.1.0-py3-none-any.whl.metadata (2.3 kB)\n",
            "Requirement already satisfied: numpy in /usr/local/lib/python3.11/dist-packages (from torchcrf) (2.0.2)\n",
            "Requirement already satisfied: torch>=1.0.0 in /usr/local/lib/python3.11/dist-packages (from torchcrf) (2.6.0+cu124)\n",
            "Requirement already satisfied: filelock in /usr/local/lib/python3.11/dist-packages (from torch>=1.0.0->torchcrf) (3.18.0)\n",
            "Requirement already satisfied: typing-extensions>=4.10.0 in /usr/local/lib/python3.11/dist-packages (from torch>=1.0.0->torchcrf) (4.13.2)\n",
            "Requirement already satisfied: networkx in /usr/local/lib/python3.11/dist-packages (from torch>=1.0.0->torchcrf) (3.5)\n",
            "Requirement already satisfied: jinja2 in /usr/local/lib/python3.11/dist-packages (from torch>=1.0.0->torchcrf) (3.1.6)\n",
            "Requirement already satisfied: fsspec in /usr/local/lib/python3.11/dist-packages (from torch>=1.0.0->torchcrf) (2025.3.2)\n",
            "Collecting nvidia-cuda-nvrtc-cu12==12.4.127 (from torch>=1.0.0->torchcrf)\n",
            "  Downloading nvidia_cuda_nvrtc_cu12-12.4.127-py3-none-manylinux2014_x86_64.whl.metadata (1.5 kB)\n",
            "Collecting nvidia-cuda-runtime-cu12==12.4.127 (from torch>=1.0.0->torchcrf)\n",
            "  Downloading nvidia_cuda_runtime_cu12-12.4.127-py3-none-manylinux2014_x86_64.whl.metadata (1.5 kB)\n",
            "Collecting nvidia-cuda-cupti-cu12==12.4.127 (from torch>=1.0.0->torchcrf)\n",
            "  Downloading nvidia_cuda_cupti_cu12-12.4.127-py3-none-manylinux2014_x86_64.whl.metadata (1.6 kB)\n",
            "Collecting nvidia-cudnn-cu12==9.1.0.70 (from torch>=1.0.0->torchcrf)\n",
            "  Downloading nvidia_cudnn_cu12-9.1.0.70-py3-none-manylinux2014_x86_64.whl.metadata (1.6 kB)\n",
            "Collecting nvidia-cublas-cu12==12.4.5.8 (from torch>=1.0.0->torchcrf)\n",
            "  Downloading nvidia_cublas_cu12-12.4.5.8-py3-none-manylinux2014_x86_64.whl.metadata (1.5 kB)\n",
            "Collecting nvidia-cufft-cu12==11.2.1.3 (from torch>=1.0.0->torchcrf)\n",
            "  Downloading nvidia_cufft_cu12-11.2.1.3-py3-none-manylinux2014_x86_64.whl.metadata (1.5 kB)\n",
            "Collecting nvidia-curand-cu12==10.3.5.147 (from torch>=1.0.0->torchcrf)\n",
            "  Downloading nvidia_curand_cu12-10.3.5.147-py3-none-manylinux2014_x86_64.whl.metadata (1.5 kB)\n",
            "Collecting nvidia-cusolver-cu12==11.6.1.9 (from torch>=1.0.0->torchcrf)\n",
            "  Downloading nvidia_cusolver_cu12-11.6.1.9-py3-none-manylinux2014_x86_64.whl.metadata (1.6 kB)\n",
            "Collecting nvidia-cusparse-cu12==12.3.1.170 (from torch>=1.0.0->torchcrf)\n",
            "  Downloading nvidia_cusparse_cu12-12.3.1.170-py3-none-manylinux2014_x86_64.whl.metadata (1.6 kB)\n",
            "Requirement already satisfied: nvidia-cusparselt-cu12==0.6.2 in /usr/local/lib/python3.11/dist-packages (from torch>=1.0.0->torchcrf) (0.6.2)\n",
            "Requirement already satisfied: nvidia-nccl-cu12==2.21.5 in /usr/local/lib/python3.11/dist-packages (from torch>=1.0.0->torchcrf) (2.21.5)\n",
            "Requirement already satisfied: nvidia-nvtx-cu12==12.4.127 in /usr/local/lib/python3.11/dist-packages (from torch>=1.0.0->torchcrf) (12.4.127)\n",
            "Collecting nvidia-nvjitlink-cu12==12.4.127 (from torch>=1.0.0->torchcrf)\n",
            "  Downloading nvidia_nvjitlink_cu12-12.4.127-py3-none-manylinux2014_x86_64.whl.metadata (1.5 kB)\n",
            "Requirement already satisfied: triton==3.2.0 in /usr/local/lib/python3.11/dist-packages (from torch>=1.0.0->torchcrf) (3.2.0)\n",
            "Requirement already satisfied: sympy==1.13.1 in /usr/local/lib/python3.11/dist-packages (from torch>=1.0.0->torchcrf) (1.13.1)\n",
            "Requirement already satisfied: mpmath<1.4,>=1.1.0 in /usr/local/lib/python3.11/dist-packages (from sympy==1.13.1->torch>=1.0.0->torchcrf) (1.3.0)\n",
            "Requirement already satisfied: MarkupSafe>=2.0 in /usr/local/lib/python3.11/dist-packages (from jinja2->torch>=1.0.0->torchcrf) (3.0.2)\n",
            "Downloading TorchCRF-1.1.0-py3-none-any.whl (5.2 kB)\n",
            "Downloading nvidia_cublas_cu12-12.4.5.8-py3-none-manylinux2014_x86_64.whl (363.4 MB)\n",
            "\u001b[2K   \u001b[90m━━━━━━━━━━━━━━━━━━━━━━━━━━━━━━━━━━━━━━━━\u001b[0m \u001b[32m363.4/363.4 MB\u001b[0m \u001b[31m3.7 MB/s\u001b[0m eta \u001b[36m0:00:00\u001b[0m\n",
            "\u001b[?25hDownloading nvidia_cuda_cupti_cu12-12.4.127-py3-none-manylinux2014_x86_64.whl (13.8 MB)\n",
            "\u001b[2K   \u001b[90m━━━━━━━━━━━━━━━━━━━━━━━━━━━━━━━━━━━━━━━━\u001b[0m \u001b[32m13.8/13.8 MB\u001b[0m \u001b[31m78.1 MB/s\u001b[0m eta \u001b[36m0:00:00\u001b[0m\n",
            "\u001b[?25hDownloading nvidia_cuda_nvrtc_cu12-12.4.127-py3-none-manylinux2014_x86_64.whl (24.6 MB)\n",
            "\u001b[2K   \u001b[90m━━━━━━━━━━━━━━━━━━━━━━━━━━━━━━━━━━━━━━━━\u001b[0m \u001b[32m24.6/24.6 MB\u001b[0m \u001b[31m70.7 MB/s\u001b[0m eta \u001b[36m0:00:00\u001b[0m\n",
            "\u001b[?25hDownloading nvidia_cuda_runtime_cu12-12.4.127-py3-none-manylinux2014_x86_64.whl (883 kB)\n",
            "\u001b[2K   \u001b[90m━━━━━━━━━━━━━━━━━━━━━━━━━━━━━━━━━━━━━━━━\u001b[0m \u001b[32m883.7/883.7 kB\u001b[0m \u001b[31m40.8 MB/s\u001b[0m eta \u001b[36m0:00:00\u001b[0m\n",
            "\u001b[?25hDownloading nvidia_cudnn_cu12-9.1.0.70-py3-none-manylinux2014_x86_64.whl (664.8 MB)\n",
            "\u001b[2K   \u001b[90m━━━━━━━━━━━━━━━━━━━━━━━━━━━━━━━━━━━━━━━━\u001b[0m \u001b[32m664.8/664.8 MB\u001b[0m \u001b[31m2.2 MB/s\u001b[0m eta \u001b[36m0:00:00\u001b[0m\n",
            "\u001b[?25hDownloading nvidia_cufft_cu12-11.2.1.3-py3-none-manylinux2014_x86_64.whl (211.5 MB)\n",
            "\u001b[2K   \u001b[90m━━━━━━━━━━━━━━━━━━━━━━━━━━━━━━━━━━━━━━━━\u001b[0m \u001b[32m211.5/211.5 MB\u001b[0m \u001b[31m5.0 MB/s\u001b[0m eta \u001b[36m0:00:00\u001b[0m\n",
            "\u001b[?25hDownloading nvidia_curand_cu12-10.3.5.147-py3-none-manylinux2014_x86_64.whl (56.3 MB)\n",
            "\u001b[2K   \u001b[90m━━━━━━━━━━━━━━━━━━━━━━━━━━━━━━━━━━━━━━━━\u001b[0m \u001b[32m56.3/56.3 MB\u001b[0m \u001b[31m43.1 MB/s\u001b[0m eta \u001b[36m0:00:00\u001b[0m\n",
            "\u001b[?25hDownloading nvidia_cusolver_cu12-11.6.1.9-py3-none-manylinux2014_x86_64.whl (127.9 MB)\n",
            "\u001b[2K   \u001b[90m━━━━━━━━━━━━━━━━━━━━━━━━━━━━━━━━━━━━━━━━\u001b[0m \u001b[32m127.9/127.9 MB\u001b[0m \u001b[31m19.2 MB/s\u001b[0m eta \u001b[36m0:00:00\u001b[0m\n",
            "\u001b[?25hDownloading nvidia_cusparse_cu12-12.3.1.170-py3-none-manylinux2014_x86_64.whl (207.5 MB)\n",
            "\u001b[2K   \u001b[90m━━━━━━━━━━━━━━━━━━━━━━━━━━━━━━━━━━━━━━━━\u001b[0m \u001b[32m207.5/207.5 MB\u001b[0m \u001b[31m4.9 MB/s\u001b[0m eta \u001b[36m0:00:00\u001b[0m\n",
            "\u001b[?25hDownloading nvidia_nvjitlink_cu12-12.4.127-py3-none-manylinux2014_x86_64.whl (21.1 MB)\n",
            "\u001b[2K   \u001b[90m━━━━━━━━━━━━━━━━━━━━━━━━━━━━━━━━━━━━━━━━\u001b[0m \u001b[32m21.1/21.1 MB\u001b[0m \u001b[31m90.0 MB/s\u001b[0m eta \u001b[36m0:00:00\u001b[0m\n",
            "\u001b[?25hInstalling collected packages: nvidia-nvjitlink-cu12, nvidia-curand-cu12, nvidia-cufft-cu12, nvidia-cuda-runtime-cu12, nvidia-cuda-nvrtc-cu12, nvidia-cuda-cupti-cu12, nvidia-cublas-cu12, nvidia-cusparse-cu12, nvidia-cudnn-cu12, nvidia-cusolver-cu12, torchcrf\n",
            "  Attempting uninstall: nvidia-nvjitlink-cu12\n",
            "    Found existing installation: nvidia-nvjitlink-cu12 12.5.82\n",
            "    Uninstalling nvidia-nvjitlink-cu12-12.5.82:\n",
            "      Successfully uninstalled nvidia-nvjitlink-cu12-12.5.82\n",
            "  Attempting uninstall: nvidia-curand-cu12\n",
            "    Found existing installation: nvidia-curand-cu12 10.3.6.82\n",
            "    Uninstalling nvidia-curand-cu12-10.3.6.82:\n",
            "      Successfully uninstalled nvidia-curand-cu12-10.3.6.82\n",
            "  Attempting uninstall: nvidia-cufft-cu12\n",
            "    Found existing installation: nvidia-cufft-cu12 11.2.3.61\n",
            "    Uninstalling nvidia-cufft-cu12-11.2.3.61:\n",
            "      Successfully uninstalled nvidia-cufft-cu12-11.2.3.61\n",
            "  Attempting uninstall: nvidia-cuda-runtime-cu12\n",
            "    Found existing installation: nvidia-cuda-runtime-cu12 12.5.82\n",
            "    Uninstalling nvidia-cuda-runtime-cu12-12.5.82:\n",
            "      Successfully uninstalled nvidia-cuda-runtime-cu12-12.5.82\n",
            "  Attempting uninstall: nvidia-cuda-nvrtc-cu12\n",
            "    Found existing installation: nvidia-cuda-nvrtc-cu12 12.5.82\n",
            "    Uninstalling nvidia-cuda-nvrtc-cu12-12.5.82:\n",
            "      Successfully uninstalled nvidia-cuda-nvrtc-cu12-12.5.82\n",
            "  Attempting uninstall: nvidia-cuda-cupti-cu12\n",
            "    Found existing installation: nvidia-cuda-cupti-cu12 12.5.82\n",
            "    Uninstalling nvidia-cuda-cupti-cu12-12.5.82:\n",
            "      Successfully uninstalled nvidia-cuda-cupti-cu12-12.5.82\n",
            "  Attempting uninstall: nvidia-cublas-cu12\n",
            "    Found existing installation: nvidia-cublas-cu12 12.5.3.2\n",
            "    Uninstalling nvidia-cublas-cu12-12.5.3.2:\n",
            "      Successfully uninstalled nvidia-cublas-cu12-12.5.3.2\n",
            "  Attempting uninstall: nvidia-cusparse-cu12\n",
            "    Found existing installation: nvidia-cusparse-cu12 12.5.1.3\n",
            "    Uninstalling nvidia-cusparse-cu12-12.5.1.3:\n",
            "      Successfully uninstalled nvidia-cusparse-cu12-12.5.1.3\n",
            "  Attempting uninstall: nvidia-cudnn-cu12\n",
            "    Found existing installation: nvidia-cudnn-cu12 9.3.0.75\n",
            "    Uninstalling nvidia-cudnn-cu12-9.3.0.75:\n",
            "      Successfully uninstalled nvidia-cudnn-cu12-9.3.0.75\n",
            "  Attempting uninstall: nvidia-cusolver-cu12\n",
            "    Found existing installation: nvidia-cusolver-cu12 11.6.3.83\n",
            "    Uninstalling nvidia-cusolver-cu12-11.6.3.83:\n",
            "      Successfully uninstalled nvidia-cusolver-cu12-11.6.3.83\n",
            "Successfully installed nvidia-cublas-cu12-12.4.5.8 nvidia-cuda-cupti-cu12-12.4.127 nvidia-cuda-nvrtc-cu12-12.4.127 nvidia-cuda-runtime-cu12-12.4.127 nvidia-cudnn-cu12-9.1.0.70 nvidia-cufft-cu12-11.2.1.3 nvidia-curand-cu12-10.3.5.147 nvidia-cusolver-cu12-11.6.1.9 nvidia-cusparse-cu12-12.3.1.170 nvidia-nvjitlink-cu12-12.4.127 torchcrf-1.1.0\n"
          ]
        }
      ],
      "source": [
        "!pip install torchcrf"
      ]
    },
    {
      "cell_type": "code",
      "execution_count": null,
      "metadata": {
        "id": "ZeWzvMM9FrOA"
      },
      "outputs": [],
      "source": [
        "import torch\n",
        "import torch.nn as nn\n",
        "from transformers import AutoModel, AutoTokenizer, AutoConfig\n",
        "from torchcrf import CRF\n",
        "access_token = \"\"\n",
        "\n",
        "from transformers.modeling_outputs import TokenClassifierOutput\n",
        "\n",
        "from transformers import XLMRobertaConfig, XLMRobertaModel, XLMRobertaPreTrainedModel\n",
        "from transformers import PreTrainedModel\n",
        "from transformers import XLMRobertaForTokenClassification\n",
        "from transformers import XLMRobertaTokenizer\n",
        "\n",
        "\n",
        "class XLMRobertaWithCRF(XLMRobertaPreTrainedModel):\n",
        "    def __init__(self, config):\n",
        "        super().__init__(config)\n",
        "        self.num_labels = config.num_labels\n",
        "        # 用 from_pretrained 來載入預訓練權重\n",
        "        self.roberta = XLMRobertaModel.from_pretrained(\"FacebookAI/xlm-roberta-large-finetuned-conll03-english\", config=config, token=access_token)\n",
        "        self.dropout = nn.Dropout(config.hidden_dropout_prob)\n",
        "        self.classifier = nn.Linear(config.hidden_size, config.num_labels)\n",
        "        self.crf = CRF(config.num_labels, batch_first=True)\n",
        "\n",
        "    def forward(self, input_ids=None, attention_mask=None, labels=None):\n",
        "        outputs = self.roberta(input_ids=input_ids, attention_mask=attention_mask)\n",
        "        sequence_output = self.dropout(outputs.last_hidden_state)\n",
        "        emissions = self.classifier(sequence_output)\n",
        "\n",
        "        loss = None\n",
        "        if labels is not None:\n",
        "            mask = attention_mask.bool()\n",
        "            mask[:, 0] = True  # 確保第一token是有效的mask\n",
        "            loss = -self.crf(emissions, labels, mask=mask, reduction='mean')\n",
        "        return TokenClassifierOutput(\n",
        "            loss=loss,\n",
        "            logits=emissions,\n",
        "        )\n"
      ]
    },
    {
      "cell_type": "code",
      "execution_count": null,
      "metadata": {
        "id": "Jy5Zc_v4hJni"
      },
      "outputs": [],
      "source": [
        "label_map = {\n",
        "    0: 'O',\n",
        "    1: 'B-PATIENT', 2: 'I-PATIENT',\n",
        "    3: 'B-DOCTOR', 4: 'I-DOCTOR',\n",
        "    5: 'B-USERNAME', 6: 'I-USERNAME',\n",
        "    7: 'B-FAMILYNAME', 8: 'I-FAMILYNAME',\n",
        "    9: 'B-PERSONALNAME', 10: 'I-PERSONALNAME',\n",
        "    11: 'B-PROFESSION', 12: 'I-PROFESSION',\n",
        "    13: 'B-ROOM', 14: 'I-ROOM',\n",
        "    15: 'B-DEPARTMENT', 16: 'I-DEPARTMENT',\n",
        "    17: 'B-HOSPITAL', 18: 'I-HOSPITAL',\n",
        "    19: 'B-ORGANIZATION', 20: 'I-ORGANIZATION',\n",
        "    21: 'B-STREET', 22: 'I-STREET',\n",
        "    23: 'B-CITY', 24: 'I-CITY',\n",
        "    25: 'B-DISTRICT', 26: 'I-DISTRICT',\n",
        "    27: 'B-COUNTY', 28: 'I-COUNTY',\n",
        "    29: 'B-STATE', 30: 'I-STATE',\n",
        "    31: 'B-COUNTRY', 32: 'I-COUNTRY',\n",
        "    33: 'B-ZIP', 34: 'I-ZIP',\n",
        "    35: 'B-LOCATION-OTHER', 36: 'I-LOCATION-OTHER',\n",
        "    37: 'B-AGE', 38: 'I-AGE',\n",
        "    39: 'B-DATE', 40: 'I-DATE',\n",
        "    41: 'B-TIME', 42: 'I-TIME',\n",
        "    43: 'B-DURATION', 44: 'I-DURATION',\n",
        "    45: 'B-SET', 46: 'I-SET',\n",
        "    47: 'B-PHONE', 48: 'I-PHONE',\n",
        "    49: 'B-FAX', 50: 'I-FAX',\n",
        "    51: 'B-EMAIL', 52: 'I-EMAIL',\n",
        "    53: 'B-URL', 54: 'I-URL',\n",
        "    55: 'B-IPADDRESS', 56: 'I-IPADDRESS',\n",
        "    57: 'B-SOCIAL_SECURITY_NUMBER', 58: 'I-SOCIAL_SECURITY_NUMBER',\n",
        "    59: 'B-MEDICAL_RECORD_NUMBER', 60: 'I-MEDICAL_RECORD_NUMBER',\n",
        "    61: 'B-HEALTH_PLAN_NUMBER', 62: 'I-HEALTH_PLAN_NUMBER',\n",
        "    63: 'B-ACCOUNT_NUMBER', 64: 'I-ACCOUNT_NUMBER',\n",
        "    65: 'B-LICENSE_NUMBER', 66: 'I-LICENSE_NUMBER',\n",
        "    67: 'B-VEHICLE_ID', 68: 'I-VEHICLE_ID',\n",
        "    69: 'B-DEVICE_ID', 70: 'I-DEVICE_ID',\n",
        "    71: 'B-BIOMETRIC_ID', 72: 'I-BIOMETRIC_ID',\n",
        "    73: 'B-ID_NUMBER', 74: 'I-ID_NUMBER',\n",
        "    75: 'B-OTHER', 76: 'I-OTHER',\n",
        "    77: 'IGNORE'\n",
        "}"
      ]
    },
    {
      "cell_type": "code",
      "execution_count": null,
      "metadata": {
        "id": "bUhHM7jMQmSg"
      },
      "outputs": [],
      "source": [
        "from transformers import AutoTokenizer\n",
        "\n",
        "access_token = \"\"\n",
        "\n",
        "model_name = \"FacebookAI/xlm-roberta-large-finetuned-conll03-english\"\n",
        "tokenizer = AutoTokenizer.from_pretrained(model_name, token = access_token )\n",
        "\n",
        "from transformers import XLMRobertaConfig\n",
        "\n",
        "config = XLMRobertaConfig.from_pretrained(model_name, num_labels=len(label_map))\n",
        "model = XLMRobertaWithCRF(config)\n",
        "\n",
        "\n",
        "model.config.id2label = label_map\n",
        "model.config.label2id = {v:k for k,v in label_map.items()}"
      ]
    },
    {
      "cell_type": "code",
      "execution_count": null,
      "metadata": {
        "colab": {
          "base_uri": "https://localhost:8080/"
        },
        "id": "HaFPkMh-T6Jt",
        "outputId": "f02e45f2-9579-49ea-cc85-f45b59d51b15"
      },
      "outputs": [
        {
          "name": "stdout",
          "output_type": "stream",
          "text": [
            "新的 id2label: {0: 'O', 1: 'B-PATIENT', 2: 'I-PATIENT', 3: 'B-DOCTOR', 4: 'I-DOCTOR', 5: 'B-USERNAME', 6: 'I-USERNAME', 7: 'B-FAMILYNAME', 8: 'I-FAMILYNAME', 9: 'B-PERSONALNAME', 10: 'I-PERSONALNAME', 11: 'B-PROFESSION', 12: 'I-PROFESSION', 13: 'B-ROOM', 14: 'I-ROOM', 15: 'B-DEPARTMENT', 16: 'I-DEPARTMENT', 17: 'B-HOSPITAL', 18: 'I-HOSPITAL', 19: 'B-ORGANIZATION', 20: 'I-ORGANIZATION', 21: 'B-STREET', 22: 'I-STREET', 23: 'B-CITY', 24: 'I-CITY', 25: 'B-DISTRICT', 26: 'I-DISTRICT', 27: 'B-COUNTY', 28: 'I-COUNTY', 29: 'B-STATE', 30: 'I-STATE', 31: 'B-COUNTRY', 32: 'I-COUNTRY', 33: 'B-ZIP', 34: 'I-ZIP', 35: 'B-LOCATION-OTHER', 36: 'I-LOCATION-OTHER', 37: 'B-AGE', 38: 'I-AGE', 39: 'B-DATE', 40: 'I-DATE', 41: 'B-TIME', 42: 'I-TIME', 43: 'B-DURATION', 44: 'I-DURATION', 45: 'B-SET', 46: 'I-SET', 47: 'B-PHONE', 48: 'I-PHONE', 49: 'B-FAX', 50: 'I-FAX', 51: 'B-EMAIL', 52: 'I-EMAIL', 53: 'B-URL', 54: 'I-URL', 55: 'B-IPADDRESS', 56: 'I-IPADDRESS', 57: 'B-SOCIAL_SECURITY_NUMBER', 58: 'I-SOCIAL_SECURITY_NUMBER', 59: 'B-MEDICAL_RECORD_NUMBER', 60: 'I-MEDICAL_RECORD_NUMBER', 61: 'B-HEALTH_PLAN_NUMBER', 62: 'I-HEALTH_PLAN_NUMBER', 63: 'B-ACCOUNT_NUMBER', 64: 'I-ACCOUNT_NUMBER', 65: 'B-LICENSE_NUMBER', 66: 'I-LICENSE_NUMBER', 67: 'B-VEHICLE_ID', 68: 'I-VEHICLE_ID', 69: 'B-DEVICE_ID', 70: 'I-DEVICE_ID', 71: 'B-BIOMETRIC_ID', 72: 'I-BIOMETRIC_ID', 73: 'B-ID_NUMBER', 74: 'I-ID_NUMBER', 75: 'B-OTHER', 76: 'I-OTHER', 77: 'IGNORE'}\n",
            "新的 label2id: {'O': 0, 'B-PATIENT': 1, 'I-PATIENT': 2, 'B-DOCTOR': 3, 'I-DOCTOR': 4, 'B-USERNAME': 5, 'I-USERNAME': 6, 'B-FAMILYNAME': 7, 'I-FAMILYNAME': 8, 'B-PERSONALNAME': 9, 'I-PERSONALNAME': 10, 'B-PROFESSION': 11, 'I-PROFESSION': 12, 'B-ROOM': 13, 'I-ROOM': 14, 'B-DEPARTMENT': 15, 'I-DEPARTMENT': 16, 'B-HOSPITAL': 17, 'I-HOSPITAL': 18, 'B-ORGANIZATION': 19, 'I-ORGANIZATION': 20, 'B-STREET': 21, 'I-STREET': 22, 'B-CITY': 23, 'I-CITY': 24, 'B-DISTRICT': 25, 'I-DISTRICT': 26, 'B-COUNTY': 27, 'I-COUNTY': 28, 'B-STATE': 29, 'I-STATE': 30, 'B-COUNTRY': 31, 'I-COUNTRY': 32, 'B-ZIP': 33, 'I-ZIP': 34, 'B-LOCATION-OTHER': 35, 'I-LOCATION-OTHER': 36, 'B-AGE': 37, 'I-AGE': 38, 'B-DATE': 39, 'I-DATE': 40, 'B-TIME': 41, 'I-TIME': 42, 'B-DURATION': 43, 'I-DURATION': 44, 'B-SET': 45, 'I-SET': 46, 'B-PHONE': 47, 'I-PHONE': 48, 'B-FAX': 49, 'I-FAX': 50, 'B-EMAIL': 51, 'I-EMAIL': 52, 'B-URL': 53, 'I-URL': 54, 'B-IPADDRESS': 55, 'I-IPADDRESS': 56, 'B-SOCIAL_SECURITY_NUMBER': 57, 'I-SOCIAL_SECURITY_NUMBER': 58, 'B-MEDICAL_RECORD_NUMBER': 59, 'I-MEDICAL_RECORD_NUMBER': 60, 'B-HEALTH_PLAN_NUMBER': 61, 'I-HEALTH_PLAN_NUMBER': 62, 'B-ACCOUNT_NUMBER': 63, 'I-ACCOUNT_NUMBER': 64, 'B-LICENSE_NUMBER': 65, 'I-LICENSE_NUMBER': 66, 'B-VEHICLE_ID': 67, 'I-VEHICLE_ID': 68, 'B-DEVICE_ID': 69, 'I-DEVICE_ID': 70, 'B-BIOMETRIC_ID': 71, 'I-BIOMETRIC_ID': 72, 'B-ID_NUMBER': 73, 'I-ID_NUMBER': 74, 'B-OTHER': 75, 'I-OTHER': 76, 'IGNORE': 77}\n"
          ]
        }
      ],
      "source": [
        "print(\"新的 id2label:\", model.config.id2label)\n",
        "print(\"新的 label2id:\", model.config.label2id)"
      ]
    },
    {
      "cell_type": "markdown",
      "metadata": {
        "id": "-pJ4iAcwmSQO"
      },
      "source": [
        "# **資料準備**\n"
      ]
    },
    {
      "cell_type": "code",
      "execution_count": null,
      "metadata": {
        "colab": {
          "base_uri": "https://localhost:8080/"
        },
        "id": "d9FF8rzASOax",
        "outputId": "f0198faf-720a-4812-ec05-776f5f5afbf8"
      },
      "outputs": [
        {
          "name": "stdout",
          "output_type": "stream",
          "text": [
            "Mounted at /content/drive\n"
          ]
        }
      ],
      "source": [
        "from google.colab import drive\n",
        "drive.mount('/content/drive')"
      ]
    },
    {
      "cell_type": "code",
      "execution_count": null,
      "metadata": {
        "id": "2SdsW_ccnnwr"
      },
      "outputs": [],
      "source": [
        "def Caculate_Wav_File_Times( inputs ) :\n",
        "\n",
        "        read = inputs\n",
        "\n",
        "        dict_times = {}\n",
        "        for line in read:\n",
        "            line = line.strip()\n",
        "            line_split = line.split('\\t')\n",
        "\n",
        "            if line_split[0] not in dict_times :\n",
        "                dict_times[line_split[0]] = 1\n",
        "            else:\n",
        "                dict_times[line_split[0]] = dict_times[line_split[0]]  + 1\n",
        "\n",
        "        return dict_times"
      ]
    },
    {
      "cell_type": "code",
      "execution_count": null,
      "metadata": {
        "id": "sFDTcWSqmRxS"
      },
      "outputs": [],
      "source": [
        "# with open( \"/content/task2_answer.txt\", \"r\", encoding=\"utf-8\" ) as f :\n",
        "#   data = f.readlines()\n",
        "\n",
        "def Prepare_Task2_NER(data) :\n",
        "  data_times_dict = Caculate_Wav_File_Times( data )\n",
        "\n",
        "\n",
        "  data_list = {}\n",
        "  temp_dict = {}\n",
        "  temp_list = []\n",
        "\n",
        "  while data :\n",
        "\n",
        "    times = data_times_dict[data[0].split('\\t')[0]]\n",
        "\n",
        "    for i in range( times  ) :\n",
        "\n",
        "      line = data[i]\n",
        "\n",
        "\n",
        "      line = line.strip()\n",
        "      line_split = line.split(\"\\t\")\n",
        "\n",
        "\n",
        "\n",
        "      temp_dict[ line_split[4] ] = line_split[1]\n",
        "      temp_list.append( temp_dict )\n",
        "      temp_dict = {}\n",
        "\n",
        "    data_list[ data[0].split('\\t')[0] ] = temp_list\n",
        "    temp_list = []\n",
        "\n",
        "\n",
        "    data = data[times:]\n",
        "\n",
        "\n",
        "  print(data_list)\n",
        "\n",
        "  return data_list\n",
        "\n"
      ]
    },
    {
      "cell_type": "code",
      "execution_count": null,
      "metadata": {
        "colab": {
          "base_uri": "https://localhost:8080/"
        },
        "id": "vaQEOcNxpIgS",
        "outputId": "9e2dd937-2b9c-44a4-862d-929c51ffd220"
      },
      "outputs": [
        {
          "name": "stdout",
          "output_type": "stream",
          "text": [
            "2113\n",
            "{'1848': [{'quite a while': 'DURATION'}], '1933': [{'Kelly': 'PERSONALNAME'}, {'a week': 'DURATION'}, {'today': 'DATE'}, {'a week': 'DURATION'}, {'yesterday': 'DATE'}], '2043': [{'Josh': 'FAMILYNAME'}], '2053': [{'now': 'DATE'}], '2087': [{'12 sessions': 'DURATION'}, {'12 sessions': 'DURATION'}], '10042': [{'June': 'PATIENT'}, {'today': 'DATE'}, {'Jones': 'DOCTOR'}, {'last few months': 'DURATION'}], '10224': [{'yesterday': 'DATE'}], '10858': [{'next week': 'DATE'}, {'July': 'DATE'}], '10868': [{'Board': 'DOCTOR'}], '10971': [{'today': 'DATE'}, {'day': 'DATE'}, {'today': 'DATE'}, {'day': 'DATE'}, {'morning': 'TIME'}, {'morning': 'TIME'}, {'Micah': 'DOCTOR'}], '11053': [{'six months': 'DURATION'}], '11057': [{'now': 'DATE'}], '11081': [{'80': 'AGE'}, {'Harold': 'FAMILYNAME'}], '11546': [{'Amy': 'PERSONALNAME'}, {'Erin': 'PERSONALNAME'}, {'Erin': 'PERSONALNAME'}, {'two hours': 'DURATION'}, {'nights': 'TIME'}], '11982': [{'two weeks': 'DURATION'}], '12371': [{'next week': 'DATE'}, {'month': 'DATE'}], '12543': [{'a weekend': 'DURATION'}, {'now': 'DATE'}], '12559': [{'yesterday': 'DATE'}], '12981': [{'Lucille': 'PERSONALNAME'}, {'America': 'COUNTRY'}], '13061': [{'David': 'PERSONALNAME'}, {'weekend': 'DURATION'}], '13589': [{'September 1st': 'DATE'}, {'an hour': 'DURATION'}, {'six hour': 'DURATION'}, {'three': 'DURATION'}, {'four hours': 'DURATION'}], '13755': [{'this week': 'DATE'}], '13855': [{'last week': 'DATE'}], '14289': [{'Ohio': 'STATE'}, {'Department of Biomechanics': 'DEPARTMENT'}], '14649': [{'last week': 'DATE'}], '14652': [{'James': 'FAMILYNAME'}], '14689': [{'a lawyer': 'PROFESSION'}], '14722': [{'Madison': 'PERSONALNAME'}, {'babysitter': 'PROFESSION'}, {'Christopher': 'PERSONALNAME'}, {'Christopher': 'PERSONALNAME'}, {'Christopher': 'PERSONALNAME'}], '14897': [{'now': 'DATE'}], '14915': [{'four AM': 'TIME'}, {'two AM': 'TIME'}, {'a two hour': 'DURATION'}, {'now': 'DATE'}], '14990': [{'Christmas': 'DATE'}], '15070': [{'night': 'TIME'}, {'morning': 'TIME'}], '15115': [{'last year': 'DATE'}], '15141': [{'This week': 'DATE'}], '15190': [{'a lot of time': 'DURATION'}], '15228': [{'Margaret Cho': 'PERSONALNAME'}, {'salon.com': 'URL'}], '15361': [{'now': 'DATE'}, {'this morning': 'TIME'}, {'two hours': 'DURATION'}, {'half an hour': 'DURATION'}, {'James': 'PERSONALNAME'}], '15406': [{'Carl': 'PERSONALNAME'}, {'911': 'PHONE'}], '15450': [{'three weeks': 'DURATION'}, {'a half hour': 'DURATION'}], '15570': [{'today': 'DATE'}, {'last Tuesday': 'DATE'}, {'morning': 'TIME'}, {'afternoon': 'TIME'}, {'hour': 'DURATION'}, {'an hour': 'TIME'}, {'now': 'DATE'}], '17504': [{'every day': 'SET'}], '18149': [{'Ramona': 'PATIENT'}, {'30 minutes': 'DURATION'}, {'30 minutes': 'DURATION'}], '18301': [{'a few days': 'DURATION'}, {'Tonya': 'FAMILYNAME'}], '18330': [{'three weeks': 'DURATION'}], '18341': [{'Tonya': 'PATIENT'}], '18354': [{'Tanya': 'FAMILYNAME'}], '18635': [{'Georgia': 'PERSONALNAME'}, {'Hamden': 'CITY'}, {'Sydney': 'PERSONALNAME'}, {'Aaron': 'PERSONALNAME'}], '18897': [{'a period of time': 'DURATION'}, {'every couple': 'SET'}, {'three days': 'SET'}], '18968': [{'Jessa': 'PATIENT'}], '18994': [{'now': 'DATE'}], '19137': [{'Harold': 'FAMILYNAME'}], '19226': [{'Cambridge': 'ORGANIZATION'}], '19229': [{'yesterday': 'DATE'}, {'Monday': 'DATE'}, {'yesterday': 'DATE'}, {'Monday night': 'TIME'}], '19903': [{'now': 'DATE'}], '20055': [{'yesterday': 'DATE'}], '20205': [{'now': 'DATE'}, {'James': 'PERSONALNAME'}, {'once a week': 'SET'}, {'James': 'PERSONALNAME'}, {'next year': 'DATE'}], '20743': [{'September': 'DATE'}, {'June': 'DATE'}, {'July': 'DATE'}, {'August': 'DATE'}], '21310': [{'last week': 'DATE'}, {'This week': 'DATE'}, {'Tuesday night': 'TIME'}], '21410': [{'yesterday': 'DATE'}, {'day': 'DATE'}], '21487': [{'now': 'DATE'}, {'now': 'DATE'}, {'now': 'DATE'}, {'Now': 'DATE'}], '21571': [{'Tanya': 'FAMILYNAME'}], '21588': [{'Farrow': 'DOCTOR'}, {'a while': 'DOCTOR'}], '21627': [{'yesterday': 'DATE'}, {'December': 'DATE'}, {'January': 'DATE'}, {'a month': 'DURATION'}], '21723': [{'Tonya': 'PERSONALNAME'}, {'James': 'FAMILYNAME'}, {'Chad': 'DOCTOR'}, {'10 minutes': 'DURATION'}], '22059': [{'now': 'DATE'}], '22069': [{'a six month': 'DURATION'}], '22166': [{'tomorrow': 'DATE'}, {'Jess': 'PERSONALNAME'}], '22216': [{'a week of Christmas': 'DURATION'}, {'New Year': 'DURATION'}, {'tomorrow': 'DATE'}, {'tomorrow': 'DATE'}], '22490': [{'lawyer': 'PROFESSION'}], '22493': [{'Tanya': 'FAMILYNAME'}], '22607': [{'Tonya': 'FAMILYNAME'}, {'now': 'DATE'}], '22685': [{'three days a week': 'SET'}, {'10 hours a day': 'SET'}], '22827': [{'Tanya': 'FAMILYNAME'}, {'Tanya': 'FAMILYNAME'}], '22877': [{'13': 'AGE'}], '23413': [{'weeks': 'DURATION'}, {'months': 'DURATION'}, {'now': 'DATE'}, {'now': 'DATE'}], '23534': [{'six months': 'DURATION'}, {'now': 'DATE'}], '23637': [{'Tuesday': 'DATE'}], '23970': [{'days': 'DURATION'}, {'Lent': 'DURATION'}], '24009': [{'now': 'DATE'}], '3252': [{'Tanya': 'FAMILYNAME'}], '3254': [{'McNally': 'DOCTOR'}, {'now': 'DATE'}, {'Yesterday': 'DATE'}], '3679': [{'several months': 'DURATION'}, {'Sydney': 'PERSONALNAME'}, {'several months': 'DURATION'}], '3746': [{'Jonas': 'PERSONALNAME'}, {'Corey': 'PERSONALNAME'}], '3769': [{'Ivan': 'FAMILYNAME'}], '3875': [{'now': 'DATE'}], '4086': [{'Elaina': 'PERSONALNAME'}, {'days': 'DURATION'}], '4113': [{'day': 'DATE'}, {'mid': 'TIME'}, {'late day': 'TIME'}, {'Saturday': 'DATE'}, {'two and a half hours': 'DURATION'}, {'Saturday': 'DATE'}, {'day': 'DATE'}, {'Saturday': 'DATE'}, {'day': 'DATE'}, {'yesterday': 'DATE'}], '4203': [{'Emma': 'FAMILYNAME'}, {'40 hours a week': 'SET'}], '32728': [{'James': 'PERSONALNAME'}, {'15 minutes': 'DURATION'}], '32764': [{'Frederick': 'CITY'}], '32851': [{'Joanne': 'PERSONALNAME'}, {'interpreter': 'PROFESSION'}], '32921': [{'Sydney': 'PERSONALNAME'}, {'night': 'TIME'}], '33466': [{'35': 'AGE'}, {'23': 'AGE'}], '33580': [{'Franco': 'PERSONALNAME'}, {'now': 'DATE'}, {'a month': 'DURATION'}, {'a year or': 'DURATION'}], '33709': [{'now': 'DATE'}], '33792': [{'a week': 'DURATION'}], '34252': [{'RA': 'STATE'}, {'RA': 'STATE'}, {'RI': 'STATE'}, {'RI': 'STATE'}], '34804': [{'August 30th': 'DATE'}, {'six days': 'DURATION'}, {'Lee': 'PERSONALNAME'}, {'day to': 'DURATION'}, {'a September 2nd': 'DATE'}], '34923': [{'a long time': 'DURATION'}], '35001': [{'Sydney': 'CITY'}, {'New Haven': 'LOCATION-OTHER'}, {'Barnes': 'DOCTOR'}], '35286': [{'every day': 'SET'}, {\"five o'clock\": 'TIME'}, {'five minutes': 'DURATION'}], '35492': [{'once': 'SET'}, {'twice a week': 'SET'}, {'every couple of weeks': 'SET'}], '35705': [{'Ramona': 'PATIENT'}], '35841': [{'a day': 'DURATION'}, {'once a day': 'SET'}], '36118': [{'now': 'DATE'}, {'19': 'AGE'}], '36157': [{'today': 'DATE'}, {'today': 'DATE'}], '36169': [{'today': 'DATE'}, {'tomorrow': 'DATE'}], '36394': [{'a couple of years': 'DURATION'}], '36539': [{'week': 'DURATION'}, {'this coming week': 'DATE'}], '36643': [{'Jess': 'PERSONALNAME'}, {'Ian': 'PERSONALNAME'}, {'Ian': 'PERSONALNAME'}, {'Sunday night': 'TIME'}], '36687': [{'Mark': 'PERSONALNAME'}], '37099': [{'Philip': 'PERSONALNAME'}, {'Amy': 'PERSONALNAME'}, {'now': 'DATE'}], '37187': [{'now': 'DATE'}], '37444': [{'now': 'DATE'}, {'now': 'DATE'}], '37632': [{'Ivan': 'FAMILYNAME'}, {'now': 'DATE'}], '37829': [{'Sunday': 'DATE'}], '38066': [{'all night': 'DURATION'}], '38256': [{'last Tuesday': 'DATE'}, {'last Tuesday': 'DATE'}], '38276': [{'this week': 'DURATION'}, {'couple months': 'DURATION'}], '38427': [{'Tuesday': 'DATE'}, {'Tuesday': 'DATE'}, {'29th': 'DATE'}, {'a week': 'DURATION'}, {'today': 'DATE'}, {'today': 'DATE'}, {'that morning': 'TIME'}, {'today': 'DATE'}], '38509': [{'yesterday': 'DATE'}, {'Jess': 'PERSONALNAME'}, {' weekend': 'DURATION'}, {'day': 'DURATION'}, {'day': 'DURATION'}, {'Ian': 'FAMILYNAME'}], '38566': [{'Yvonne': 'PERSONALNAME'}, {'Yvonne': 'PERSONALNAME'}, {'three nights': 'DURATION'}, {'Madison Pete': 'PERSONALNAME'}], '38675': [{'Jess': 'PERSONALNAME'}, {'Ian': 'PERSONALNAME'}], '38771': [{'manager': 'PROFESSION'}, {'Subway': 'ORGANIZATION'}], '39025': [{'White': 'DOCTOR'}], '39070': [{'one application a week': 'SET'}, {'weeks': 'DURATION'}, {'one application a week': 'SET'}, {'right now': 'DATE'}, {'last week': 'DATE'}], '39327': [{'Ivan': 'FAMILYNAME'}], '39614': [{'Ian': 'PERSONALNAME'}, {'now': 'DATE'}, {'Tuesday next week': 'DATE'}, {'Friday': 'DATE'}, {'next week': 'DATE'}], '39623': [{'today': 'DATE'}, {'Jess': 'PERSONALNAME'}, {'today': 'DATE'}, {'Friday': 'DATE'}, {'next Wednesday': 'DATE'}, {' day': 'DATE'}], '39927': [{'hours': 'DURATION'}], '40092': [{\"New Year's Eve\": 'DATE'}, {' week': 'DURATION'}], '40211': [{'now': 'DATE'}, {'Tanya': 'PERSONALNAME'}], '40232': [{'now': 'DATE'}], '40255': [{'Tanya': 'FAMILYNAME'}], '40417': [{'last week': 'DATE'}], '40597': [{'a week': 'DURATION'}, {'today': 'DATE'}], '40712': [{'Josh': 'FAMILYNAME'}, {'hours': 'DURATION'}, {'hours': 'DURATION'}, {'hours': 'DURATION'}, {'Josh': 'FAMILYNAME'}, {'yesterday': 'DATE'}], '40881': [{'last year': 'DATE'}], '40905': [{'now': 'DATE'}], '40921': [{'Marie': 'PERSONALNAME'}, {' Chicago': 'CITY'}], '41250': [{'Harold': 'FAMILYNAME'}, {'Harold': 'FAMILYNAME'}, {'Harold': 'FAMILYNAME'}, {'Harold': 'FAMILYNAME'}], '41529': [{'Jessa': 'PATIENT'}], '41606': [{'mid-afternoon': 'TIME'}, {'every day': 'SET'}, {'every day': 'SET'}, {'every day': 'SET'}, {'a day': 'DURATION'}], '41674': [{'now': 'DATE'}], '41792': [{'next week': 'DATE'}, {'last night': 'TIME'}], '42383': [{'now': 'DATE'}, {'now': 'DATE'}], '42769': [{'a number of years': 'DURATION'}], '43040': [{'Harold': 'FAMILYNAME'}, {'now': 'DATE'}, {'Now': 'DATE'}], '43330': [{\"Jewish girl's school\": 'ORGANIZATION'}], '43614': [{'now': 'DATE'}], '53597': [{'Holy Harbour': 'STREET'}, {'Mildura': 'CITY'}, {'Queensland': 'STATE'}, {'6038': 'ZIP'}, {'April 16, 2011': 'DATE'}, {'July 4, 2012': 'DATE'}, {'1:47 PM': 'TIME'}, {'Stacy': 'PATIENT'}, {'Orana Department': 'DEPARTMENT'}, {'Port Pirie Hospital': 'HOSPITAL'}, {'Adam': 'DOCTOR'}], '53609': [{'7189308.GRC': 'MEDICAL_RECORD_NUMBER'}, {'patient Leandra Langehennig': 'PATIENT'}, {'October 2, 1984': 'DATE'}, {'71V930826C': 'ID_NUMBER'}], '53639': [{'Maria’s case': 'PATIENT'}, {'83829154': 'ID_NUMBER'}], '53645': [{'June 20, 2012': 'DATE'}, {'1:25 PM': 'TIME'}, {'August 23, 2062': 'DATE'}, {'Zubac': 'DOCTOR'}, {'August 27, 2062': 'DATE'}, {'Grant': 'DOCTOR'}, {'next day': 'DATE'}, {'August 28': 'DATE'}], '53685': [{'U Sorbera': 'DOCTOR'}], '53746': [{'Q Breyers': 'DOCTOR'}], '53749': [{'73H42958': 'ID_NUMBER'}, {'Gordan': 'PATIENT'}, {'Dumbleyung Memorial Hospital': 'HOSPITAL'}, {'Dickinson 3 South department': 'DEPARTMENT'}, {'Gordan': 'PATIENT'}, {'April 3, 2014': 'DATE'}, {'11:26 AM': 'TIME'}, {'11:23 PM': 'TIME'}, {'same day': 'DATE'}], '53810': [{'O Nusz': 'DOCTOR'}, {'August 10, 2062': 'DATE'}, {'October 10, 2062': 'DATE'}, {'Kieran Lamar Clyde Moriarty': 'PATIENT'}], '53840': [{'40O974608B': 'ID_NUMBER'}, {'40O97460': 'ID_NUMBER'}], '53892': [{'79161': 'ID_NUMBER'}, {'Tom resides': 'PATIENT'}, {'Oxendon': 'STREET'}, {'Silverdale': 'CITY'}, {'Victoria': 'STATE'}, {'7248': 'ZIP'}, {'July 7, 1985': 'DATE'}, {'July 9, 2012': 'DATE'}, {'9:14 AM': 'TIME'}, {'Coronary Care Unit': 'DEPARTMENT'}, {'Narrandera Hospital': 'HOSPITAL'}], '53897': [{'94Y020433U': 'ID_NUMBER'}, {'Oliver Antonio': 'PATIENT'}, {'June 25, 2017': 'DATE'}, {'9490204.JJU': 'MEDICAL_RECORD_NUMBER'}], '53948': [{' HAPS Department': 'DEPARTMENT'}, {' Mungindi Hospital': 'HOSPITAL'}, {'Nate Khokher': 'DOCTOR'}, {'U. Gmernicki': 'DOCTOR'}], '53988': [{'August 27, 2062': 'DATE'}, {'Kross': 'DOCTOR'}, {'August 28, 2062,': 'DATE'}, {'Davis': 'DOCTOR'}], '54003': [{'Cleveland Clifton Kliethermes': 'DOCTOR'}, {'Richie Ramariz': 'DOCTOR'}, {'CX': 'DOCTOR'}, {'FW': 'DOCTOR'}, {'U Clayter': 'DOCTOR'}, {'U Wehmeyer': 'DOCTOR'}, {'June 9, 2064': 'DATE'}, {'June 17, 2064': 'DATE'}], '54005': [{'Floyd Gavin Shelby Bruski': 'PATIENT'}, {'95W7854197': 'ID_NUMBER'}, {'958785.KFZ': 'MEDICAL_RECORD_NUMBER'}, {'L7 Consulting Rooms': 'DEPARTMENT'}, {'Dorrigo Multi Purpose Service': 'HOSPITAL'}], '54020': [{'Chase Wyatt Capria': 'DOCTOR'}, {'TC': 'DOCTOR'}, {'October 3, 2062': 'DATE'}, {'T Chadek': 'DOCTOR'}], '54068': [{'Jolin': 'PATIENT'}, {'Reddall Street': 'STREET'}, {'Encounter Bay': 'CITY'}, {'Australian Capital Territory': 'STATE'}, {'3783': 'ZIP'}, {'December 3, 2019': 'DATE'}], '54132': [{'Today': 'DATE'}, {'Nikola Mood': 'PATIENT'}, {'83Z179706W': 'ID_NUMBER'}, {'8391797.AQW': 'MEDICAL_RECORD_NUMBER'}], '54210': [{' Ashley Iverson': 'PATIENT'}, {'19N034545E': 'ID_NUMBER'}, {'1950345.KPE': 'MEDICAL_RECORD_NUMBER'}, {'Ashley': 'PATIENT'}, {'19N03454': 'ID_NUMBER'}], '54281': [{'Haliburton': 'DOCTOR'}, {'Payton': 'DOCTOR'}, {'Turner': 'DOCTOR'}, {'August 27, 2062': 'DATE'}, {'Batty continued': 'PATIENT'}, {'Valentine': 'DOCTOR'}, {'Knight': 'DOCTOR'}], '54420': [{'Nida': 'PATIENT'}, {'Nida': 'PATIENT'}, {'Kimball Hill': 'STREET'}, {'Launceston': 'CITY'}, {'QLD': 'STATE'}, {'1314': 'ZIP'}, {'July 28, 1997': 'DATE'}, {'May 29, 2012': 'TIME'}], '54499': [{'Carol': 'PATIENT'}, {'South Tinnin': 'STREET'}, {'Bega': 'CITY'}, {'Northern Territory': 'STATE'}, {'2559': 'ZIP'}, {'October 24, 2004': 'DATE'}, {'July 11, 2012': 'DATE'}, {'10:29 AM': 'TIME'}], '54514': [{'July 26, 2012': 'DATE'}, {'11:59 AM from': 'TIME'}, {'West Department': 'DEPARTMENT'}, {'Tallangatta Health Service': 'HOSPITAL'}, {'Jere Gueits': 'DOCTOR'}, {'September 29, 2062': 'DATE'}, {'M Adair': 'DOCTOR'}], '54523': [{'Today': 'DATE'}, {'Calvin Enger': 'PATIENT'}, {'97A914399O': 'ID_NUMBER'}, {'9709143.YYO': 'MEDICAL_RECORD_NUMBER'}, {'97A91439': 'ID_NUMBER'}], '54657': [{'June 5, 2012': 'DATE'}, {'12:07 PM': 'TIME'}, {'Mason': 'PATIENT'}, {'Orana Department': 'DEPARTMENT'}, {'Richmond Hospital': 'HOSPITAL'}, {'Bosh': 'DOCTOR'}], '54702': [{'Katrina Rose': 'PATIENT'}, {'64': 'AGE'}, {'Gobind Street': 'STREET'}, {'Sanctuary Point': 'CITY'}, {'New South Wales': 'STATE'}, {'3387': 'ZIP'}, {'Cootamundra District Hospital': 'HOSPITAL'}], '54763': [{'July 3, 2012': 'DATE'}, {'4:11 PM': 'TIME'}, {'Nikola': 'PATIENT'}, {'PathologyWest': 'DEPARTMENT'}, {'Bamaga Hospital': 'HOSPITAL'}, {'Charlotte': 'DOCTOR'}], '54812': [{'Marvin': 'DOCTOR'}, {'Vincent': 'DOCTOR'}, {'Kuminga': 'DOCTOR'}, {'Ellis': 'DOCTOR'}, {'July 1, 2062': 'DATE'}, {'November 8, 2062': 'DATE'}, {'October 28, 2063': 'DATE'}, {'October 28': 'DATE'}], '54893': [{'Walton': 'DOCTOR'}, {'September 12, 2062': 'DATE'}, {'Prince': 'DOCTOR'}], '54999': [{'Bradly Vella': 'PATIENT'}, {'6100948.NMR': 'MEDICAL_RECORD_NUMBER'}, {'61B09485': 'ID_NUMBER'}, {'May 22, 2064': 'DATE'}], '1461': [{'Ivan': 'FAMILYNAME'}, {'Ivan': 'FAMILYNAME'}, {'Ivan': 'FAMILYNAME'}, {'Martin': 'PERSONALNAME'}, {'Bourd': 'DOCTOR'}], '1472': [{'six months': 'DURATION'}], '1527': [{'lunchtime': 'TIME'}, {'Friday': 'DATE'}, {'today': 'DATE'}], '1639': [{'sixth day': 'DATE'}], '1872': [{'three hours': 'DURATION'}], '1899': [{'now': 'DATE'}, {'Madison': 'PERSONALNAME'}, {'Madison': 'PERSONALNAME'}, {'two years': 'DURATION'}], '1907': [{'today': 'DATE'}, {'Tomorrow': 'DATE'}, {'6:30': 'TIME'}], '1931': [{'today': 'DATE'}, {'Ash Wednesday': 'DATE'}, {'this evening': 'TIME'}], '10104': [{'Geneva': 'COUNTRY'}], '10182': [{'a whole week': 'DURATION'}, {'now': 'DATE'}], '10346': [{'Tuesday morning': 'TIME'}], '10435': [{'Christopher': 'PERSONALNAME'}], '10466': [{'in the moment': 'DATE'}, {'now': 'DATE'}], '10557': [{'Syria': 'COUNTRY'}], '10724': [{'James': 'PERSONALNAME'}], '10970': [{'last several weeks': 'DURATION'}], '11013': [{'this morning': 'TIME'}], '11023': [{'Tanya': 'PERSONALNAME'}, {'Tanya': 'PERSONALNAME'}], '11211': [{'next week': 'DATE'}], '11949': [{'Jess': 'PERSONALNAME'}, {'Ian': 'PERSONALNAME'}], '11963': [{'sophomore year': 'DATE'}], '12040': [{'now': 'DATE'}], '12074': [{'Ivan': 'FAMILYNAME'}], '12154': [{'now': 'DATE'}, {'evening': 'DURATION'}], '12703': [{'couple minutes': 'DURATION'}, {'seven minutes': 'DURATION'}], '12902': [{'Yvonne': 'PERSONALNAME'}, {'five': 'AGE'}, {'five': 'AGE'}, {'six': 'AGE'}], '12967': [{'Roxbury': 'LOCATION-OTHER'}], '13144': [{'now': 'DATE'}, {'a few hours': 'DURATION'}, {'a few days': 'DURATION'}], '13251': [{'Now': 'DATE'}], '13320': [{'Jess': 'PERSONALNAME'}], '13442': [{'today': 'DATE'}], '13448': [{'weekend': 'DURATION'}], '13781': [{'once a month': 'SET'}, {'Friday': 'DATE'}, {'Friday': 'DATE'}, {'Monday': 'DATE'}, {'that week': 'DATE'}, {'the week': 'DATE'}, {'8th': 'DATE'}, {'2:30': 'TIME'}, {'that day': 'DATE'}], '13792': [{'Jesse': 'PATIENT'}, {'now': 'DATE'}], '13822': [{'Sydney': 'PERSONALNAME'}, {'Wednesday night': 'TIME'}, {'months': 'DURATION'}], '14007': [{'Franco': 'PERSONALNAME'}], '14031': [{'Tanya': 'FAMILYNAME'}], '14076': [{'Ian': 'PERSONALNAME'}, {'tomorrow': 'DATE'}], '14436': [{'Ramona': 'PATIENT'}, {'a month': 'DURATION'}, {'a month': 'DURATION'}, {'a month': 'DURATION'}], '14806': [{'10 week': 'DURATION'}, {'10 years': 'DURATION'}], '14842': [{'night': 'TIME'}, {'Josh': 'FAMILYNAME'}, {'now': 'DATE'}], '14855': [{'Jess': 'PERSONALNAME'}], '14880': [{'Tanya': 'FAMILYNAME'}, {'Tanya': 'FAMILYNAME'}], '15000': [{'Geneva': 'CITY'}, {'a couple weeks': 'DURATION'}], '15014': [{'Debbie': 'DOCTOR'}, {'Jessa': 'PATIENT'}], '15019': [{'Wednesday': 'DATE'}, {'Friday evening': 'TIME'}, {'Candice': 'PERSONALNAME'}], '15620': [{'today': 'DATE'}], '15628': [{'past couple weeks': 'DURATION'}, {'now': 'DATE'}, {'a couple weeks': 'DURATION'}, {'Now': 'DATE'}, {'this week': 'DATE'}, {'This week': 'DATE'}, {'Monday': 'DATE'}], '16091': [{'now': 'DATE'}], '16106': [{'night': 'TIME'}], '16397': [{'Ian': 'PERSONALNAME'}, {'May': 'DATE'}], '17351': [{'Lucy': 'PERSONALNAME'}, {'Yvonne': 'PERSONALNAME'}, {'Yvonne': 'PERSONALNAME'}], '17568': [{'two days': 'DURATION'}], '17672': [{'tomorrow': 'DATE'}], '17740': [{'90 years': 'DURATION'}], '18016': [{'James': 'PERSONALNAME'}, {'James': 'PERSONALNAME'}], '18032': [{'Cameron': 'PATIENT'}, {'two weeks': 'DURATION'}], '18107': [{'now': 'DATE'}, {'Ramona': 'PATIENT'}], '18126': [{'a little time': 'DURATION'}], '18397': [{'Tanya': 'FAMILYNAME'}], '18433': [{'David': 'PERSONALNAME'}], '18485': [{'James': 'FAMILYNAME'}, {'James': 'FAMILYNAME'}], '18542': [{'tomorrow': 'DATE'}], '18606': [{'Chicago': 'CITY'}], '18850': [{'Ivan': 'FAMILYNAME'}, {'Ivan': 'FAMILYNAME'}], '19063': [{'Sydney': 'PERSONALNAME'}], '19081': [{'Tuesday': 'DATE'}, {'Harold': 'FAMILYNAME'}], '19419': [{'five more seconds': 'DURATION'}, {'now': 'DATE'}, {'Ramona': 'PATIENT'}], '19649': [{'working at libraries': 'PROFESSION'}, {'HR department': 'DEPARTMENT'}], '19688': [{'now': 'DATE'}, {'five': 'AGE'}, {'seven': 'AGE'}], '19726': [{'this week': 'DATE'}], '19848': [{'Audrey': 'PATIENT'}, {'Audrey': 'PATIENT'}, {'Audrey': 'PATIENT'}, {'20s': 'AGE'}, {'Audrey': 'PATIENT'}], '20404': [{'yesterday': 'DATE'}, {'Ian': 'PERSONALNAME'}], '20817': [{'months': 'DURATION'}], '20861': [{'Francio': 'PERSONALNAME'}], '20882': [{'Ivan': 'PERSONALNAME'}], '21067': [{'a short time': 'DURATION'}, {'now': 'DATE'}, {'next day': 'DATE'}], '21452': [{'today': 'DATE'}, {'Meg': 'PATIENT'}], '21640': [{'now': 'DATE'}], '21655': [{'today': 'DATE'}, {'Monday': 'DATE'}], '22021': [{'Saturday night': 'TIME'}], '22030': [{'all through the day': 'DURATION'}, {'now': 'DATE'}], '22141': [{'now': 'DATE'}, {'night': 'DURATION'}, {'hours': 'DURATION'}], '22402': [{'Hamden': 'LOCATION-OTHER'}], '22434': [{'Yep': 'DOCTOR'}], '22436': [{'two weeks': 'DURATION'}, {'or a week and a half': 'DURATION'}, {'Friday': 'DATE'}, {'3:30': 'TIME'}, {'3:30': 'TIME'}], '23289': [{'today': 'DATE'}, {'next week': 'DATE'}, {'next week': 'DATE'}, {'Austin': 'CITY'}, {'Austin': 'CITY'}], '23641': [{'last night': 'TIME'}, {'yesterday': 'DATE'}, {'4-ish': 'TIME'}], '23762': [{'Ivan': 'FAMILYNAME'}, {'night': 'DATE'}], '367': [{'Friday night': 'TIME'}, {'a very short time': 'DURATION'}], '391': [{'Chessire': 'COUNTY'}], '3335': [{'this week': 'DATE'}, {'this weekend': 'DURATION'}], '3387': [{'a day': 'DURATION'}, {' Tanya': 'FAMILYNAME'}], '3453': [{'Oregon': 'STATE'}, {'Amelia': 'PERSONALNAME'}], '3604': [{'yesterday': 'DATE'}], '3611': [{'ten minutes': 'DURATION'}], '3688': [{'twice a week': 'SET'}, {'once a week': 'SET'}], '3801': [{'a long period of time': 'DURATION'}, {'A long period of time': 'DURATION'}], '3963': [{'today': 'DATE'}, {'1985': 'DATE'}, {'2014': 'DATE'}], '4028': [{'that day': 'DATE'}, {'one a week': 'SET'}], '4278': [{'few minutes': 'DURATION'}], '32907': [{'Sunday morning': 'TIME'}, {'Mosbie': 'PERSONALNAME'}], '32912': [{'afternoon': 'TIME'}], '33239': [{'Jessa': 'PATIENT'}], '33308': [{'Debbie': 'DOCTOR'}], '33551': [{'Jessa': 'PATIENT'}, {'Debbie': 'DOCTOR'}, {'now': 'DATE'}], '34074': [{'36': 'AGE'}, {'12': 'AGE'}, {'13': 'AGE'}], '34305': [{'Ivan': 'FAMILYNAME'}], '34417': [{'one day': 'DATE'}, {'one day': 'DATE'}], '34867': [{'James': 'FAMILYNAME'}], '35207': [{'James': 'FAMILYNAME'}, {'James': 'FAMILYNAME'}], '35239': [{'first week of January': 'DATE'}, {'next week': 'DATE'}, {'Monday': 'DATE'}, {'Tuesday': 'DATE'}, {'Thursday': 'DATE'}, {'second': 'DATE'}, {'12:45': 'TIME'}, {'next week': 'DATE'}, {'following week': 'DATE'}, {'1st': 'DATE'}, {'2nd': 'DATE'}, {'12:45': 'TIME'}], '35268': [{'last couple of weeks': 'DURATION'}], '35352': [{'Joe': 'FAMILYNAME'}, {'Joe': 'FAMILYNAME'}], '35592': [{'this afternoon': 'TIME'}], '35991': [{'six years': 'DURATION'}], '36098': [{'Yvonne': 'PERSONALNAME'}, {'nights': 'TIME'}, {'Madison': 'PERSONALNAME'}, {'a babysitter': 'PROFESSION'}, {'babysitter': 'PROFESSION'}], '36211': [{'it now': 'DATE'}], '36448': [{'last several years': 'DURATION'}], '36698': [{'now': 'DATE'}], '36702': [{'a few weeks': 'DURATION'}, {'tonight': 'TIME'}], '36745': [{'now': 'DATE'}], '36848': [{'a potter': 'PROFESSION'}, {'Audrey': 'PATIENT'}, {'Audrey': 'PATIENT'}, {'Libby': 'FAMILYNAME'}], '36926': [{'a moment': 'DURATION'}], '37073': [{'Easter': 'DATE'}], '37481': [{'right now': 'DATE'}, {'now': 'DATE'}], '37724': [{'20s': 'AGE'}], '37750': [{'Farrow': 'DOCTOR'}], '37902': [{'now': 'DATE'}], '37909': [{'Farrell': 'DOCTOR'}, {' Ivan': 'DOCTOR'}], '38191': [{' morning': 'TIME'}], '38440': [{'a month': 'DURATION'}, {'a month and a half': 'DURATION'}], '38550': [{'now': 'DATE'}, {'now': 'DATE'}], '38560': [{'three months': 'DURATION'}, {'day': 'DATE'}], '38884': [{'an hour and a half': 'DURATION'}], '38964': [{'for a while': 'DURATION'}, {'now': 'DATE'}], '39023': [{' last week': 'DATE'}, {'Tanya': 'FAMILYNAME'}, {'now': 'DATE'}], '39224': [{'Yup': 'DOCTOR'}], '39390': [{'work in other libraries': 'PROFESSION'}, {'been a while': 'DURATION'}, {'Divinity School Library': 'ORGANIZATION'}], '39464': [{'Marlowe': 'PERSONALNAME'}, {'Vicky': 'PERSONALNAME'}], '39509': [{'Camilla': 'PERSONALNAME'}, {'Sunday': 'DATE'}, {'Denver': 'LOCATION-OTHER'}], '39635': [{'James': 'DOCTOR'}], '39793': [{'Ian': 'FAMILYNAME'}], '39964': [{'today': 'DATE'}, {'next week': 'DATE'}], '40206': [{'Sophie': 'PERSONALNAME'}, {'Josh': 'FAMILYNAME'}, {'last year': 'DATE'}], '40720': [{'now': 'DATE'}], '40782': [{'two weeks': 'DURATION'}], '40902': [{'now': 'DATE'}, {'in the future': 'DURATION'}], '40943': [{'tonight': 'TIME'}], '40959': [{'now': 'DATE'}], '41468': [{'now': 'DATE'}, {'years': 'DURATION'}, {'Board': 'DOCTOR'}, {'Ivan': 'FAMILYNAME'}], '41485': [{'James': 'FAMILYNAME'}], '41605': [{'Career Services': 'ORGANIZATION'}, {'seekers workshop': 'ORGANIZATION'}, {'Dean of Career Services': 'PROFESSION'}, {'once a week': 'SET'}], '42058': [{'April': 'DATE'}, {'last year': 'DATE'}, {'three months': 'DURATION'}], '42109': [{'long time': 'DURATION'}], '42451': [{'now': 'DATE'}], '42753': [{'Josh': 'FAMILYNAME'}], '42817': [{'this morning': 'TIME'}], '43167': [{'Ivan': 'FAMILYNAME'}, {'Ivan': 'FAMILYNAME'}], '43297': [{'Hamden': 'CITY'}], '43309': [{'each day': 'SET'}], '43483': [{'takes a while': 'DURATION'}, {'Lucille': 'FAMILYNAME'}, {'today': 'DATE'}], '43539': [{'Gina': 'PERSONALNAME'}, {'now': 'DATE'}, {' San Francisco': 'CITY'}, {'San Francisco': 'CITY'}, {'Melanie': 'PERSONALNAME'}, {'weekends': 'DURATION'}, {'Austin': 'CITY'}, {'Thursday': 'DATE'}], '43638': [{' next day': 'DATE'}], '53563': [{' 3/9 Jennie Cox Close department': 'DEPARTMENT'}, {'McKane': 'DOCTOR'}, {'Goodwin': 'DOCTOR'}, {'pack year history of 40': 'SET'}, {'Alford': 'DOCTOR'}, {'Allen': 'DOCTOR'}, {'April 21, 2064': 'DATE'}], '53615': [{'Tasman multi purpose Centre': 'HOSPITAL'}, {'The Children’s Hospital': 'HOSPITAL'}, {'December 1, 2062': 'DATE'}], '53634': [{'Oliva Oladipo': 'DOCTOR'}, {'Gympie Hospital under': 'HOSPITAL'}, {' SA Pathology': 'DEPARTMENT'}, {'January 24, 2002': 'DATE'}, {'Oliva resides': 'PATIENT'}, {'Forest Knoll': 'STREET'}, {'Taree': 'CITY'}, {' Australian Capital Territory': 'STATE'}, {'3792': 'ZIP'}], '53655': [{'65T90734': 'ID_NUMBER'}], '53708': [{'Cimeno Renaldo': 'PATIENT'}, {'42U140591C': 'ID_NUMBER'}, {'4281405.YEC': 'MEDICAL_RECORD_NUMBER'}, {'42U14059': 'ID_NUMBER'}], '53762': [{'Jalen lives': 'PATIENT'}, {'Emack Street': 'STREET'}, {'Curlewis': 'CITY'}, {'7321': 'ZIP'}, {'November 5, 1999': 'DATE'}, {'years': 'DURATION'}, {'June 22': 'DATE'}], '53822': [{'April 8, 1984': 'DATE'}, {'August 27, 2012': 'DATE'}, {'11.34 a.m.': 'TIME'}, {'Southern IML': 'DEPARTMENT'}, {'Lismore Base Hospital, Riverlands Drug & Alcohol Service': 'HOSPITAL'}], '53860': [{'June 12, 2064': 'DATE'}], '53927': [{'Immunology Department': 'DEPARTMENT'}, {'Echuca Regional Health': 'HOSPITAL'}, {'October 24, 2008': 'DATE'}, {'Stockdale': 'STREET'}, {'Ipswich': 'CITY'}, {'South Australia': 'STATE'}, {'3111': 'ZIP'}, {'Caden Maier': 'DOCTOR'}, {'E. Brusser': 'DOCTOR'}, {'E. Kochis': 'DOCTOR'}], '53994': [{'65O685578K': 'ID_NUMBER'}, {'Taylor Mitchell': 'PATIENT'}, {'Acute Care Ward': 'DEPARTMENT'}, {'Penola War Memorial Hospital': 'HOSPITAL'}, {'Taylor': 'PATIENT'}, {'January 30, 2007': 'DATE'}, {'Rocher Street': 'STREET'}, {'Terranora': 'CITY'}, {'Northern Territory': 'STATE'}, {'2660': 'ZIP'}], '54098': [{'April 15, 2064': 'DATE'}, {'Wagner': 'DOCTOR'}, {'Sabrina': 'PATIENT'}, {'April 19, 2064,': 'DATE'}, {'Martin': 'DOCTOR'}, {'Stephenson': 'DOCTOR'}], '54120': [{'September 18, 2062': 'DATE'}], '54185': [{'12:01 PM': 'TIME'}, {'Eric': 'PATIENT'}, {' Forensic Medicine Department': 'DEPARTMENT'}, {'Beaconsfield District Health Service': 'HOSPITAL'}, {'West': 'DOCTOR'}, {'15-year': 'DURATION'}], '54254': [{'December 26, 1984': 'DATE'}, {'Nimco': 'STREET'}, {'Gosford': 'CITY'}, {'South Australia': 'STATE'}, {'2828': 'ZIP'}, {'Antone Horacio Miele': 'DOCTOR'}, {'Robt': 'DOCTOR'}, {'BJ': 'DOCTOR'}, {'S Bille': 'DOCTOR'}], '54259': [{'October 1, 2062': 'DATE'}, {'October 10, 2062': 'DATE'}], '54439': [{'South Australia': 'STATE'}, {'4213': 'ZIP'}, {'November 30, 1992': 'DATE'}], '54462': [{'Intensive Care Unit': 'DEPARTMENT'}, {'Normanton Hospital': 'HOSPITAL'}, {'49S10747': 'ID_NUMBER'}, {'April 6, 2014': 'DATE'}, {'7.01pm': 'TIME'}], '54529': [{'Quincey': 'STREET'}, {'Bacchus Marsh': 'CITY'}, {'Western Australia': 'STATE'}, {'5661': 'ZIP'}, {'December 27, 1977': 'DATE'}, {'August 14, 2012': 'DATE'}, {'9:17 AM': 'TIME'}, {'West Department': 'DEPARTMENT'}, {'Caloundra Hospital': 'HOSPITAL'}, {'Maurice Letcher': 'DOCTOR'}, {'Lino': 'DOCTOR'}, {'Suddath': 'DOCTOR'}], '54554': [{'L Rodnguez': 'DOCTOR'}, {'Barge': 'DOCTOR'}, {'10:15 AM': 'TIME'}, {'April 4, 2014': 'DATE'}], '54596': [{'Cathy Hill': 'PATIENT'}, {'29M292382U': 'ID_NUMBER'}, {'294292.JVH': 'MEDICAL_RECORD_NUMBER'}, {'29M29238': 'ID_NUMBER'}], '54619': [{'2062': 'DATE'}, {'Sharp': 'DOCTOR'}, {'Black': 'DOCTOR'}, {'Gay': 'DOCTOR'}, {'Alan': 'PATIENT'}], '54756': [{'Kenny Smith': 'PATIENT'}, {' North Napa': 'STREET'}, {'Tea Gardens': 'CITY'}, {'Australian Capital Territory': 'STATE'}, {'6957': 'ZIP'}, {'Western District Health Service, Penshurst': 'HOSPITAL'}, {'November 26, 2004': 'DATE'}, {'Kenny’s case': 'PATIENT'}, {'7568703': 'MEDICAL_RECORD_NUMBER'}], '54769': [{'Annalisa Trexler': 'PATIENT'}, {'59K847594T': 'ID_NUMBER'}, {'594847.PYK': 'MEDICAL_RECORD_NUMBER'}, {'59K84759': 'ID_NUMBER'}], '54916': [{'Nida Terry': 'DOCTOR'}, {'87D090676Y': 'ID_NUMBER'}, {'8710906.SPY': 'MEDICAL_RECORD_NUMBER'}, {'87D09067': 'ID_NUMBER'}], '54925': [{'July 2, 2062': 'DATE'}, {'Sexton': 'DOCTOR'}, {'August 10, 2062': 'DATE'}, {'Fox': 'DOCTOR'}, {'87D09067': 'ID_NUMBER'}], '54949': [{'January 3, 2062': 'DATE'}], '54967': [{'Calvin': 'PATIENT'}, {'Gunnels Wood Street': 'STREET'}, {'San Remo': 'CITY'}, {'WA': 'STATE'}, {'2069': 'ZIP'}, {'May 10, 2006': 'DATE'}], '1103': [{'James': 'PERSONALNAME'}, {'James': 'PERSONALNAME'}], '1225': [{'Ivan': 'DURATION'}], '1482': [{'two months': 'DURATION'}, {'two months': 'DURATION'}, {'June': 'DATE'}, {'August': 'DATE'}, {'now': 'DATE'}], '1645': [{'James': 'PERSONALNAME'}, {'James': 'PERSONALNAME'}], '1862': [{'today': 'DATE'}, {'now': 'DATE'}], '2032': [{'11 years': 'DURATION'}, {'10': 'DURATION'}], '2048': [{'Jess': 'PERSONALNAME'}, {'10 minutes': 'DURATION'}, {'Saturday': 'DATE'}, {'Once': 'SET'}, {'twice a week': 'SET'}, {'long periods of time': 'DURATION'}], '2127': [{'this morning': 'TIME'}, {'Brown': 'LOCATION-OTHER'}, {'James': 'PERSONALNAME'}, {'now': 'DATE'}, {'James': 'PERSONALNAME'}, {'Denver': 'DISTRICT'}, {'this weekend': 'DATE'}], '2367': [{'a few hours': 'DURATION'}, {'one job a week': 'SET'}], '10194': [{'now': 'DATE'}], '10203': [{'now': 'DATE'}], '10290': [{'Board': 'DOCTOR'}, {'Ramona': 'PATIENT'}, {'Ramona': 'PATIENT'}, {'Ivan': 'FAMILYNAME'}], '10483': [{'today': 'DATE'}, {'Friday': 'DATE'}], '10494': [{'this year': 'DATE'}], '10619': [{'tomorrow': 'DATE'}], '10886': [{'a week': 'DURATION'}, {'a day': 'DURATION'}, {'two': 'DURATION'}, {'now': 'DATE'}, {'two weeks': 'DURATION'}, {'week': 'DURATION'}, {'week': 'DURATION'}], '11018': [{'a long time': 'DURATION'}], '11436': [{'Ian': 'FAMILYNAME'}, {'today': 'DATE'}, {'middle of the day': 'TIME'}, {'Friday': 'DATE'}, {'Lucille': 'PERSONALNAME'}], '12027': [{'Now': 'DATE'}], '12179': [{'Ramona': 'PATIENT'}], '12309': [{'Wednesdays': 'DATE'}, {'Christmas': 'DATE'}], '12314': [{'yesterday': 'DATE'}, {'day before': 'DATE'}, {'now': 'DATE'}], '12402': [{'Walter Reed': 'HOSPITAL'}], '12479': [{'Sydney': 'PERSONALNAME'}, {'today': 'DATE'}, {'Yesterday': 'DATE'}, {'evening': 'TIME'}, {'a half an hour': 'DURATION'}, {'a half an hour': 'DURATION'}], '12482': [{'last night': 'TIME'}, {'Kelly': 'PERSONALNAME'}], '12812': [{'Monday': 'DATE'}], '12974': [{'Jamie': 'PERSONALNAME'}], '13138': [{'Amanda': 'PERSONALNAME'}, {'February': 'DATE'}, {'six months': 'DURATION'}, {'David': 'PERSONALNAME'}, {'March': 'DATE'}, {'April': 'DATE'}, {'four': 'DURATION'}, {'six months': 'DURATION'}, {'Tanya': 'FAMILYNAME'}], '13143': [{'four hour': 'DURATION'}], '13221': [{'James': 'FAMILYNAME'}], '13343': [{'October-ish': 'DATE'}], '14091': [{'now': 'DATE'}], '14224': [{'Jessa': 'PATIENT'}, {'a few days': 'DURATION'}, {'thirty minutes': 'DURATION'}], '14320': [{'now': 'DATE'}, {'Jessa': 'PATIENT'}], '14445': [{'Elizabeth': 'PATIENT'}, {'Green': 'DOCTOR'}, {'today': 'DATE'}, {'today': 'DATE'}], '14516': [{'ten minutes': 'SET'}], '14949': [{'Tanya': 'FAMILYNAME'}], '15132': [{'20': 'AGE'}], '15313': [{'Michaels': 'ORGANIZATION'}, {'Michaels': 'ORGANIZATION'}], '15458': [{'now': 'DATE'}, {'Tara': 'PERSONALNAME'}, {'Tara': 'PERSONALNAME'}], '15497': [{'middle of the night': 'TIME'}, {'second night': 'TIME'}, {'now': 'DATE'}], '15554': [{'Stefan': 'PERSONALNAME'}, {'fifties': 'AGE'}, {'Stefan': 'FAMILYNAME'}, {'Saturday night': 'TIME'}, {'Harris': 'PERSONALNAME'}, {'forties': 'AGE'}], '15599': [{'now': 'DATE'}, {'eight months': 'DURATION'}], '15653': [{'for a while': 'DURATION'}], '15747': [{'Ramona': 'PATIENT'}], '16174': [{'years': 'DURATION'}, {'20 years': 'DURATION'}, {'10 years': 'DURATION'}, {'five years': 'DURATION'}, {'two years': 'DURATION'}, {'a year': 'DURATION'}, {'six months': 'DURATION'}, {'Six weeks': 'DURATION'}], '16281': [{'Friday': 'DATE'}], '16841': [{'morning': 'TIME'}, {'morning': 'TIME'}, {'12 hours': 'DURATION'}, {'eight hours': 'DURATION'}, {'yesterday': 'DATE'}], '16944': [{'Tuesday': 'DATE'}], '17007': [{'Ethiopian': 'COUNTRY'}], '17315': [{'Tanya': 'FAMILYNAME'}, {'San Antonio': 'CITY'}, {'Austin': 'CITY'}], '17332': [{'accountant': 'PROFESSION'}], '17731': [{'Friday': 'DATE'}, {'last couple of years': 'DURATION'}], '17805': [{'days': 'DURATION'}], '17912': [{'Friday': 'DATE'}], '17982': [{'now': 'DATE'}], '18098': [{'Last night': 'TIME'}, {'an hour': 'DURATION'}, {'Vanessa': 'PERSONALNAME'}, {'10': 'AGE'}, {'last week': 'DATE'}], '18142': [{'Amanda': 'DATE'}], '18373': [{'two days a week': 'SET'}, {'four days a week': 'SET'}, {'12 hours a week': 'SET'}, {'Harold': 'FAMILYNAME'}], '18482': [{'Tonya': 'FAMILYNAME'}, {'20s': 'AGE'}], '18532': [{'now': 'DATE'}, {'a couple of days': 'DURATION'}, {'Wednesday evening': 'TIME'}, {'Friday': 'DATE'}], '18678': [{'Tanya': 'FAMILYNAME'}], '18714': [{'Monday': 'DATE'}, {'evenings': 'TIME'}], '18768': [{'in the past': 'DURATION'}, {'Green': 'DOCTOR'}], '18791': [{'Some long time': 'DURATION'}, {'a couple of weeks': 'DURATION'}], '18925': [{'now': 'DATE'}], '19035': [{'Ivan': 'FAMILYNAME'}, {'now': 'DATE'}], '19088': [{'Harris': 'PERSONALNAME'}, {'Steppen': 'FAMILYNAME'}, {'10 years': 'DURATION'}], '19248': [{'two months': 'DURATION'}, {'September': 'DATE'}], '19718': [{'days': 'DURATION'}, {'months': 'DURATION'}, {'weeks': 'DURATION'}], '19850': [{'morning': 'TIME'}], '19897': [{'Last January': 'DATE'}, {'Josh': 'FAMILYNAME'}, {'Josh': 'FAMILYNAME'}], '19937': [{'Tanya': 'FAMILYNAME'}, {'Tanya': 'FAMILYNAME'}], '20090': [{'a few days': 'DURATION'}], '20176': [{'Tuesday': 'DATE'}], '20211': [{'Florida': 'STATE'}], '20554': [{'James': 'PERSONALNAME'}, {'today': 'DATE'}, {'next week': 'DATE'}], '20565': [{'now': 'DATE'}], '20626': [{'Lucille': 'FAMILYNAME'}], '20778': [{'today': 'DATE'}], '21130': [{'night': 'TIME'}, {'night': 'TIME'}, {'an hour': 'DURATION'}, {'now': 'DATE'}], '21503': [{'Orizia': 'ORGANIZATION'}, {'25 year': 'DURATION'}], '21554': [{'today': 'DATE'}], '22653': [{'last year': 'DATE'}, {'James': 'FAMILYNAME'}], '22833': [{'now': 'DATE'}], '22924': [{'now': 'DATE'}, {'week': 'DATE'}, {'week': 'DATE'}, {'week': 'DATE'}, {'Josh': 'FAMILYNAME'}, {'this morning': 'TIME'}, {'now': 'DATE'}], '23022': [{'everyday': 'SET'}, {'last week': 'DATE'}], '23057': [{'Now': 'DATE'}, {'Friday night': 'TIME'}], '23124': [{'a year and a half': 'DURATION'}, {'now': 'DATE'}], '23307': [{'five minutes': 'DURATION'}, {'a really long time': 'DURATION'}, {'This morning': 'TIME'}, {'Sydney': 'PERSONALNAME'}], '410': [{'Janice': 'DOCTOR'}, {'a couple of weeks': 'DURATION'}], '3347': [{'Monday': 'DATE'}, {'week': 'DURATION'}, {'week': 'DURATION'}, {'a couple hours a week': 'SET'}, {'Sydney': 'PERSONALNAME'}], '3599': [{'last week': 'DATE'}, {'Tanya': 'FAMILYNAME'}, {'this weekend': 'DATE'}, {'two minutes': 'DURATION'}, {'40 minutes': 'DURATION'}], '3873': [{'Delaware': 'STATE'}], '3903': [{'a few minutes': 'DURATION'}], '4270': [{'a while': 'DURATION'}, {'30 seconds': 'DURATION'}], '32572': [{'James': 'FAMILYNAME'}, {'James': 'FAMILYNAME'}], '32582': [{'Dave': 'DOCTOR'}, {'LA': 'CITY'}], '32584': [{'today': 'DATE'}, {'yesterday': 'DATE'}, {'now': 'DATE'}], '32797': [{'Kelly': 'PERSONALNAME'}], '32874': [{'Jessa': 'PATIENT'}, {'Brooklyn Bridge': 'LOCATION-OTHER'}], '33312': [{'all week': 'DURATION'}, {'weekend': 'DURATION'}, {' that time': 'DURATION'}], '33382': [{'Tyler': 'PERSONALNAME'}], '33426': [{' in the past': 'DURATION'}], '33427': [{'tomorrow': 'DATE'}], '33568': [{'noon': 'TIME'}, {'morning': 'TIME'}], '33622': [{'Tanya': 'FAMILYNAME'}, {'day to day': 'SET'}, {'Tanya': 'FAMILYNAME'}], '33695': [{'Ethiopian': 'COUNTRY'}, {'Ethiopian': 'COUNTRY'}], '33835': [{'Monday': 'DATE'}, {'22nd': 'DATE'}, {'2:30': 'TIME'}, {'Tuesday': 'DATE'}, {'22nd': 'DATE'}, {'Friday': 'DATE'}, {'that week': 'DATE'}, {'Friday': 'DATE'}, {'19th': 'DATE'}, {'Friday': 'DATE'}, {' 26th': 'DATE'}, {' 19th': 'DATE'}], '33956': [{' 15 minutes': 'DURATION'}, {'Google': 'ORGANIZATION'}], '33989': [{'Tanya': 'FAMILYNAME'}], '34380': [{'now': 'DATE'}], '34413': [{'Saturday': 'DATE'}, {'mid 20th century': 'DATE'}], '34461': [{'an hour': 'DURATION'}], '34566': [{'next week': 'DATE'}], '34736': [{'following weekend': 'DATE'}, {'now': 'DATE'}], '35048': [{'last number of months': 'DURATION'}], '35173': [{'Susan': 'PERSONALNAME'}, {'Sydney': 'PERSONALNAME'}], '35485': [{'yesterday': 'DATE'}, {'today': 'DATE'}], '35522': [{'two days a week': 'SET'}, {'amount of time': 'DURATION'}, {'Chicago': 'CITY'}, {'this weekend': 'DURATION'}], '35652': [{'now': 'DATE'}], '35954': [{'James': 'PERSONALNAME'}], '36166': [{'a long time': 'DURATION'}], '36214': [{'next few days': 'DURATION'}, {'few days look': 'DURATION'}, {'tomorrow': 'DATE'}], '36357': [{'Chesire': 'COUNTY'}], '36610': [{'James': 'FAMILYNAME'}], '37243': [{'years': 'DURATION'}, {'now': 'DATE'}, {'28': 'AGE'}, {'five hours': 'DURATION'}, {'night': 'TIME'}, {'last few months': 'DURATION'}], '37295': [{'Jess': 'CITY'}], '37387': [{'so long': 'DURATION'}], '37756': [{'Carl': 'PERSONALNAME'}, {'Chet': 'PERSONALNAME'}, {'today': 'DATE'}, {'postdoc': 'PROFESSION'}], '37802': [{'Riley': 'PERSONALNAME'}, {'lawyers': 'PROFESSION'}], '37883': [{' Sydney': 'PERSONALNAME'}], '37922': [{'Ian': 'FAMILYNAME'}], '38040': [{'Yep': 'DOCTOR'}], '38183': [{'last night': 'TIME'}, {'midnight': 'TIME'}, {'nighttime': 'TIME'}, {'another hour': 'DURATION'}], '38207': [{' in the past': 'DURATION'}], '38244': [{'this past week': 'DURATION'}, {'Sunday': 'DATE'}, {'Monday': 'DATE'}, {'now': 'DATE'}, {'two days a week': 'DURATION'}], '38346': [{'Jessica': 'PATIENT'}, {'now': 'DATE'}], '38419': [{'last week': 'DATE'}], '38603': [{'in the past': 'DATE'}, {'Madison': 'DATE'}, {'a minute': 'TIME'}], '38819': [{'couple of days': 'DURATION'}], '39076': [{'a couple of days a week': 'SET'}], '39274': [{'now': 'DATE'}, {'this week': 'DATE'}], '39279': [{'Carlton': 'DOCTOR'}, {'Monday': 'DATE'}], '39283': [{'Ivan': 'FAMILYNAME'}], '39359': [{'Farrow': 'DOCTOR'}], '39504': [{'Texas': 'STATE'}, {'Ohio': 'STATE'}, {'four years': 'DURATION'}, {'a couple of years': 'DURATION'}], '39542': [{'Farrow': 'DOCTOR'}], '39649': [{'today': 'DATE'}, {'tomorrow': 'DATE'}], '39784': [{'in the past': 'DATE'}], '40076': [{'Sydney': 'PERSONALNAME'}], '40091': [{'Christopher': 'PERSONALNAME'}], '40102': [{'last week': 'DATE'}, {'Tanya': 'PERSONALNAME'}, {'Candice': 'PERSONALNAME'}, {'Candice': 'PERSONALNAME'}, {'Tanya': 'PERSONALNAME'}, {'William': 'PERSONALNAME'}, {'Mary': 'PERSONALNAME'}, {'Tanya': 'PERSONALNAME'}], '40189': [{'a year': 'DURATION'}, {'long time': 'DURATION'}, {'twice a week': 'SET'}], '40244': [{'Marie': 'PERSONALNAME'}, {'Madagascar': 'LOCATION-OTHER'}, {'a month and a half': 'DURATION'}, {'Madagascar': 'LOCATION-OTHER'}], '40319': [{'now': 'DATE'}], '40370': [{'at two in the morning': 'TIME'}, {'Amanda': 'PERSONALNAME'}, {'Tanya': 'FAMILYNAME'}], '40542': [{'a week': 'DURATION'}, {'a long time': 'DURATION'}], '40657': [{'Tanya': 'PERSONALNAME'}], '40660': [{'now': 'DATE'}], '40780': [{'right now': 'DATE'}], '40783': [{'for a while': 'DURATION'}, {'for a while': 'DURATION'}], '40827': [{'now': 'DATE'}, {'an hour': 'DURATION'}], '40975': [{'now': 'DATE'}, {'911': 'PHONE'}], '41146': [{'manager': 'PROFESSION'}, {'Subway': 'ORGANIZATION'}, {'twenty years': 'DURATION'}], '41162': [{'day': 'DURATION'}], '41814': [{'Ivan': 'FAMILYNAME'}], '41817': [{'December': 'DATE'}, {'December': 'DATE'}, {'now': 'DATE'}, {'now': 'DATE'}], '42261': [{'Brown': 'LOCATION-OTHER'}], '42364': [{'one day': 'DATE'}, {'yesterday': 'DATE'}], '42501': [{'last night': 'TIME'}], '42608': [{'several years': 'DURATION'}], '42641': [{'now': 'DATE'}, {'now': 'DATE'}], '42732': [{'Ivan': 'FAMILYNAME'}], '42888': [{'a couple of days': 'DURATION'}, {'to Lucy': 'PERSONALNAME'}, {'Yvonne': 'PERSONALNAME'}, {'this week': 'DURATION'}, {'25 hours a week': 'DURATION'}], '42900': [{' middle of the night': 'TIME'}], '43105': [{'Bourd': 'DOCTOR'}, {'Ivan': 'FAMILYNAME'}, {'Ivan': 'FAMILYNAME'}, {'teacher': 'PROFESSION'}, {'Ivan': 'FAMILYNAME'}], '43304': [{'today': 'DATE'}], '53610': [{'August 14, 2062': 'DATE'}, {'August 14, 2062': 'DATE'}, {'Mason': 'PATIENT'}, {'Allen': 'DOCTOR'}], '53706': [{'71A25269': 'ID_NUMBER'}, {'Casa Mia Street': 'STREET'}, {'Kingaroy': 'CITY'}], '53787': [{'9478076.SWP': 'MEDICAL_RECORD_NUMBER'}, {'94T80766': 'ID_NUMBER'}, {'April 9, 1983': 'DATE'}, {'Chris': 'PATIENT'}, {'June 11, 2064': 'DATE'}, {'Envoi Pathology': 'DEPARTMENT'}, {'Tara Hospital': 'HOSPITAL'}], '53862': [{'87D09067': 'ID_NUMBER'}, {'Nida': 'PATIENT'}], '54117': [{'August 21, 2063': 'DATE'}, {'Molecular Diagnostic Oncology Department': 'DEPARTMENT'}, {'Blayney Multipurpose Service': 'HOSPITAL'}, {'Edward Evadne Stouten': 'DOCTOR'}, {'JW': 'DOCTOR'}, {'X. Neary': 'DOCTOR'}, {'August 22, 2063': 'DATE'}], '54155': [{'07L19041': 'ID_NUMBER'}], '54188': [{'L Mudd': 'DOCTOR'}, {'June 12, 2064': 'DATE'}], '54194': [{'Nathalia District Hospital': 'HOSPITAL'}, {'medic surgery Ward': 'DEPARTMENT'}, {'17N34264': 'ID_NUMBER'}, {'17N34264': 'ID_NUMBER'}], '54202': [{'Penola War Memorial Hospital': 'HOSPITAL'}, {'St. Vincent Pathology department': 'DEPARTMENT'}, {'Roy': 'PATIENT'}, {'April 6, 2014': 'DATE'}, {' 07:01 PM': 'TIME'}, {'Penola War Memorial Hospital': 'HOSPITAL'}], '54218': [{'17S6644100': 'ID_NUMBER'}, {'Alan Wesley': 'PATIENT'}, {'Radiation Oncology department': 'DEPARTMENT'}, {'Milton Ulladulla Hospital': 'HOSPITAL'}, {'December 4, 2011': 'DATE'}, {'Alan': 'PATIENT'}, {'Wahnita Street': 'STREET'}, {'Mulwala': 'CITY'}, {'3691': 'ZIP'}], '54309': [{'October 24': 'DATE'}], '54350': [{'Grayce Fallert': 'PATIENT'}, {'840157.NNT': 'MEDICAL_RECORD_NUMBER'}, {'84B15755': 'ID_NUMBER'}, {'84B157557B': 'ID_NUMBER'}, {'December 12, 1990': 'DATE'}, {'Marjorie Jackson': 'STREET'}, {'Blayney, QLD': 'CITY'}, {'2126': 'ZIP'}], '54414': [{' July 5, 2004': 'DATE'}, {'Katrina': 'PATIENT'}, {'4997206.IXD': 'MEDICAL_RECORD_NUMBER'}, {'49Z720639D': 'ID_NUMBER'}, {'Katrina': 'PATIENT'}, {'Hereditary Department': 'DEPARTMENT'}, {'Roland': 'DOCTOR'}, {'Claire': 'DOCTOR'}], '54419': [{'Craig': 'DOCTOR'}, {'Jordan': 'DOCTOR'}, {'same date': 'DATE'}, {'September 26, 2063': 'DATE'}, {'Kenny': 'PATIENT'}], '54472': [{'710252.RYE': 'MEDICAL_RECORD_NUMBER'}, {'Derrick Wiman': 'PATIENT'}, {'March 30, 2016': 'DATE'}, {'71A252691H': 'ID_NUMBER'}], '54513': [{'Ashley Freddie Rositano': 'DOCTOR'}, {'QS': 'DOCTOR'}, {'L Lutjen': 'DOCTOR'}, {'June 10, 2064': 'DATE'}, {'June 12, 2064': 'DATE'}], '54537': [{'Today': 'DATE'}, {'Dora Becker': 'PATIENT'}, {'3917577.MIK': 'MEDICAL_RECORD_NUMBER'}, {'Dora': 'PATIENT'}, {'July 1, 2062': 'DATE'}], '54573': [{'D Hersey': 'DOCTOR'}], '54594': [{'October 30, 2062': 'DATE'}, {' November 9, 2062': 'DATE'}], '54622': [{'Orval Stapelton': 'PATIENT'}, {'75A861696D': 'ID_NUMBER'}, {'7508616.ZRD': 'MEDICAL_RECORD_NUMBER'}], '54631': [{'Ulva Florida Colabella': 'PATIENT'}, {'72': 'AGE'}, {'63F233724L': 'ID_NUMBER'}, {'6322337.HLL': 'MEDICAL_RECORD_NUMBER'}, {'63F23372': 'ID_NUMBER'}], '54682': [{'August 8, 2062': 'DATE'}, {'Dell': 'DOCTOR'}], '54722': [{'2993107.QJX': 'MEDICAL_RECORD_NUMBER'}, {'Charline Dania Abed': 'PATIENT'}, {'29Z31076': 'ID_NUMBER'}, {'June 20, 2064': 'DATE'}, {'SQ': 'DOCTOR'}, {'DV': 'DOCTOR'}], '54856': [{'like Brendon': 'PATIENT'}], '54869': [{'Oliver': 'PATIENT'}, {'June 3, 2064, when significant notes': 'DATE'}, {'Oliver': 'PATIENT'}, {'Hunter Area': 'DEPARTMENT'}], '54908': [{'DY': 'DOCTOR'}, {'VU': 'DOCTOR'}, {'June 16, 2064': 'DATE'}, {'June 17, 2064': 'DATE'}, {'9:55 AM': 'TIME'}, {'April 14, 2014': 'DATE'}, {'Q Herrea': 'DOCTOR'}, {'Q Earls': 'DOCTOR'}], '23': [{'tomorrow': 'DATE'}, {'today': 'DATE'}, {'today': 'DATE'}, {'tomorrow': 'DATE'}], '121': [{'this morning': 'TIME'}, {'this morning': 'TIME'}, {'last night': 'TIME'}], '218': [{'six months': 'DURATION'}], '1101': [{'a couple of hours': 'DURATION'}], '1209': [{'Barnes': 'DOCTOR'}], '1346': [{'60s': 'DATE'}, {'70s': 'DATE'}, {'Fridays': 'DATE'}], '1626': [{'David': 'PERSONALNAME'}], '1818': [{'Debbie': 'DOCTOR'}], '1834': [{'Tanya': 'PERSONALNAME'}], '2107': [{'Cambridge': 'ORGANIZATION'}], '2372': [{'Christmas': 'DATE'}], '10120': [{'now': 'DATE'}], '10168': [{'10 minutes': 'DURATION'}], '10263': [{'this Saturday': 'DATE'}, {'five days': 'DURATION'}, {'now': 'DATE'}], '10300': [{'first month': 'DURATION'}, {'two': 'DURATION'}, {'now': 'DATE'}, {'six': 'DURATION'}, {'eight months': 'DURATION'}], '10444': [{'Now': 'DATE'}], '10479': [{'tonight': 'TIME'}, {'another night': 'TIME'}, {'15 minute': 'DURATION'}], '10506': [{'a couple minutes': 'DURATION'}], '10525': [{'in the morning': 'TIME'}], '11088': [{'week': 'DURATION'}, {'Wednesday': 'DATE'}, {'Wednesday': 'DATE'}, {'last week': 'DATE'}], '11308': [{'two weeks': 'DURATION'}, {'next week': 'DATE'}], '11461': [{'Harold': 'FAMILYNAME'}], '11563': [{'India': 'COUNTRY'}, {'a long time': 'DURATION'}], '11626': [{'24 hours': 'DURATION'}], '11635': [{'past few weeks': 'DURATION'}, {'past few days': 'DURATION'}, {'five minutes': 'DURATION'}], '11651': [{'2:30': 'TIME'}, {'19th': 'DATE'}, {'next Monday': 'DATE'}, {'2:30': 'TIME'}], '11688': [{'night': 'TIME'}, {'all day': 'DURATION'}, {'morning': 'TIME'}], '11723': [{'Friday evening': 'TIME'}], '11855': [{'Tonya': 'PERSONALNAME'}], '11993': [{'Board': 'DOCTOR'}], '12419': [{'tomorrow': 'DATE'}], '12435': [{'Ashley': 'PERSONALNAME'}], '12450': [{'Oregon': 'STATE'}, {'now': 'DATE'}], '12627': [{'Ivan': 'FAMILYNAME'}], '12698': [{'a day': 'DURATION'}], '12806': [{'Manchester': 'HOSPITAL'}], '13137': [{'this week': 'DATE'}, {'last week': 'DATE'}, {'this week': 'DATE'}], '13178': [{'summer': 'DATE'}], '13240': [{'now': 'DATE'}], '13485': [{'now': 'DATE'}, {'now': 'DATE'}], '13493': [{'an hour': 'DURATION'}], '13586': [{'Jess': 'PERSONALNAME'}], '13769': [{'India': 'COUNTRY'}], '13850': [{'yesterday': 'DATE'}, {'Josh': 'FAMILYNAME'}, {'now': 'DATE'}], '14043': [{'today': 'DATE'}], '14171': [{'now': 'DATE'}], '14443': [{'last night': 'TIME'}, {'In the past': 'DURATION'}, {'today': 'DATE'}], '14751': [{'Tanya': 'PERSONALNAME'}], '14944': [{'12:30': 'TIME'}, {'20 minutes': 'DURATION'}, {'today': 'DATE'}], '14965': [{'now': 'DATE'}], '15032': [{'Lucille': 'FAMILYNAME'}, {'Ian': 'PERSONALNAME'}, {'Lucille': 'FAMILYNAME'}, {'year and a half': 'DURATION'}, {'two and a half years': 'DURATION'}], '15247': [{'Miami': 'CITY'}], '15288': [{'a couple nights': 'DATE'}, {'a month': 'DURATION'}], '15433': [{'years': 'DURATION'}, {'six years': 'DURATION'}], '15516': [{'now': 'DATE'}], '15545': [{'Farrow': 'DOCTOR'}, {'Newton': 'LOCATION-OTHER'}], '15617': [{'next day': 'DATE'}], '15885': [{'today': 'DATE'}, {'today': 'DATE'}], '15987': [{'Ivan': 'FAMILYNAME'}], '16075': [{'Board': 'DOCTOR'}], '16082': [{'next month': 'DATE'}, {'this morning': 'TIME'}], '16087': [{'other night': 'TIME'}, {'Ramona': 'PATIENT'}], '16120': [{'Hamden': 'CITY'}, {'Hamden': 'CITY'}], '16212': [{'couple of minutes': 'DURATION'}, {'10 minutes': 'DURATION'}, {'during the day': 'DURATION'}, {'a few minutes': 'DURATION'}], '16268': [{'in your past': 'DURATION'}], '16306': [{'now': 'DATE'}], '16584': [{'Tanya': 'FAMILYNAME'}, {'today': 'DATE'}], '16682': [{'James': 'PERSONALNAME'}], '16708': [{'Jess': 'PERSONALNAME'}], '16948': [{'now': 'DATE'}], '17097': [{'now': 'DATE'}, {'an hour': 'DURATION'}, {'now': 'DATE'}, {'Friday': 'DATE'}, {'Walter Reed': 'HOSPITAL'}], '17137': [{'manager': 'PROFESSION'}, {'Subway': 'ORGANIZATION'}], '17500': [{'am 28': 'AGE'}], '17579': [{'three months': 'DURATION'}], '17603': [{'Marie': 'PERSONALNAME'}], '17862': [{'Tanya': 'FAMILYNAME'}], '17902': [{'a week': 'DURATION'}], '17964': [{'tomorrow': 'DATE'}], '17987': [{'now': 'DATE'}], '18071': [{'Ivan': 'FAMILYNAME'}, {'now': 'DATE'}, {'tomorrow': 'DATE'}], '18128': [{'this week': 'DATE'}, {'two weeks': 'DURATION'}, {'a week': 'DURATION'}, {'this morning': 'TIME'}, {'last year': 'DATE'}, {'Josh': 'FAMILYNAME'}], '18186': [{'few years': 'DURATION'}], '18227': [{\"Victor's street\": 'STREET'}, {'David': 'PERSONALNAME'}, {'now': 'DATE'}, {'now': 'DATE'}, {'David': 'PERSONALNAME'}], '18438': [{'a month': 'DURATION'}], '18486': [{'27': 'AGE'}, {'41': 'AGE'}, {'now': 'DATE'}], '18567': [{'Saturday morning': 'TIME'}, {'Friday night': 'TIME'}], '18996': [{'Candace': 'PERSONALNAME'}, {'Candace': 'PERSONALNAME'}, {'Wednesday': 'DATE'}, {'Tonya': 'PERSONALNAME'}, {'Candace': 'PERSONALNAME'}], '19093': [{'that week': 'DATE'}, {'Candice': 'PERSONALNAME'}, {'weekend': 'DATE'}], '19179': [{'next week': 'DATE'}], '19231': [{'Cecilia': 'PERSONALNAME'}], '19263': [{'now': 'DATE'}], '19299': [{'Yvonne': 'PERSONALNAME'}], '19392': [{'your day': 'DURATION'}, {'past three weeks': 'DURATION'}, {'one application a week': 'SET'}], '19548': [{'a long time': 'DURATION'}], '19808': [{'RI': 'STATE'}, {'New Haven': 'CITY'}, {'Wallingford': 'CITY'}, {'New Haven': 'CITY'}, {'Wallingford': 'CITY'}, {'RI': 'STATE'}, {'RI': 'STATE'}, {'RI': 'STATE'}, {'RI': 'STATE'}, {'RI': 'STATE'}], '19865': [{'last week': 'DATE'}], '19939': [{'three years': 'DURATION'}, {'Saturday': 'DATE'}], '20110': [{'night': 'TIME'}, {'hours': 'DURATION'}], '20149': [{'now': 'TIME'}, {'two years': 'DURATION'}, {'now': 'DATE'}], '20180': [{'today': 'DATE'}], '20187': [{'now': 'DATE'}], '20286': [{'James': 'FAMILYNAME'}, {'yesterday': 'DATE'}, {'weekend': 'DURATION'}], '20298': [{'Tanya': 'FAMILYNAME'}], '20665': [{'James': 'PERSONALNAME'}, {'today': 'DATE'}, {'a day': 'DURATION'}], '20669': [{'Sydney': 'PERSONALNAME'}, {'Lucy': 'PERSONALNAME'}, {'Walter': 'PERSONALNAME'}, {'Florida': 'STATE'}, {'a year and a half': 'TIME'}, {'now': 'DATE'}], '20706': [{'morning': 'TIME'}], '20716': [{'now': 'DATE'}, {'day': 'DURATION'}], '20946': [{'Datsun': 'ORGANIZATION'}, {'Ian': 'FAMILYNAME'}, {'20': 'DURATION'}, {'30 minutes': 'DURATION'}, {'Google': 'ORGANIZATION'}], '20948': [{'now': 'DATE'}], '20990': [{'yesterday': 'DATE'}, {'James': 'PERSONALNAME'}], '21137': [{'weekend': 'DURATION'}, {'Tonya': 'FAMILYNAME'}, {'Andover': 'LOCATION-OTHER'}, {'five': 'DURATION'}, {'six months': 'DURATION'}], '21246': [{'Amanda': 'PERSONALNAME'}, {'a week': 'DURATION'}], '21400': [{'year': 'DATE'}], '21433': [{'James': 'FAMILYNAME'}], '21650': [{'libraries': 'ORGANIZATION'}], '21677': [{'a while': 'DURATION'}, {'Tanya': 'FAMILYNAME'}, {'Tanya': 'FAMILYNAME'}, {'Chad': 'PERSONALNAME'}], '21930': [{'every morning': 'SET'}, {'afternoon': 'TIME'}, {'morning': 'TIME'}, {'afternoon': 'TIME'}], '22169': [{'now': 'DATE'}], '22560': [{'Tanya': 'FAMILYNAME'}, {'Tanya': 'FAMILYNAME'}], '22638': [{'IT': 'PROFESSION'}], '22710': [{'Victor': 'PERSONALNAME'}, {'now': 'DATE'}, {'yesterday': 'DATE'}], '23158': [{'Sydney': 'PERSONALNAME'}], '23450': [{'night': 'TIME'}, {'now': 'TIME'}], '23628': [{'Meg': 'PATIENT'}, {'today': 'DATE'}], '23729': [{'now': 'DATE'}, {'Madagascar': 'COUNTRY'}], '23844': [{'Tanya': 'FAMILYNAME'}, {'now': 'DATE'}], '23948': [{'last several months': 'DURATION'}, {'Tanya': 'FAMILYNAME'}, {'last several months': 'DURATION'}], '351': [{'afternoon': 'DATE'}, {'Wednesdays': 'DATE'}, {'Amelia': 'PERSONALNAME'}, {\"nine o'clock\": 'TIME'}, {'Wednesday': 'DATE'}, {'night': 'TIME'}], '3518': [{'now': 'DATE'}], '3571': [{'Lucille': 'FAMILYNAME'}, {'Ian': 'PERSONALNAME'}], '3662': [{'Farrow': 'DOCTOR'}, {'today': 'DATE'}], '3723': [{'it today': 'DATE'}], '3984': [{'Victor': 'PERSONALNAME'}], '4214': [{'now': 'DATE'}], '4284': [{'Long day': 'DURATION'}, {'Thursdays': 'DATE'}], '4348': [{'now': 'DATE'}], '4363': [{'now': 'DATE'}], '32507': [{' 19th': 'DATE'}, {'two weeks': 'DURATION'}, {'two weeks': 'DURATION'}, {'now': 'DATE'}], '32647': [{'last few weeks': 'DURATION'}], '32801': [{'now': 'DATE'}], '32968': [{'a second': 'DURATION'}], '33018': [{'a year from now': 'DATE'}, {'Ivan': 'FAMILYNAME'}, {'a year': 'DATE'}], '33303': [{'now': 'DATE'}], '33453': [{'Tanya': 'PERSONALNAME'}], '33671': [{'all week': 'DURATION'}, {'Saturday': 'DATE'}], '33680': [{'weeks': 'DURATION'}, {' Friday night': 'TIME'}, {'tomorrow': 'DATE'}], '33707': [{'winter': 'TIME'}], '33753': [{'one of the two days': 'DATE'}, {'week before': 'DATE'}, {'last week': 'DATE'}, {'days': 'DURATION'}, {'days': 'DURATION'}, {'days': 'DURATION'}], '33816': [{'Couple of months': 'DURATION'}, {'last four and a half weeks': 'DURATION'}, {'Jack': 'PERSONALNAME'}, {'Bill': 'PERSONALNAME'}, {'Carl': 'PERSONALNAME'}, {'now': 'DATE'}], '33866': [{'now': 'DATE'}, {'much time': 'DURATION'}, {'morning': 'TIME'}], '34173': [{'now': 'DATE'}, {'first week': 'DATE'}], '34585': [{'now': 'DATE'}, {'now': 'DATE'}], '35108': [{'now': 'DATE'}, {'advisor': 'PROFESSION'}, {'Kevin': 'PERSONALNAME'}, {'five': 'DURATION'}, {'six years': 'DURATION'}, {'now': 'DATE'}], '35109': [{'Ian': 'FAMILYNAME'}], '35152': [{'David': 'PERSONALNAME'}, {'David': 'PERSONALNAME'}], '35203': [{'last week': 'DATE'}], '35258': [{'last week': 'DATE'}, {'Wednesday night': 'TIME'}, {'Thursday': 'DATE'}, {'Friday': 'DATE'}, {'day': 'DURATION'}, {'one day': 'DATE'}, {'Saturday': 'TIME'}, {'Sunday': 'DATE'}, {'Thursday night': 'TIME'}, {'Saturday night': 'TIME'}, {'Sunday night': 'TIME'}], '35370': [{'weeks': 'DURATION'}, {'a week': 'DURATION'}, {'a week and a half': 'DURATION'}, {'two weeks': 'DURATION'}, {'that night': 'TIME'}], '35382': [{'9:10': 'TIME'}, {'Thursday': 'DATE'}, {'next week': 'DATE'}], '35398': [{'Orizia': 'ORGANIZATION'}], '35482': [{'Sunday evening': 'TIME'}], '35571': [{'day': 'DURATION'}], '35693': [{'35 years': 'DURATION'}], '35747': [{'this morning': 'TIME'}, {'now': 'DATE'}, {'today': 'DATE'}], '36004': [{'a while': 'DURATION'}, {'Africa': 'LOCATION-OTHER'}, {'African': 'LOCATION-OTHER'}, {'African': 'LOCATION-OTHER'}], '36032': [{'a day': 'DURATION'}], '36070': [{'Wanda': 'PERSONALNAME'}, {'a couple of hours': 'DURATION'}, {'all weekend': 'DURATION'}], '36127': [{'Sydney': 'PERSONALNAME'}], '36158': [{'Ian': 'PERSONALNAME'}, {'every year': 'SET'}], '36188': [{'Halloween': 'DATE'}], '36269': [{'Ivan': 'FAMILYNAME'}, {'now': 'DATE'}], '36325': [{'tomorrow': 'DATE'}, {'Tuesday': 'DATE'}], '36746': [{'this whole week': 'DATE'}], '36897': [{'a couple of nights': 'DURATION'}], '36992': [{'Psychological Medicine': 'DEPARTMENT'}, {'Taylor': 'PATIENT'}, {'White': 'DOCTOR'}, {'today': 'DATE'}, {'today': 'DATE'}], '37025': [{'Friday night': 'TIME'}, {'Friday night': 'TIME'}], '37034': [{'4:30 a.m.': 'TIME'}, {'Starbucks': 'ORGANIZATION'}, {'a 10 minute': 'DURATION'}], '37143': [{'a month': 'DATE'}, {'one month': 'DURATION'}], '37177': [{'Kelly': 'PERSONALNAME'}, {'Bethany': 'PERSONALNAME'}], '37529': [{'now': 'DATE'}, {'now': 'DATE'}, {'now': 'DATE'}], '37754': [{'Tanya': 'FAMILYNAME'}], '37769': [{'Boston': 'DOCTOR'}, {'LA': 'DOCTOR'}], '37826': [{'Emma': 'FAMILYNAME'}], '38067': [{'a manager': 'PROFESSION'}, {'Subway': 'ORGANIZATION'}], '38214': [{'next summer': 'DATE'}, {'Tomorrow': 'DATE'}], '38217': [{'Bond': 'DOCTOR'}, {'a week': 'DURATION'}], '38255': [{'in the past': 'DATE'}], '38403': [{'this week': 'DATE'}, {'this morning': 'TIME'}], '38525': [{'evening': 'TIME'}, {'Tanya': 'PATIENT'}, {'tomorrow': 'DATE'}], '38531': [{'now': 'DATE'}, {'Chad': 'DOCTOR'}, {'afternoon': 'TIME'}], '38592': [{\"11 o'clock\": 'TIME'}, {'Phoenix': 'CITY'}, {'Giorgio': 'PERSONALNAME'}], '38873': [{'next Wednesday': 'DATE'}, {'Wednesday': 'DATE'}, {'January 1st': 'DATE'}, {'January 1st': 'DATE'}, {'Wednesdays': 'DATE'}], '38936': [{'Ivan': 'DOCTOR'}, {'Board': 'DOCTOR'}, {'Ivan': 'FAMILYNAME'}, {'Ivan': 'FAMILYNAME'}, {'now': 'DATE'}], '39168': [{'now': 'DATE'}, {'past few days': 'DURATION'}], '39217': [{'Saturday night': 'TIME'}, {'Sunday': 'DATE'}], '39463': [{'Ian': 'FAMILYNAME'}, {'Ian': 'FAMILYNAME'}], '39667': [{'tomorrow': 'DATE'}, {'good': 'TIME'}], '39688': [{'Josh': 'FAMILYNAME'}], '39833': [{'Barnes': 'DOCTOR'}], '39932': [{'Sidney': 'PERSONALNAME'}, {'now': 'DATE'}], '40030': [{' in the past': 'DURATION'}, {' in the past': 'DURATION'}, {' in the past': 'DURATION'}], '40285': [{'Western Convention Center': 'ORGANIZATION'}], '41001': [{'three years': 'DURATION'}], '41028': [{'now': 'DATE'}, {'now': 'DATE'}, {'a year': 'DURATION'}, {'a long time': 'DURATION'}], '41082': [{'Yovan': 'PERSONALNAME'}, {'Vanessa': 'PERSONALNAME'}], '41232': [{'Ivan': 'FAMILYNAME'}, {'lawyer': 'PROFESSION'}], '41303': [{'One day': 'DURATION'}, {'30 days': 'DURATION'}], '41305': [{'now': 'DATE'}], '41399': [{'night': 'TIME'}, {'night': 'TIME'}, {'that week': 'DATE'}], '41409': [{'Ivan': 'FAMILYNAME'}], '41682': [{'Tanya': 'FAMILYNAME'}, {'Tanya': 'FAMILYNAME'}, {'now': 'DATE'}, {'eight months': 'DURATION'}], '41706': [{'16': 'AGE'}], '41836': [{'this week': 'DATE'}], '41850': [{'now': 'DATE'}, {'coach': 'PROFESSION'}, {'coach': 'PROFESSION'}], '42252': [{'Micah': 'DOCTOR'}], '42391': [{'a few weeks': 'DURATION'}], '42426': [{'Sydney': 'PERSONALNAME'}, {'now': 'DATE'}], '42713': [{'now': 'DATE'}], '42842': [{'19': 'AGE'}, {'mornings': 'TIME'}, {'night': 'TIME'}], '42907': [{'July': 'DATE'}], '42958': [{'nights': 'TIME'}, {'nights': 'TIME'}, {'nights': 'TIME'}], '42993': [{'Tomorrow': 'DATE'}, {'Tomorrow': 'DATE'}, {'now': 'DATE'}, {'moment': 'DATE'}], '43052': [{'now': 'DATE'}], '43075': [{'11': 'AGE'}, {'Crazy': 'PATIENT'}, {'11': 'AGE'}], '43174': [{'Madison': 'PERSONALNAME'}, {'Yvonne': 'PERSONALNAME'}, {'Yvonne': 'PERSONALNAME'}], '43252': [{'now': 'DATE'}, {'Today': 'DATE'}], '44521': [{'week': 'DURATION'}], '53555': [{'44D592246C': 'ID_NUMBER'}, {'Anny Bridges': 'PATIENT'}, {'May 22, 1988': 'DATE'}, {'441592.HKP': 'MEDICAL_RECORD_NUMBER'}, {'44D59224': 'ID_NUMBER'}], '53594': [{'405974.QBV': 'MEDICAL_RECORD_NUMBER'}, {'Robyn Patrice Girolamo': 'PATIENT'}, {'May 29, 2000': 'DATE'}], '53636': [{'09:55 AM': 'TIME'}, {'August 7, 2062': 'DATE'}, {'Beal': 'DOCTOR'}], '53638': [{'Eric Barnes': 'PATIENT'}, {'98Y628548Q': 'ID_NUMBER'}, {'9896285.KVQ': 'MEDICAL_RECORD_NUMBER'}], '53692': [{'H Mounger': 'DOCTOR'}], '53703': [{'19-5034545': 'ID_NUMBER'}], '53742': [{'M Wolff': 'DOCTOR'}, {'October 1, 2062': 'DATE'}, {' October 29, 2062': 'DATE'}, {'McInturff': 'DOCTOR'}, {'Ngarrindjeri': 'DOCTOR'}, {'July 30, 2065': 'DATE'}], '53920': [{'Gerald Gucwa': 'DOCTOR'}, {'16:35': 'TIME'}, {'April 9, 2014': 'DATE'}], '53934': [{'Gregorio Lynwood Slemmer': 'DOCTOR'}, {'MM': 'DOCTOR'}, {'CU': 'DOCTOR'}, {' Harkenreader': 'DOCTOR'}, {'June 6, 2064': 'DATE'}], '53963': [{'George resides': 'PATIENT'}, {'Roseglen Street': 'STREET'}, {'Bacchus Marsh': 'CITY'}, {'Victoria': 'STATE'}, {'2258': 'ZIP'}, {'September 10, 2063': 'DATE'}, {'Macquarie Ward department': 'DEPARTMENT'}, {'96C25931': 'ID_NUMBER'}], '54025': [{'Wesley Rauner': 'PATIENT'}, {'6344566.YXQ': 'MEDICAL_RECORD_NUMBER'}, {'63K45669': 'ID_NUMBER'}, {'63K456699Q': 'ID_NUMBER'}, {'West Bolivar': 'STREET'}, {'Windsor': 'CITY'}, {'Queensland': 'STATE'}], '54043': [{'08Q37965': 'ID_NUMBER'}, {'Tereasa resides': 'PATIENT'}, {' Nicanoa Street': 'STREET'}, {'Lara': 'CITY'}, {'New South Wales': 'STATE'}, {'6564': 'ZIP'}], '54251': [{'Today': 'DATE'}, {'Maria Cruz': 'PATIENT'}, {'40X485615D': 'ID_NUMBER'}, {'408485.PDO': 'MEDICAL_RECORD_NUMBER'}, {'40X48561': 'ID_NUMBER'}], '54376': [{'Palmira Vredeveld': 'PATIENT'}, {'97P227531O': 'ID_NUMBER'}, {'9752275.ICO': 'MEDICAL_RECORD_NUMBER'}, {'E Joffre': 'STREET'}, {'Redcliffe': 'CITY'}, {'Northern Territory': 'STATE'}, {'5118': 'ZIP'}], '54389': [{'Laverton Hospital': 'HOSPITAL'}, {'Howard': 'DOCTOR'}, {'Forst': 'DOCTOR'}, {'Hunter Area department': 'DEPARTMENT'}], '54423': [{'September 13, 2062': 'DATE'}], '54496': [{'March 11, 2064': 'DATE'}, {'Oliva': 'PATIENT'}, {'Eriksen': 'DOCTOR'}], '54568': [{' March 4, 2064': 'DATE'}, {'April 20, 2064': 'DATE'}, {'Wade': 'DOCTOR'}, {'Curry': 'DOCTOR'}, {'Beasley': 'DOCTOR'}, {'Now': 'DATE'}, {'53': 'AGE'}], '54599': [{'Mike Crawford': 'PATIENT'}, {'0973564.CBJ': 'MEDICAL_RECORD_NUMBER'}, {'09S35640': 'ID_NUMBER'}], '54644': [{'62': 'AGE'}, {'Cathy': 'PATIENT'}, {'Wiggins': 'DOCTOR'}, {'Smart': 'DOCTOR'}, {'June 4, 2012': 'DATE'}], '54680': [{'patient Rosetta Soloway': 'PATIENT'}, {'49S107472G': 'ID_NUMBER'}, {'497107.LTH': 'MEDICAL_RECORD_NUMBER'}, {'October 29, 2032': 'DATE'}, {'Tarporley': 'STREET'}, {'Newcastle': 'CITY'}, {'New South Wales': 'STATE'}], '54698': [{'Wesley': 'DOCTOR'}, {'Jordan': 'DOCTOR'}, {'Bell': 'DOCTOR'}, {'Allen': 'DOCTOR'}, {'Landfair': 'DOCTOR'}, {'Chris': 'PATIENT'}, {'May 5, 2064': 'DATE'}], '54779': [{'August 22, 2063': 'DATE'}, {'Mood': 'DOCTOR'}, {'September 3, 2063': 'DATE'}, {'Sabonis': 'DOCTOR'}, {'September 4, 2063': 'DATE'}, {'Jefferson': 'DOCTOR'}, {' September 5, 2063': 'DATE'}, {'Freedom': 'DOCTOR'}], '54783': [{'Today': 'DATE'}, {'Mark Wall': 'PATIENT'}, {'19P329496B': 'ID_NUMBER'}, {'1963294.YRB': 'MEDICAL_RECORD_NUMBER'}, {'19P32949': 'ID_NUMBER'}], '54822': [{'08Q379659E': 'ID_NUMBER'}, {'Today': 'DATE'}, {'Tereasa Dekker': 'PATIENT'}, {'June 22, 1989': 'DATE'}, {'086379.QPZ': 'MEDICAL_RECORD_NUMBER'}, {'08Q37965': 'ID_NUMBER'}], '54877': [{'526828.SHR': 'MEDICAL_RECORD_NUMBER'}, {'52P82872': 'ID_NUMBER'}], '54903': [{'Maria': 'PATIENT'}, {'Plantagenet Hospital': 'HOSPITAL'}, {'3/9 Jennie Cox Close': 'DEPARTMENT'}, {'September 5, 2062': 'DATE'}, {'Sharp': 'DOCTOR'}, {'Kaminsky': 'DOCTOR'}], '54912': [{'June 17, 1988': 'DATE'}, {'Colemans': 'STREET'}, {'Moama': 'CITY'}, {'QLD': 'STATE'}, {'1156': 'ZIP'}, {'July 12, 2012': 'DATE'}, {'22:14': 'TIME'}, {'HAPS department': 'DEPARTMENT'}, {'Swan Hill District Health Swan hill': 'HOSPITAL'}], '54990': [{'Augustus Jay Aspley': 'DOCTOR'}, {'CK. Significant': 'DOCTOR'}, {'2064': 'DATE'}, {'June 18, 2064': 'DATE'}, {'Z Gleghorn': 'DOCTOR'}, {'Z Sommerville': 'DOCTOR'}]}\n"
          ]
        }
      ],
      "source": [
        "#en\n",
        "\n",
        "with open( \"/content/drive/MyDrive/AICUP_DATA/offical_change/task2_train.txt\", \"r\", encoding=\"utf-8\" ) as f :\n",
        "  data = f.readlines()\n",
        "\n",
        "\n",
        "# with open( \"/content/drive/MyDrive/AICUP_DATA/en-dataset/3_fold/hold_1/task2_answer_change.txt\", \"r\", encoding=\"utf-8\" ) as f :\n",
        "#   data = f.readlines()\n",
        "\n",
        "# print(len(data))\n",
        "\n",
        "# with open( \"/content/drive/MyDrive/AICUP_DATA/en-dataset/3_fold/hold_2/task2_answer_change.txt\", \"r\", encoding=\"utf-8\" ) as f :\n",
        "#   data = data + f.readlines()\n",
        "\n",
        "\n",
        "# with open( \"/content/drive/MyDrive/AICUP_DATA/en-dataset/3_fold/hold_3/task2_answer_change.txt\", \"r\", encoding=\"utf-8\" ) as f :\n",
        "#   data = data + f.readlines()\n",
        "\n",
        "\n",
        "\n",
        "print(len(data))\n",
        "\n",
        "data_list = Prepare_Task2_NER( data )"
      ]
    },
    {
      "cell_type": "code",
      "execution_count": null,
      "metadata": {
        "colab": {
          "base_uri": "https://localhost:8080/"
        },
        "id": "CHUSt8h84bXs",
        "outputId": "2a5e7dae-2873-4c4d-d9cf-7e8320cedb1e"
      },
      "outputs": [
        {
          "name": "stdout",
          "output_type": "stream",
          "text": [
            "1997\n",
            "{'2505': [{'10 minutes': 'DURATION'}, {'last night': 'TIME'}, {'today': 'DATE'}, {'James': 'FAMILYNAME'}], '2943': [{'Friday': 'DATE'}, {'Saturday': 'DATE'}, {'Tuesday': 'DATE'}, {'yesterday': 'DATE'}], '2983': [{'James': 'FAMILYNAME'}], '3104': [{'Stefan': 'FAMILYNAME'}], '4808': [{'now': 'DATE'}], '24444': [{'20s': 'AGE'}, {'Franco': 'PERSONALNAME'}, {'Franco': 'PERSONALNAME'}, {'Andover': 'LOCATION-OTHER'}], '24653': [{'this weekend': 'DATE'}], '24947': [{'day': 'DURATION'}, {'per day': 'SET'}, {'morning': 'TIME'}], '25002': [{'all weekend': 'DURATION'}], '25010': [{'now': 'DATE'}, {'an hour': 'DURATION'}], '25077': [{'Sunday': 'DATE'}, {'noontime': 'TIME'}], '25176': [{'James': 'FAMILYNAME'}], '25344': [{'Jeez': 'PERSONALNAME'}, {'now': 'DATE'}, {'now': 'DATE'}], '25390': [{'now': 'DATE'}], '25516': [{'2:30': 'TIME'}], '25533': [{'six': 'DURATION'}, {'eight hours': 'DURATION'}], '25598': [{'Franco': 'PERSONALNAME'}], '25724': [{'13 hours': 'DURATION'}, {'40 a week': 'SET'}], '25790': [{'Chicago': 'CITY'}, {'Montana': 'LOCATION-OTHER'}, {'Chicago': 'CITY'}, {'Chicago metro area': 'LOCATION-OTHER'}, {'that night': 'TIME'}, {'Madagascar': 'COUNTRY'}], '25864': [{'Dave': 'DOCTOR'}], '26095': [{'now': 'DATE'}], '26286': [{'a day': 'DURATION'}, {'now': 'DATE'}], '26362': [{'yesterday': 'DATE'}, {'all day': 'DURATION'}, {'this morning': 'TIME'}], '26671': [{'Hooray': 'PERSONALNAME'}], '26860': [{'Emma': 'PERSONALNAME'}, {'Damien': 'PERSONALNAME'}], '26876': [{'A year': 'DURATION'}, {'a year': 'DURATION'}, {'every day': 'SET'}, {'a couple times a week': 'SET'}, {'the year': 'SET'}], '26877': [{'time of year': 'DURATION'}, {'this time': 'DATE'}, {'day': 'DATE'}, {'summer': 'DURATION'}, {'spring': 'DURATION'}, {'summer': 'DURATION'}], '27172': [{'Friday': 'DATE'}], '27240': [{'today': 'DATE'}, {'a week': 'DURATION'}, {'two': 'DURATION'}], '27269': [{'Emma': 'FAMILYNAME'}], '27375': [{'last week': 'DATE'}], '27581': [{'a few minutes': 'DURATION'}], '27805': [{'morning': 'TIME'}, {'morning': 'TIME'}, {'this week': 'DATE'}, {'this week': 'DATE'}, {'last couple of weeks': 'DURATION'}], '28148': [{'morning': 'TIME'}, {'15 minutes': 'DURATION'}], '28350': [{'Cambridge Business': 'ORGANIZATION'}], '28443': [{'Sydney': 'PERSONALNAME'}, {'now': 'DATE'}, {'Sydney': 'PERSONALNAME'}], '28713': [{'Tanya': 'FAMILYNAME'}, {'Tanya': 'FAMILYNAME'}, {'Tanya': 'FAMILYNAME'}], '28914': [{'three': 'DURATION'}, {'four minutes': 'DURATION'}], '29569': [{'Debbie': 'DOCTOR'}], '29790': [{'Ramona': 'PATIENT'}, {'a subway': 'ORGANIZATION'}, {'manager': 'PROFESSION'}], '29912': [{'five minutes': 'DURATION'}, {'Board': 'DOCTOR'}], '29928': [{'morning': 'TIME'}, {'evening': 'TIME'}], '29975': [{'Tanya': 'FAMILYNAME'}], '30219': [{'tonight': 'TIME'}, {'tomorrow': 'DATE'}, {'March': 'DATE'}, {'tomorrow': 'DATE'}, {'10:00': 'TIME'}], '30588': [{'January': 'DATE'}, {'a long time': 'DURATION'}, {'this past week': 'DURATION'}, {'a few days': 'DURATION'}, {'Sunday': 'DATE'}, {'Monday': 'DATE'}, {'now': 'DATE'}], '30719': [{'a few weeks': 'DURATION'}, {'now': 'DATE'}], '31394': [{'Tanya': 'FAMILYNAME'}], '31537': [{'all week': 'DURATION'}, {'one week': 'DURATION'}], '31542': [{'two months': 'DURATION'}], '31680': [{'Yesterday': 'DATE'}, {'today': 'DATE'}, {'yesterday': 'DATE'}, {'the other day': 'DATE'}, {'today': 'DATE'}], '31738': [{'70': 'AGE'}], '31905': [{'now': 'DATE'}, {'more hours': 'DURATION'}], '32106': [{'many years': 'DURATION'}], '32205': [{'morning': 'TIME'}, {'last week': 'DATE'}, {'a long time': 'DURATION'}], '33446': [{'now': 'DATE'}], '50004': [{'June 26, 2064': 'DATE'}], '50040': [{'Monetary Street': 'STREET'}, {'Kyabram': 'CITY'}, {'Victoria': 'STATE'}, {'7000': 'ZIP'}, {'November 1, 2012': 'DATE'}, {'9:11 a.m.': 'TIME'}, {'West Department': 'DEPARTMENT'}, {'Nambour General Hospital': 'HOSPITAL'}, {'Donald Jeremiah Burg': 'DOCTOR'}, {'VX': 'DOCTOR'}, {'C. Hobbie': 'DOCTOR'}], '50171': [{'1778502.SDZ': 'MEDICAL_RECORD_NUMBER'}, {'17T850261Z.': 'ID_NUMBER'}, {'September 17, 2063,': 'DATE'}, {'Oliva underwent': 'PATIENT'}, {'17T85026': 'ID_NUMBER'}, {'17T85026.': 'ID_NUMBER'}], '50265': [{'September 26, 2062': 'DATE'}, {'Q. Fuertes': 'DOCTOR'}, {'IP.': 'DOCTOR'}], '50280': [{'Taylor': 'PATIENT'}, {'Leonard': 'DOCTOR'}, {'March 17, 2063': 'DATE'}, {'Austin': 'DOCTOR'}, {'River': 'DOCTOR'}], '50303': [{'Today': 'DATE'}, {'Garry Wagner': 'PATIENT'}, {'55W935357X': 'ID_NUMBER'}, {'558935.KOT': 'MEDICAL_RECORD_NUMBER'}, {'55W93535': 'ID_NUMBER'}], '50392': [{'2063': 'DATE'}, {'November 8, 2062': 'DATE'}, {'78': 'AGE'}, {'Tereasa': 'PATIENT'}, {'into the future': 'DURATION'}, {'July 30, 2065, ensuring': 'DATE'}], '50395': [{'08:19 AM': 'TIME'}, {'195034545': 'ID_NUMBER'}], '50404': [{'Tandera Street': 'STREET'}, {'Bonny Hills': 'CITY'}, {'ACT': 'STATE'}, {'1169': 'ZIP'}, {'Tomas': 'PATIENT'}, {' 3HR Stay Surgical Unit': 'DEPARTMENT'}, {'day': 'DOCTOR'}], '50454': [{'17H87865': 'ID_NUMBER'}, {'17H87865': 'ID_NUMBER'}, {'Rossi': 'STREET'}, {'Port Adelaide Enfield': 'CITY'}, {'TAS': 'STATE'}, {'4486': 'ZIP'}], '50470': [{'Morris': 'DOCTOR'}, {'Thornburg': 'DOCTOR'}, {'Edwards': 'DOCTOR'}, {'Bowen': 'DOCTOR'}, {'Howard.': 'DOCTOR'}, {'September 19, 2063': 'DATE'}, {'March 11, 2064': 'DATE'}], '50559': [{'Sealed Air Corporation': 'ORGANIZATION'}], '50570': [{'9:03 AM': 'TIME'}, {'August 9, 2012': 'DATE'}, {' October 11, 2062': 'DATE'}], '50578': [{'Leon Porter': 'PATIENT'}, {'4809154.WAA': 'MEDICAL_RECORD_NUMBER'}, {'48B915480A.': 'ID_NUMBER'}, {'June 20, 1989': 'DATE'}, {'65': 'AGE'}], '50658': [{'15 years': 'DURATION'}, {'August 29, 2062': 'DATE'}, {'Eric': 'PATIENT'}, {'Milton': 'DOCTOR'}, {'August 30, 2062': 'DATE'}, {'Erving': 'DOCTOR'}], '50686': [{'January 15, 2063': 'DATE'}, {'Manis': 'DOCTOR'}, {'April 8, 2013': 'DATE'}, {'3:36 pm': 'TIME'}, {'Iverson': 'DOCTOR'}, {'Kook': 'DOCTOR'}], '50844': [{'Theis': 'DOCTOR'}, {'Reddish': 'DOCTOR'}], '50916': [{'Billie Frichette': 'PATIENT'}, {' March 25, 2001': 'DATE'}, {'Upper Mount Glen Lake': 'STREET'}, {'Penguin': 'CITY'}, {'QLD': 'STATE'}, {'4155': 'ZIP'}, {'3082344.WRN': 'MEDICAL_RECORD_NUMBER'}], '50955': [{'2062': 'DATE'}, {'MY': 'DOCTOR'}, {'E. Vanelderen': 'DOCTOR'}, {'November 6, 2062': 'DATE'}, {'E. Pensis': 'DOCTOR'}, {'Maroondah Hospital': 'HOSPITAL'}, {'dated November 6, 2062': 'DATE'}], '50973': [{'Parkes8': 'DEPARTMENT'}, {'Wallace': 'DOCTOR'}, {'August 29, 2063': 'DATE'}, {' September 3, 2063': 'DATE'}], '50992': [{'Zehra Persia': 'DOCTOR'}, {'P. Zematis': 'DOCTOR'}, {'4:26 pm': 'TIME'}, {'April 16, 2014': 'DATE'}], '51023': [{'Ella': 'PATIENT'}, {'Biggenden Multipurpose Health Service': 'HOSPITAL'}, {' North West Regional Hospital': 'HOSPITAL'}, {'August 22, 2062': 'DATE'}, {'August 27, 2062': 'DATE'}], '51051': [{'Young Josue': 'PATIENT'}, {'53P778463V': 'ID_NUMBER'}, {'535778.LQK': 'MEDICAL_RECORD_NUMBER'}, {'53P77846': 'ID_NUMBER'}, {'January 18, 1987': 'DATE'}, {'Main Line': 'STREET'}, {'Moura': 'CITY'}, {'Australian Capital Territory': 'STATE'}, {'6910': 'ZIP'}], '51154': [{'today': 'DATE'}, {'Carol Porter': 'PATIENT'}, {'31A412629K': 'ID_NUMBER'}, {'3104126.HYK': 'MEDICAL_RECORD_NUMBER'}, {'31A41262': 'ID_NUMBER'}], '51277': [{'Jerome Chuba': 'PATIENT'}, {'June 1, 1990': 'DATE'}, {'84W834682W': 'ID_NUMBER'}, {'848834.RVG.': 'MEDICAL_RECORD_NUMBER'}, {'84W83468': 'ID_NUMBER'}], '51354': [{'Today': 'DATE'}, {' Brendon Sarge': 'PATIENT'}, {'34G5293503': 'ID_NUMBER'}, {'March 27, 1998.': 'DATE'}, {'3425293.OAJ': 'MEDICAL_RECORD_NUMBER'}], '51358': [{' September 6, 2063': 'DATE'}, {'same date': 'DATE'}, {'West': 'DOCTOR'}, {'Derrick': 'PATIENT'}], '51447': [{'Florrie': 'PATIENT'}, {'Stephenson': 'DOCTOR'}, {'February 4, 2063': 'DATE'}, {'February 5, 2063': 'DATE'}, {'Park.': 'DOCTOR'}], '51506': [{'9600635.PFQ': 'MEDICAL_RECORD_NUMBER'}, {'96A06355': 'ID_NUMBER'}, {'Ariel': 'PATIENT'}, {'June 14, 2062': 'DATE'}], '51514': [{'July 8, 2019': 'DATE'}, {'Tomas': 'PATIENT'}, {'Ipswich Hospital': 'HOSPITAL'}, {'August 21, 2063': 'DATE'}, {'06X93654': 'ID_NUMBER'}, {'06X93654': 'ID_NUMBER'}], '51562': [{'17N342645X': 'ID_NUMBER'}, {'Mandy Nilson': 'PATIENT'}, {'February 2, 1972': 'DATE'}, {'Capertee': 'STREET'}, {'Gold Coast': 'CITY'}, {'WA, with': 'STATE'}, {'2842.': 'ZIP'}, {'1753426.LOX': 'MEDICAL_RECORD_NUMBER'}], '51565': [{'October 3, 2062': 'DATE'}, {'Lemuel Ulysses Fansler': 'DOCTOR'}, {'U Direnzo': 'DOCTOR'}, {' October 5, 2062': 'DATE'}], '51750': [{'Lowry': 'DOCTOR'}, {'Dowdy': 'DOCTOR'}, {'Lin': 'DOCTOR'}, {'Iverson': 'DOCTOR'}, {'Kook': 'DOCTOR'}, {'Manis': 'DOCTOR'}, {'November 6, 2063': 'DATE'}, {'Lowry': 'DOCTOR'}, {'November 7, 2063': 'DATE'}, {'Iverson': 'DOCTOR'}, {'Kook': 'DOCTOR'}], '51763': [{'April 2064.': 'DATE'}, {'April 15, 2064': 'DATE'}], '51766': [{'71V93082': 'ID_NUMBER'}, {' North Columbine Street': 'STREET'}, {'Batemans Bay': 'CITY'}, {'QLD': 'COUNTRY'}, {'2623.': 'ZIP'}, {'October 24, 2062': 'DATE'}], '51866': [{'Brown': 'DOCTOR'}, {'January 15, 2063': 'DATE'}, {'Porter': 'DOCTOR'}, {'Hero': 'DOCTOR'}, {'Grattan': 'DOCTOR'}, {'Dillon': 'PATIENT'}], '51876': [{'Reina Jagun Spriggs': 'PATIENT'}, {'17H878652C': 'ID_NUMBER'}, {'1728786.NGC': 'MEDICAL_RECORD_NUMBER'}], '51987': [{'G. Caudillo': 'DOCTOR'}, {'June 13, 2064': 'DATE'}, {'SydPath Department': 'DEPARTMENT'}, {'Wallaroo Hospital': 'HOSPITAL'}], '52172': [{'61D28960': 'ID_NUMBER'}, {'Dickinson 3 North': 'DEPARTMENT'}, {'Port Pirie Hospital': 'HOSPITAL'}, {'Rueben Juan Aldrige': 'DOCTOR'}, {'Dwain': 'DOCTOR'}, {'Q Overbey': 'DOCTOR'}], '52176': [{'Wiseman': 'DOCTOR'}, {'Musk': 'DOCTOR'}, {'Moody': 'DOCTOR'}, {'Knight': 'DOCTOR'}, {'Porter': 'DOCTOR'}, {'Hayes': 'DOCTOR'}], '52301': [{'Gracia': 'DOCTOR'}, {'Butler': 'DOCTOR'}, {'Martin': 'DOCTOR'}, {'Joseph': 'DOCTOR'}, {'Brandon': 'DOCTOR'}, {'Towns.': 'DOCTOR'}, {'September 2, 2063': 'DATE'}, {'September 11, 2063': 'DATE'}], '52356': [{'Garry resides': 'PATIENT'}, {'Westporter Street': 'STREET'}, {'Bega': 'CITY'}, {'VIC': 'STATE'}, {'May 19, 1998, he': 'DATE'}, {'June 16, 2012': 'DATE'}, {'7:48 PM': 'TIME'}, {'Garry': 'PATIENT'}, {'Hunter Area Pathology': 'DEPARTMENT'}, {'Coonabarabran District Hospital.': 'HOSPITAL'}], '52379': [{'Leestone': 'STREET'}, {'Leeton': 'CITY'}, {'QLD': 'STATE'}, {'2490': 'ZIP'}, {' March 21, 1994': 'DATE'}], '52464': [{'44B207485E': 'ID_NUMBER'}, {' Connie Dinwiddie': 'PATIENT'}, {' April 9, 1983': 'DATE'}], '52540': [{'Connie': 'PATIENT'}, {'Laverty Department': 'DEPARTMENT'}, {'Mercy Health O’Connell Family Centre Campus': 'DOCTOR'}], '52564': [{'65T9073436': 'ID_NUMBER'}, {'Ella Walton.': 'PATIENT'}, {'November 12, 2004': 'DATE'}, {'East Olivera Street': 'STREET'}, {'Orbost': 'CITY'}, {'Tasmania': 'STATE'}, {'6221': 'ZIP'}, {'657907': 'MEDICAL_RECORD_NUMBER'}], '52589': [{'Lirra Jami Schlereth': 'PATIENT'}, {'38Y57950': 'ID_NUMBER'}], '52596': [{'2012': 'DATE'}, {'4:35 PM': 'TIME'}, {'July 23, 2062': 'DATE'}, {'July 24, 2062': 'DATE'}], '52718': [{'September 4, 2062': 'DATE'}, {'Nikola': 'PATIENT'}, {'Nelson': 'DOCTOR'}, {'Prichard': 'DOCTOR'}], '52814': [{'Upper Montagu Street': 'STREET'}, {'Rockhampton': 'CITY'}, {'South Australia': 'STATE'}, {'6338': 'ZIP'}, {'August 29, 2012': 'DATE'}, {'14:31': 'TIME'}, {'Urology Day Only Department': 'DEPARTMENT'}, {'Calvary Public Hospital ACT.': 'HOSPITAL'}], '52978': [{'503651.UJI': 'MEDICAL_RECORD_NUMBER'}, {'Hank Lindemuth': 'PATIENT'}, {'December 28, 2003': 'DATE'}, {'50J651733W': 'ID_NUMBER'}, {'50J65173': 'ID_NUMBER'}], '53072': [{'6997': 'ZIP'}, {'November 9, 1994': 'DATE'}, {'August 1, 2012': 'DATE'}, {' 19:33 PM': 'TIME'}, {'Coronary Care Unit': 'DEPARTMENT'}, {'Tottenham Hospital': 'HOSPITAL'}, {'Birrunga Brad Omland': 'HOSPITAL'}], '53157': [{'Tommy Hilderbrandt': 'PATIENT'}, {'June 10, 2013': 'DATE'}, {'Daley': 'STREET'}, {'Millicent': 'CITY'}, {'TAS': 'STATE'}, {'2902': 'ZIP'}, {'3563528.UAO': 'MEDICAL_RECORD_NUMBER'}, {'35S35288': 'ID_NUMBER'}, {'35S352880O': 'ID_NUMBER'}], '53169': [{'October 17, 2062': 'DATE'}, {'October 15, 2062': 'DATE'}, {'October 17, 2062': 'DATE'}, {'M. Curimao': 'DOCTOR'}], '53190': [{'Sylmar': 'STREET'}, {'Howlong': 'CITY'}, {'Western Australia': 'STATE'}, {'5724': 'ZIP'}, {'94Y02043': 'ID_NUMBER'}, {'March 27, 2014': 'DATE'}, {'06:48 PM': 'TIME'}], '53268': [{'October 12, 2062': 'DATE'}, {'KL': 'DOCTOR'}, {'October 10, 2062': 'DATE'}, {'Z Feauto': 'DOCTOR'}], '53400': [{'P. Blovin': 'DOCTOR'}, {'May 3, 2063': 'DATE'}, {'Cherbourg Hospital Cancer Centre': 'HOSPITAL'}, {'Northern Territory': 'STATE'}, {'March 27, 2063': 'DATE'}], '53402': [{'30W234486N': 'ID_NUMBER'}, {'30W23448': 'ID_NUMBER'}, {'April 3, 2014': 'DATE'}, {'2.31 p.m': 'TIME'}, {'Dickinson 3 North': 'DEPARTMENT'}, {'Brewerina Multipurpose Service': 'HOSPITAL'}], '53411': [{'75Q870329I': 'ID_NUMBER'}, {'September 26, 2063': 'DATE'}, {'Kenny': 'PATIENT'}, {'PaLMS department': 'DEPARTMENT'}, {'75Q87032.': 'ID_NUMBER'}, {'This date': 'DATE'}, {'Kenny’s treatment': 'PATIENT'}], '53415': [{'Maria': 'PATIENT'}, {'West Railroad': 'STREET'}, {'Williamstown': 'CITY'}, {'NT': 'STATE'}, {'1234': 'ZIP'}, {'October 11, 2009': 'DATE'}], '53437': [{' October 15, 2063': 'DATE'}, {'Gasol': 'DOCTOR'}, {'Pinion reviewing': 'DOCTOR'}, {'Katrina': 'PATIENT'}, {'May 28, 2064': 'DATE'}, {'Gordon': 'DOCTOR'}], '53489': [{'21I76240': 'ID_NUMBER'}, {'Zermeno': 'DOCTOR'}, {'F. Christophe': 'DOCTOR'}, {'Maycock': 'DOCTOR'}, {'Somoza': 'DOCTOR'}, {'St. Vincent’s Pathology Department': 'DEPARTMENT'}], '53546': [{'April 24, 1997': 'DATE'}, {'97P22753': 'ID_NUMBER'}, {'97P22753': 'ID_NUMBER'}, {'April 7, 2014': 'DATE'}, {'17:40': 'TIME'}, {'PaLMS department': 'DEPARTMENT'}, {'Margaret River Hospital': 'HOSPITAL'}], '315': [{'15 minutes': 'DURATION'}, {'the morning': 'TIME'}], '2465': [{'Now': 'DATE'}], '2487': [{'Friday': 'DATE'}, {'this weekend': 'DATE'}, {'Monday': 'DATE'}, {'today': 'DATE'}], '2561': [{'today': 'DATE'}, {'tomorrow': 'DATE'}], '2583': [{'weekend': 'DATE'}], '2644': [{'Tanya': 'FAMILYNAME'}], '2723': [{'now': 'DATE'}], '3108': [{'Bank of America': 'ORGANIZATION'}, {'10 days': 'DURATION'}, {'Bank of America': 'ORGANIZATION'}], '3142': [{'yesterday': 'DATE'}], '3214': [{'Ivan': 'FAMILYNAME'}], '24198': [{'Archbishop': 'PROFESSION'}, {'Canterbury': 'LOCATION-OTHER'}], '24224': [{'whole time': 'DURATION'}, {'last several months': 'DURATION'}], '24462': [{'India': 'COUNTRY'}, {'now': 'DATE'}, {'40s': 'AGE'}, {'18': 'AGE'}, {'Victor Street': 'STREET'}], '24602': [{'29': 'AGE'}, {'Ivan': 'FAMILYNAME'}, {'a long day': 'DURATION'}], '24675': [{'now': 'DATE'}, {'now': 'DATE'}, {'in the past': 'DURATION'}], '25024': [{'Friday': 'DATE'}, {'Tuesday': 'DATE'}, {'yesterday': 'DATE'}, {'a week': 'DURATION'}, {'now': 'DATE'}], '25165': [{'now': 'DATE'}], '25256': [{'today after 8:00 p.m': 'TIME'}, {'Monday': 'DATE'}, {'day': 'DATE'}, {'tomorrow': 'DATE'}], '25274': [{'now': 'DATE'}, {'weekend': 'DATE'}, {'in a week': 'DURATION'}], '25581': [{'five days': 'DURATION'}], '25945': [{'yesterday': 'DATE'}, {'Carlton': 'DOCTOR'}], '25952': [{'this weekend': 'DATE'}, {'each day': 'SET'}, {'every day': 'SET'}, {'morning': 'TIME'}, {'an hour and a half': 'DURATION'}, {'noon': 'TIME'}, {'afternoon': 'TIME'}], '25961': [{'this week': 'DATE'}, {'a week': 'DURATION'}, {'this week': 'DATE'}, {'selling pottery': 'PROFESSION'}, {'potter': 'PROFESSION'}], '26392': [{'Sydney': 'PERSONALNAME'}], '26631': [{'a week': 'DURATION'}], '26725': [{'five minutes': 'DURATION'}], '26732': [{'James': 'FAMILYNAME'}], '26859': [{'Josh': 'PERSONALNAME'}], '26946': [{'today': 'DATE'}, {'Sydney': 'PERSONALNAME'}], '27057': [{'today': 'DATE'}, {'last night': 'TIME'}, {'today': 'DATE'}, {'Carl': 'PERSONALNAME'}, {'Carl': 'PERSONALNAME'}], '27164': [{'four times a year': 'SET'}], '27285': [{'couple of times': 'SET'}, {'periods of time': 'DURATION'}, {'years': 'DURATION'}], '27351': [{'one job per week': 'SET'}], '27417': [{'today': 'DATE'}, {'the last time': 'DATE'}, {'same day': 'DATE'}, {'several months': 'DURATION'}], '27655': [{'morning': 'DATE'}, {'night': 'TIME'}], '27657': [{'YMCA': 'ORGANIZATION'}], '27879': [{'this past week': 'DURATION'}], '28244': [{'today': 'DATE'}], '28460': [{'morning': 'TIME'}, {'all day': 'DURATION'}], '28673': [{'Vanessa': 'PERSONALNAME'}, {'Lucy': 'PERSONALNAME'}, {'Vanessa': 'PERSONALNAME'}, {'Yvonne': 'PERSONALNAME'}], '29150': [{'Wesley': 'ORGANIZATION'}, {'Tuesday': 'DATE'}], '29203': [{'California': 'STATE'}, {'Now': 'DATE'}], '29771': [{'couple of days': 'DURATION'}], '29805': [{'and now': 'DATE'}, {'last night': 'TIME'}, {'Every day': 'SET'}, {'Harold': 'FAMILYNAME'}, {'Every day': 'SET'}], '30082': [{'Ian': 'PERSONALNAME'}, {'Sunday morning': 'TIME'}, {'a week': 'DURATION'}], '30391': [{'December': 'DATE'}, {'September': 'DATE'}, {'October': 'DATE'}, {'yesterday': 'DATE'}, {'today': 'DATE'}], '30720': [{'This time': 'DATE'}, {'year': 'DATE'}], '30781': [{'yesterday': 'DATE'}], '30802': [{'now': 'DATE'}, {'now': 'DATE'}], '30934': [{'those months': 'DURATION'}, {'one day a week': 'SET'}, {'Sundays': 'DATE'}], '31006': [{'Yesterday': 'DATE'}, {'all day': 'DURATION'}], '31132': [{'today': 'DATE'}, {'now': 'DATE'}, {'once a week': 'SET'}, {'every week': 'SET'}, {'last week': 'DATE'}], '31325': [{'night': 'TIME'}, {'night': 'TIME'}], '31600': [{'two': 'DURATION'}, {'three years': 'DURATION'}, {'recent days': 'DURATION'}], '32207': [{'now': 'DATE'}, {'today': 'DATE'}, {'Ramona': 'PATIENT'}], '32232': [{'Shresthire': 'CITY'}, {'Friday': 'DATE'}], '32280': [{'whole day': 'DURATION'}, {'Tanya': 'PATIENT'}], '32317': [{'now': 'DATE'}, {'Ramona': 'PATIENT'}, {'every day': 'SET'}, {'day': 'DATE'}, {'every day': 'SET'}], '50048': [{'K Grassle': 'DOCTOR'}, {'42Z36336.': 'ID_NUMBER'}], '50084': [{'Yale': 'DOCTOR'}, {'September 13, 2062': 'DATE'}, {'Hauser': 'DOCTOR'}, {'September 12, 2062': 'DATE'}, {'Manion,': 'DOCTOR'}, {'Nance': 'DOCTOR'}, {'Jeremy’s case': 'PATIENT'}], '50119': [{'2062': 'DATE'}, {'Goldstein': 'DOCTOR'}, {'Jolin': 'PATIENT'}, {'Jolin': 'PATIENT'}], '50122': [{'Virgina': 'PATIENT'}, {'July 1, 2062': 'DATE'}, {'Vassell': 'DOCTOR'}, {'Whiteside': 'DOCTOR'}], '50123': [{'Tissue Pathology  Diagnostic Oncology Department': 'DEPARTMENT'}, {'West Coast District Hospital': 'HOSPITAL'}, {'July 25, 2012': 'DATE'}, {'13:05': 'TIME'}, {'Dhirri Harris Birkes': 'DOCTOR'}, {'NJ': 'DOCTOR'}, {'September 28, 2062': 'DATE'}, {'V. Daughtery': 'DOCTOR'}], '50132': [{'patient, Elva Recidivi, with': 'PATIENT'}, {'92Q668799U': 'ID_NUMBER'}, {'9266687.YXU': 'MEDICAL_RECORD_NUMBER'}, {'West department': 'DEPARTMENT'}, {'Morawa Hospital': 'HOSPITAL'}, {'April 10, 2014': 'DATE'}, {'12:30.': 'TIME'}], '50137': [{'39C75774': 'ID_NUMBER'}, {'Dora': 'PATIENT'}], '50261': [{'69': 'AGE'}, {'Davidson': 'DOCTOR'}, {'September 12, 2063': 'DATE'}, {'Tatum': 'DOCTOR'}, {'Hayward': 'DOCTOR'}, {'Loftin': 'DOCTOR'}, {'Brooks': 'DOCTOR'}], '50318': [{'2064': 'DATE'}, {'P. Westendorf.': 'DOCTOR'}], '50361': [{'Anny': 'PATIENT'}, {'January 15, 2063': 'DATE'}], '50503': [{'535778': 'ID_NUMBER'}], '50576': [{'2012': 'DATE'}, {'08:21': 'TIME'}, {'Radiation Oncology Department': 'DEPARTMENT'}, {' Royal Darwin Hospital': 'HOSPITAL'}, {'Margaret Azzie Wendroth': 'DOCTOR'}, {'R. Potolsky': 'DOCTOR'}, {'R. Mellors': 'DOCTOR'}, {'R. Shivel': 'DOCTOR'}], '50584': [{'Siurek': 'DOCTOR'}, {'Hoogheem': 'DOCTOR'}, {'15:50': 'TIME'}, {'April 10, 2014': 'DATE'}], '50618': [{'92Q66879': 'ID_NUMBER'}, {'Cantello': 'STREET'}, {'Nambucca Heads': 'CITY'}, {'NT': 'STATE'}, {'5222': 'ZIP'}, {'22, 2002': 'DATE'}, {'Grover Forrest Friends': 'DOCTOR'}, {'Marlon': 'DOCTOR'}, {'FC': 'DOCTOR'}, {'X Horey': 'DOCTOR'}, {'June 18, 2064': 'DATE'}], '50628': [{'Carol': 'PATIENT'}, {'St George Private Department': 'DEPARTMENT'}, {'Bellingen River District Hospital': 'HOSPITAL'}, {'Booker.': 'DOCTOR'}, {'Houston': 'DOCTOR'}, {'September 14, 2062': 'DATE'}, {'White': 'DOCTOR'}], '50706': [{'Clair’Vannessa Creenan': 'PATIENT'}, {'6112896.BOO': 'MEDICAL_RECORD_NUMBER'}, {'61D289605O': 'ID_NUMBER'}, {'Hamstrom': 'STREET'}, {'Stirling': 'CITY'}, {'New South Wales': 'STATE'}, {'2500.': 'ZIP'}, {'February 8, 2003': 'DATE'}, {'61D28960': 'ID_NUMBER'}], '50707': [{'QA': 'DOCTOR'}, {'September 25, 2062': 'DATE'}, {'B': 'DOCTOR'}], '50718': [{'September 21, 2062': 'DATE'}, {'CC': 'DOCTOR'}, {'NE.': 'DOCTOR'}, {'W. Wegener': 'DOCTOR'}], '50736': [{'Florrie continues': 'PATIENT'}, {'April 20, 2064': 'DATE'}, {'March 4, 2064': 'DATE'}], '50837': [{'92R85354': 'ID_NUMBER'}, {'Pugh Street': 'STREET'}, {'Caboolture': 'CITY'}, {'VIC': 'STATE'}, {'4821': 'ZIP'}, {'October 2, 2062': 'DATE'}, {'medic surgery Ward': 'DEPARTMENT'}, {'Tresillian Family Care Centre Belmore': 'HOSPITAL'}], '50875': [{'Eufemia Trachtenberg, with': 'PATIENT'}, {'404689.UNS': 'MEDICAL_RECORD_NUMBER'}, {'40M68985': 'ID_NUMBER'}, {'62': 'AGE'}], '51131': [{'94T807668P': 'ID_NUMBER'}, {'Chris Hunter': 'PATIENT'}, {'Goswell Street': 'STREET'}, {'Banora Point': 'CITY'}, {'South Australia': 'STATE'}, {'6220': 'ZIP'}], '51316': [{'September 28, 2062': 'DATE'}], '51415': [{'Jesus Farfalla': 'PATIENT'}, {'06M240780K': 'ID_NUMBER'}, {'06M24078': 'ID_NUMBER'}, {'064240.TVA': 'MEDICAL_RECORD_NUMBER'}], '51478': [{'June 10, 1987': 'DATE'}, {'April 8, 2014': 'DATE'}, {'15:50': 'TIME'}, {'Ngunya Adolfo Treece': 'DOCTOR'}, {'GF': 'DOCTOR'}, {'S. Lubell': 'DOCTOR'}, {'June 13, 2064': 'DATE'}], '51480': [{'86F2864278': 'ID_NUMBER'}, {'Dillon Murray': 'PATIENT'}, {'Dillon': 'PATIENT'}, {'January 30, 2007': 'DATE'}, {'Sea Chase Street': 'STREET'}, {'Smithton': 'CITY'}, {'South Australia': 'STATE'}, {'7307.': 'ZIP'}, {'8622864.HSV': 'MEDICAL_RECORD_NUMBER'}], '51488': [{'Ashley': 'PATIENT'}, {'Cook': 'DOCTOR'}, {'Lillard': 'DOCTOR'}, {'Gunn.': 'DOCTOR'}, {'May 23, 2064': 'DATE'}, {'Cook': 'DOCTOR'}], '51571': [{'3895795.BBN': 'MEDICAL_RECORD_NUMBER'}, {'38Y57950': 'ID_NUMBER'}], '51604': [{'Sharla Carrithers': 'DOCTOR'}, {'Janyce Meshanko': 'DOCTOR'}, {'October 10, 2062': 'DATE'}], '51711': [{'65T90734': 'ID_NUMBER'}, {'Irving': 'DOCTOR'}], '51732': [{'Today': 'DATE'}, {'Denny Smith': 'PATIENT'}, {'08V691424J.': 'ID_NUMBER'}, {'0886914.HLJ': 'MEDICAL_RECORD_NUMBER'}, {'08V69142': 'ID_NUMBER'}], '51762': [{'Katrina': 'PATIENT'}, {'May 28, 2064': 'DATE'}, {'Katrina': 'PATIENT'}], '51793': [{'December 23, 2063': 'DATE'}, {'Lenze.': 'DOCTOR'}, {'December 24, 2063': 'DATE'}, {'Dalman': 'DOCTOR'}, {'Ellington': 'DOCTOR'}], '51822': [{'Roy': 'PATIENT'}, {'78G07832.': 'MEDICAL_RECORD_NUMBER'}, {'Roy': 'PATIENT'}], '51826': [{'Rueben Miki Pushard': 'PATIENT'}, {'16J102766C': 'ID_NUMBER'}, {'163102.SSP': 'MEDICAL_RECORD_NUMBER'}, {'16J10276': 'ID_NUMBER'}], '51867': [{'08:52 PM': 'TIME'}, {'St. Vincent Department': 'DEPARTMENT'}, {'Forensic Hospital': 'HOSPITAL'}, {'George': 'DOCTOR'}, {'May 17, 2064': 'DATE'}], '51998': [{'Orlie Lloyd Graubard': 'DOCTOR'}, {'XO': 'DOCTOR'}, {'JC': 'DOCTOR'}, {'H Wold.': 'DOCTOR'}, {'October 3, 2062': 'DATE'}, {'December 3, 2062': 'DATE'}], '52015': [{'63F23372': 'ID_NUMBER'}, {'Newcastle': 'CITY'}, {'Northern Territory': 'STATE'}, {' 4372': 'ZIP'}, {'December 2, 1994': 'DATE'}, {'July 16': 'DATE'}], '52124': [{'34G52935': 'ID_NUMBER'}, {'Brendon': 'PATIENT'}, {'Platt House Street': 'STREET'}, {'Victoria': 'STATE'}, {'3166': 'ID_NUMBER'}, {'Ballarat Health Services (Base Hospital)': 'HOSPITAL'}, {'SEALS central department': 'DEPARTMENT'}], '52182': [{'February 18, 2014': 'DATE'}, {'1:49 PM': 'TIME'}, {'30T68150': 'ID_NUMBER'}, {'30T68150': 'ID_NUMBER'}, {' Stone Mill Street': 'STREET'}, {'Gosford': 'CITY'}, {'NT': 'STATE'}, {'1224': 'ZIP'}], '52195': [{'September 18, 2063': 'DATE'}, {'September 2, 2063': 'DATE'}, {'George': 'PATIENT'}, {'23': 'DURATION'}, {'3:40 PM': 'TIME'}], '52311': [{'Parkes 9 East department.': 'DEPARTMENT'}, {'May 28, 2012': 'DATE'}, {'08:12': 'TIME'}, {'09:35': 'TIME'}, {'same morning': 'TIME'}], '52327': [{'Tom Berry': 'PATIENT'}, {'62M791612Q': 'ID_NUMBER'}, {'624791.RDH': 'MEDICAL_RECORD_NUMBER'}, {'62M': 'ID_NUMBER'}], '52329': [{'Springwood Hospital': 'HOSPITAL'}, {'November 10, 2062': 'DATE'}, {'O Kosofsky': 'DOCTOR'}, {'September 27, 2062': 'DATE'}, {'May 10, 2062': 'DATE'}, {'53P77846': 'ID_NUMBER'}, {'A5 Weikert': 'PATIENT'}], '52338': [{'Ella': 'PATIENT'}, {' Hunter Area Pathology Department': 'DEPARTMENT'}, {'Cloncurry Multi-Purpose Health Service': 'HOSPITAL'}, {'Valant': 'DOCTOR'}, {'Jackson': 'DOCTOR'}, {'Fishel.': 'DOCTOR'}, {'May 21': 'DATE'}], '52432': [{'Jalen Nilson': 'PATIENT'}, {'19K007521W': 'ID_NUMBER'}, {'1940075.HFW': 'MEDICAL_RECORD_NUMBER'}, {'19K00752.': 'ID_NUMBER'}], '52435': [{'9268535.MZS': 'MEDICAL_RECORD_NUMBER'}, {'Les Loehrer': 'PATIENT'}, {'October 18, 2010': 'DATE'}, {'92R853549S': 'ID_NUMBER'}], '52762': [{'October 20, 2062': 'DATE'}, {'Majersky': 'DOCTOR'}], '52884': [{'074190.MFS': 'MEDICAL_RECORD_NUMBER'}, {'patient Reedus Kellie': 'PATIENT'}, {' May 3, 2011': 'DATE'}, {'07L190417H': 'ID_NUMBER'}, {'07L19041': 'ID_NUMBER'}], '52933': [{'June 11, 2064': 'DATE'}, {'Pathology West': 'DEPARTMENT'}, {'The Sutherland Hospital.': 'HOSPITAL'}, {'Judson Alphonse Spueler.': 'DOCTOR'}, {' June 12, 2064': 'DATE'}, {'K. Marsack.': 'DOCTOR'}], '53017': [{'Envoi': 'DEPARTMENT'}, {'Harris Ismael Clyatt.': 'PATIENT'}, {'October 15, 2062': 'DATE'}, {'J Progacz': 'DOCTOR'}], '53068': [{'Simran Charissa Huckabey': 'DOCTOR'}, {'Jackie': 'DOCTOR'}, {'Baj': 'DOCTOR'}, {'Kirk': 'DOCTOR'}, {'NJ': 'DOCTOR'}, {'TG': 'DOCTOR'}, {'October 30, 2062': 'DATE'}], '53158': [{'Quade Hasty': 'PATIENT'}, {'96R56255': 'ID_NUMBER'}, {'966562.PNM': 'MEDICAL_RECORD_NUMBER'}], '53188': [{'Bridges': 'DOCTOR'}, {'April 17, 2013': 'DATE'}, {'12:45 PM': 'TIME'}], '53238': [{'52P828726X': 'ID_NUMBER'}, {'Roy Goodwin': 'PATIENT'}, {'October 29, 2032': 'DATE'}, {'Belcourt': 'STREET'}, {'Buninyong': 'CITY'}, {'NT': 'STATE'}, {'4034.': 'ZIP'}], '53255': [{'63M74145.': 'ID_NUMBER'}, {'Northome': 'STREET'}, {'Tinonee': 'CITY'}, {'6327': 'ZIP'}, {'December 29, 1992': 'DATE'}, {'July 11, 2012': 'DATE'}, {'9:10 AM': 'TIME'}, {'SYDPATH Department': 'DEPARTMENT'}, {'Ayr Hospital': 'HOSPITAL'}], '53286': [{'Today': 'DATE'}, {'Jeremy Kuzma': 'PATIENT'}, {'10J811771Z': 'ID_NUMBER'}, {'1038117.SCZ': 'MEDICAL_RECORD_NUMBER'}, {'10J81177': 'ID_NUMBER'}, {'10J81177': 'ID_NUMBER'}], '53374': [{'Wu': 'DOCTOR'}, {'Hu': 'DOCTOR'}, {'Guo': 'DOCTOR'}, {'Connie': 'PATIENT'}, {'June 20, 2063': 'DATE'}], '53397': [{' September 18, 2062': 'DATE'}], '53408': [{'Wadjari Stjames': 'DOCTOR'}, {'59K84759': 'ID_NUMBER'}], '53445': [{' October 11, 2062': 'DATE'}, {'Macquarie Ward': 'DEPARTMENT'}, {'Cobar District Hospital': 'HOSPITAL'}, {'Myron Theo Lozey. The': 'DOCTOR'}, {'October 12': 'DATE'}], '53478': [{'These dates': 'DURATION'}, {'Mike': 'PATIENT'}, {'Porter': 'DOCTOR'}, {'Ellis': 'DOCTOR'}], '53509': [{'Haan Street': 'STREET'}, {'Roxby Downs': 'CITY'}, {'SA, with': 'STATE'}, {'7268.': 'ZIP'}, {'August 27': 'DATE'}], '278': [{'two hours': 'DURATION'}, {'three hours': 'DURATION'}, {'two': 'TIME'}], '2582': [{'morning': 'TIME'}, {'morning': 'TIME'}, {'yesterday': 'DATE'}, {'spring': 'DURATION'}, {'spring': 'DURATION'}], '2777': [{'chiropractor': 'PROFESSION'}, {'chiropractor': 'PROFESSION'}, {'now': 'DATE'}], '3176': [{'This morning': 'TIME'}, {'this year': 'DATE'}, {'next year': 'DATE'}], '24018': [{'20 years': 'DURATION'}], '24304': [{'day': 'DURATION'}, {'her day': 'DURATION'}], '24613': [{'every day.': 'SET'}, {'once a week': 'SET'}], '25225': [{'two weeks': 'DURATION'}], '25520': [{'this weekend': 'DATE'}, {'the week': 'DURATION'}, {'every five': 'SET'}, {'or ten minutes': 'SET'}], '25714': [{'now': 'DATE'}], '25770': [{'now': 'DATE'}], '25803': [{'now': 'DATE'}, {'night': 'TIME'}], '25909': [{\"Today's six\": 'TIME'}, {'now': 'DATE'}, {'30 something years': 'DURATION'}, {'now': 'DATE'}], '26021': [{'now': 'DATE'}, {'two weeks': 'DURATION'}], '26290': [{'20 minutes': 'DURATION'}, {'last night': 'TIME'}, {'20 minutes': 'DURATION'}, {'last night': 'TIME'}, {'couple of weeks': 'DURATION'}, {'Sydney': 'PERSONALNAME'}, {'past few weeks': 'DURATION'}], '26305': [{'now': 'DATE'}], '26315': [{'Audrey': 'PATIENT'}, {'Audrey': 'PATIENT'}], '26523': [{'Friday': 'DATE'}, {'tonight': 'TIME'}, {'tomorrow morning': 'TIME'}, {'tonight': 'TIME'}, {'week': 'DATE'}], '26754': [{'now': 'DATE'}, {'Ivan': 'FAMILYNAME'}], '27368': [{'last night': 'TIME'}, {'Carl': 'PERSONALNAME'}, {'four': 'AGE'}], '27826': [{'morning': 'TIME'}], '28030': [{'five in the morning': 'TIME'}], '28311': [{'Tanya': 'PERSONALNAME'}, {'Tanya': 'PERSONALNAME'}, {'Candice': 'PERSONALNAME'}, {'Tanya': 'PERSONALNAME'}], '28605': [{'morning': 'TIME'}], '29347': [{'two weeks': 'DURATION'}, {'the two week': 'DURATION'}, {'two and a half week': 'DURATION'}], '29584': [{'15 minutes': 'DURATION'}, {'over the week': 'DURATION'}, {'morning': 'TIME'}, {'evening': 'TIME'}, {'tomorrow': 'DATE'}, {'tonight': 'TIME'}], '30297': [{'yesterday': 'DATE'}, {'Amelia': 'PERSONALNAME'}, {'today': 'DATE'}], '30381': [{'Kinkos': 'PATIENT'}], '30430': [{'Every day': 'SET'}], '30662': [{'Friday': 'DATE'}], '30986': [{'Five hours': 'DURATION'}, {'day': 'DURATION'}], '31087': [{'now': 'DATE'}, {'eight': 'DURATION'}, {'nine weeks': 'DURATION'}], '31367': [{'Susan': 'PERSONALNAME'}, {'14th': 'DATE'}, {'now': 'DATE'}, {'Sydney': 'PERSONALNAME'}, {'Susan': 'PERSONALNAME'}, {'Sydney': 'PERSONALNAME'}], '31697': [{'next month': 'DATE'}, {'another week': 'DATE'}, {'days': 'DURATION'}], '31981': [{'11': 'TIME'}, {'several hours': 'DURATION'}, {'Sunday morning': 'TIME'}, {'Ian': 'PERSONALNAME'}, {'Jess': 'PERSONALNAME'}], '32034': [{'Debbie': 'DOCTOR'}], '32166': [{'March': 'DATE'}, {'April': 'DATE'}], '32238': [{'Now': 'DATE'}], '50030': [{'W. Obstfeld': 'DOCTOR'}, {'October 19, 2062': 'DATE'}], '50035': [{'Connie resides': 'PATIENT'}, {'Blue Cow Street': 'STREET'}, {'Camden Haven': 'CITY'}, {'Northern Territory': 'STATE'}, {'5067.': 'ZIP'}, {'4402074.WNE': 'MEDICAL_RECORD_NUMBER'}, {'44B20748': 'ID_NUMBER'}], '50049': [{'Steve Mailloux': 'PATIENT'}, {'0554355.JCH': 'MEDICAL_RECORD_NUMBER'}, {'05O43553': 'ID_NUMBER'}, {'September 27, 2062': 'DATE'}], '50063': [{'Northern Territory': 'STATE'}, {'3137': 'ZIP'}, {'August 30, 2012': 'DATE'}, {'09:19': 'TIME'}, {'4 Jabiru Place': 'DEPARTMENT'}, {'East Wimmera Health Service Wycheproof': 'HOSPITAL'}], '50067': [{'306911.QFF': 'MEDICAL_RECORD_NUMBER'}, {'30R911612I': 'ID_NUMBER'}, {'30R91161': 'ID_NUMBER'}], '50072': [{'Mason': 'PATIENT'}, {'Walburgh Street': 'STREET'}, {'Devonport': 'CITY'}, {'Victoria': 'STATE'}, {'8003.': 'ZIP'}, {'July 22,1980': 'DATE'}], '50117': [{'A Dunkentell': 'DOCTOR'}, {'A Royce Cowie': 'DOCTOR'}, {'September 3, 2062': 'DATE'}, {'Jamie': 'DOCTOR'}, {'Kantarian': 'DOCTOR'}], '50144': [{'Zahara Hamberger': 'PATIENT'}, {'October 15, 1996': 'DATE'}, {' Stratford House': 'STREET'}, {'Nambucca Heads': 'CITY'}, {'Western Australia': 'STATE'}], '50207': [{'Tomas': 'PATIENT'}, {'06X93654': 'ID_NUMBER'}, {'August 21, 2063': 'DATE'}, {'September 6, 2063': 'DATE'}], '50216': [{'1706458.VTX': 'MEDICAL_RECORD_NUMBER'}, {'17C645887X': 'ID_NUMBER'}, {'Rodolfo Ruman': 'PATIENT'}, {'17C64588': 'ID_NUMBER'}, {'Hewins Street': 'STREET'}, {'Mount Eliza': 'CITY'}], '50315': [{'Gordan': 'PATIENT'}, {'Charles': 'DOCTOR'}, {'Kuzma': 'DOCTOR'}, {'Terry': 'DOCTOR'}, {'Arris.': 'DOCTOR'}, {'Gordan': 'PATIENT'}, {'June 9, 2064': 'DATE'}], '50316': [{'Oliva': 'PATIENT'}, {'3:30 AM': 'TIME'}, {'July 15, 2013': 'DATE'}, {'Oliva': 'PATIENT'}], '50369': [{'50J65173': 'ID_NUMBER'}, {'50J65173': 'ID_NUMBER'}], '50435': [{'Stephenson': 'DOCTOR'}, {'August 20, 2062': 'DATE'}, {'Washington': 'DOCTOR'}, {'Clanton': 'DOCTOR'}], '50517': [{'Gail Jamie Dickow': 'PATIENT'}, {'2795187.SJQ': 'MEDICAL_RECORD_NUMBER'}, {'27Y518': 'ID_NUMBER'}], '50610': [{' Ashley': 'PATIENT'}, {'December 23, 2062': 'DATE'}, {'Pathology West': 'DEPARTMENT'}], '50673': [{'Jeremy': 'PATIENT'}, {'Boat Street': 'STREET'}, {'Tenterfield': 'CITY'}, {'4493': 'ZIP'}, {'February 11, 1988': 'DATE'}, {'July 9, 2012': 'DATE'}, {'3:42 PM': 'TIME'}, {'Acute Care Ward': 'DEPARTMENT'}, {'Port Pirie Hospital': 'HOSPITAL'}, {'Bryant': 'DOCTOR'}], '50676': [{'KU': 'DOCTOR'}, {'LH': 'DOCTOR'}, {'May 21, 2064': 'DATE'}, {'P Chandley': 'DOCTOR'}], '50838': [{'Auld Street': 'STREET'}, {'Cobar': 'CITY'}, {'South Australia': 'STATE'}, {'2070': 'ZIP'}, {'September 20, 2062': 'DATE'}, {'3/9 Jennie Cox Close': 'DEPARTMENT'}, {'Woodrow Sydney Derouin.': 'DOCTOR'}], '50841': [{' Isa': 'PATIENT'}, {'June 13, 2064': 'DATE'}, {'Swift': 'DOCTOR'}, {'June 12, 2064': 'DATE'}], '50887': [{'Delta Air Lines': 'ORGANIZATION'}, {'Bulahdelah Community Hospital': 'HOSPITAL'}], '50935': [{'August 14, 2062': 'DATE'}, {'Iverson': 'DOCTOR'}, {'Butler': 'DOCTOR'}], '51041': [{'Nora Melvin Morreale': 'DOCTOR'}, {'48Q219621B': 'ID_NUMBER'}, {'48Q21962': 'ID_NUMBER'}, {'4862196.GEB': 'MEDICAL_RECORD_NUMBER'}, {'N Cumnor': 'STREET'}, {'Coonabarabran': 'CITY'}, {'Northern Territory': 'STATE'}, {'4505': 'ZIP'}, {'September 21, 2002': 'DATE'}], '51043': [{'98Y62854': 'ID_NUMBER'}, {'Eric': 'PATIENT'}, {'Shupin Street': 'STREET'}, {'Urraween': 'CITY'}, {'New South Wales': 'STATE'}, {'2559': 'ZIP'}, {'September 23, 1974': 'DATE'}, {'June 26, 2012': 'DATE'}], '51057': [{'Cathy': 'PATIENT'}, {'Sewickley Street': 'STREET'}, {'Kyabram': 'CITY'}, {'WA': 'STATE'}, {'6970': 'ZIP'}, {'January 26, 2004': 'DATE'}], '51062': [{'78G07832': 'ID_NUMBER'}, {'Mr. Hunter': 'DOCTOR'}], '51081': [{'Jerome Andres Yarran- Sanjurjo': 'DOCTOR'}, {'XZ': 'DOCTOR'}, {'A. Amphy': 'DOCTOR'}, {'Kaleeeya Hospital': 'HOSPITAL'}, {'A. Grismore': 'DOCTOR'}, {'Queanbeyan District Hospital': 'HOSPITAL'}, {'September 27, 2062': 'DATE'}], '51310': [{'Today': 'DATE'}, {'Batty Cook': 'PATIENT'}, {'77G028680F': 'ID_NUMBER'}, {'772028.QWA.': 'MEDICAL_RECORD_NUMBER'}, {'77G02868.': 'ID_NUMBER'}, {'Batty resides': 'PATIENT'}, {'Fort Foote': 'STREET'}, {'Goolwa': 'CITY'}, {'WA': 'STATE'}], '51406': [{'Brendon': 'PATIENT'}, {'Morant': 'DOCTOR'}, {'Cook': 'DOCTOR'}, {'Hauser': 'DOCTOR'}, {'Brendon': 'PATIENT'}, {'Brendon': 'PATIENT'}, {'July 27, 2062': 'DATE'}], '51487': [{'August 6, 2062': 'DATE'}, {'Cathy': 'PATIENT'}, {'Prince of Wales Private Department': 'DEPARTMENT'}, {'Charleville Hospital': 'HOSPITAL'}, {'Henson': 'DOCTOR'}], '51489': [{'Jasper': 'PATIENT'}, {'twice': 'SET'}, {'R2': 'SET'}], '51543': [{'Leon': 'PATIENT'}], '51617': [{'P. Ojano': 'DOCTOR'}, {'Ameren Corporation': 'ORGANIZATION'}, {'59K847594': 'ID_NUMBER'}], '51628': [{' May 29, 2064': 'DATE'}, {'May 27, 2064': 'DATE'}, {'L Corral': 'DOCTOR'}, {'L Lumadue.': 'DOCTOR'}], '51649': [{'Katrina': 'PATIENT'}, {'49Z72063, 49Z72063': 'ID_NUMBER'}, {'2063': 'ID_NUMBER'}, {'October 14, 2063': 'DATE'}, {'Katrina had': 'PATIENT'}], '51690': [{'X Fei': 'DOCTOR'}, {'15:40 PM': 'TIME'}, {' August 8, 2012': 'DATE'}, {'X Chilo': 'DOCTOR'}, {' November 10, 2062': 'DATE'}], '51705': [{'Jimmy Brenton Hulton': 'DOCTOR'}, {'WG': 'DOCTOR'}, {'D Goodner': 'DOCTOR'}, {'September 15, 2062.': 'DATE'}], '51739': [{'September 30, 2005': 'DATE'}, {'Fawkham': 'STREET'}, {'Howlong': 'CITY'}, {'Victoria': 'STATE'}, {'4012': 'ZIP'}, {'14, 2062': 'DATE'}, {'SEALS Central': 'DEPARTMENT'}, {'Ted Bernie Esposto': 'DOCTOR'}, {' September 15, 2062': 'DATE'}, {'XW': 'DOCTOR'}], '51759': [{'Burntside Street': 'STREET'}, {'Beaconsfield Upper': 'CITY'}, {'Northern Territory': 'STATE'}, {'3933.': 'ZIP'}, {'August 30, 2012': 'DATE'}, {'09:20 AM': 'TIME'}], '51832': [{'2012': 'DATE'}, {'09:21': 'TIME'}, {'SydPath Department': 'DEPARTMENT'}, {'Tingha Multipurpose Service': 'HOSPITAL'}, {'Raul Errol Paulhus': 'DOCTOR'}, {'GE': 'DOCTOR'}, {'FR,': 'DOCTOR'}], '51900': [{'Sabrina': 'PATIENT'}, {'Sabrina': 'PATIENT'}], '51913': [{'June 18, 2064': 'DATE'}], '51949': [{'September 21, 2062': 'DATE'}], '51967': [{'Rose': 'DOCTOR'}, {'Isa': 'PATIENT'}], '51984': [{'November 21, 1986': 'DATE'}, {'September 13, 2062': 'DATE'}, {' SEALS Central': 'DEPARTMENT'}, {'Redland Hospital': 'HOSPITAL'}, {'Tarka Williams Krahn': 'DOCTOR'}, {'September 14, 2062': 'DATE'}, {'September 15, 2062': 'DATE'}, {'December 1, 2062': 'DATE'}], '52178': [{'763313.LKC': 'MEDICAL_RECORD_NUMBER'}, {'76I31344': 'ID_NUMBER'}], '52290': [{'Virginia James': 'PATIENT'}, {'664499.SEU': 'MEDICAL_RECORD_NUMBER'}, {' 66M49971': 'ID_NUMBER'}, {'July 3, 2062': 'DATE'}], '52408': [{'Terry.': 'DOCTOR'}, {'Temples': 'DOCTOR'}], '52488': [{'Ashley resides': 'PATIENT'}, {'Armand Street': 'STREET'}, {'Waterford': 'CITY'}, {'Australian Capital Territory': 'STATE'}, {'3758.': 'ZIP'}, {'October 3, 2012.': 'DATE'}], '52538': [{'June 10, 2012': 'DATE'}, {'06:48 AM': 'TIME'}, {'Calvin received': 'PATIENT'}, {'CPC Pathology': 'DEPARTMENT'}, {'Angliss Hospital.': 'HOSPITAL'}, {'Duncan': 'DOCTOR'}], '52574': [{'February 4, 2063': 'DATE'}], '52662': [{'Donny Duhamel, Panchal, XM': 'DOCTOR'}, {' X Nalley': 'DOCTOR'}, {'95W78541': 'ID_NUMBER'}], '52666': [{'Sabrina Tatum': 'PATIENT'}, {'4183363.NGA': 'MEDICAL_RECORD_NUMBER'}, {'41W33635': 'ID_NUMBER'}, {'Sabrina': 'PATIENT'}, {'April 2064': 'DATE'}], '52806': [{'3636': 'ZIP'}, {'October 26, 1983': 'DATE'}, {'85': 'AGE'}, {'June 11, 2064': 'DATE'}, {'Bradley Armand Ruffer': 'DOCTOR'}, {'TD': 'DOCTOR'}, {'AL': 'DOCTOR'}, {'NX': 'DOCTOR'}, {'SG': 'DOCTOR'}, {'June 12, 2064': 'DATE'}], '52966': [{'September 27, 2062': 'DATE'}, {' pathwest': 'DEPARTMENT'}, {'Forensic Hospital': 'HOSPITAL'}, {'Alphonse Raleigh Piccone. The clinical': 'DOCTOR'}], '53020': [{'6609': 'ZIP'}, {'October 26, 2006': 'DATE'}], '53075': [{'96A063552Q': 'ID_NUMBER'}, {'Ariel Whitman': 'PATIENT'}, {'Hesse Rural Health Service': 'HOSPITAL'}, {'Day Surgery Unit': 'DEPARTMENT'}, {'Ariel': 'PATIENT'}, {' October 5, 1989': 'DATE'}, {'Wauchope': 'CITY'}, {'TAS': 'STATE'}, {'Kamena Street': 'STREET'}, {'3179.': 'ZIP'}], '53103': [{'April 10, 2014': 'DATE'}, {'14:40': 'TIME'}, {'L7 Consulting Rooms': 'DEPARTMENT'}, {'Karitane Hospital under': 'HOSPITAL'}, {'Winston Leilani Ricotta.': 'DOCTOR'}], '53138': [{'86F28642': 'ID_NUMBER'}, {'Dillon': 'PATIENT'}, {'March 8, 2013': 'DATE'}, {'3:54 PM.': 'TIME'}, {'Recovery Department': 'DEPARTMENT'}, {'Balaklava Hospital.': 'HOSPITAL'}, {'Dillon': 'PATIENT'}], '53186': [{'2061': 'DATE'}], '53229': [{'Derrick Wall': 'PATIENT'}, {' November 3, 1982': 'DATE'}, {'Longreach Hospital': 'HOSPITAL'}, {'4821383.OMF': 'MEDICAL_RECORD_NUMBER'}, {'48G138354F': 'ID_NUMBER'}], '53294': [{'27Y518763Q': 'ID_NUMBER'}, {'June 27, 1992': 'DATE'}, {'Wokindon': 'CITY'}, {'Denman': 'STATE'}, {'4383.': 'ZIP'}], '53335': [{'Claude Bottin': 'PATIENT'}, {'42Z363366H': 'ID_NUMBER'}, {'429363.KQQ': 'MEDICAL_RECORD_NUMBER'}], '53364': [{'3872467.JPI': 'ID_NUMBER'}, {'38T246735I': 'ID_NUMBER'}, {'Eldora Shook': 'PATIENT'}, {'38T24673': 'ID_NUMBER'}, {'Strenger Street': 'STREET'}, {'Lismore': 'CITY'}, {'New South Wales': 'STATE'}, {'2559': 'ZIP'}, {'February 24, 1990': 'DATE'}], '53457': [{'Envoi Specialist department': 'DEPARTMENT'}, {'Landon': 'DOCTOR'}, {'August 29': 'DATE'}, {'2063': 'DOCTOR'}], '53466': [{'1988': 'DATE'}, {' Medic/Surgery': 'DATE'}, {'Ward of Lake Grace Hospital': 'DEPARTMENT'}, {'attending physician': 'HOSPITAL'}, {'Yokiel, with additional': 'DOCTOR'}, {'noted': 'DOCTOR'}], '53515': [{'Brindabella Street': 'STREET'}, {'Leongatha': 'CITY'}, {'ACT': 'STATE'}, {'5607': 'ZIP'}, {'February 27': 'DATE'}], '53525': [{'Stacy': 'PATIENT'}, {'56 years': 'AGE'}, {'Fultz': 'DOCTOR'}, {'Lindon': 'DOCTOR'}, {'years': 'DURATION'}], '2423': [{'Ivan': 'FAMILYNAME'}], '2584': [{'Tanya': 'FAMILYNAME'}], '2712': [{'Jess': 'PERSONALNAME'}, {'Jess': 'PERSONALNAME'}, {'Jess': 'PERSONALNAME'}], '2812': [{'86': 'DATE'}, {'90': 'DATE'}], '2842': [{'now': 'DATE'}, {'now': 'DATE'}], '3027': [{'every day': 'SET'}], '3113': [{'every Monday': 'SET'}, {'five hours': 'DURATION'}], '3217': [{'Kelly': 'PERSONALNAME'}, {'Sunday': 'DATE'}, {'Mystic': 'LOCATION-OTHER'}, {'today': 'DATE'}, {'now': 'DATE'}], '3230': [{'now': 'DATE'}, {'Ramona': 'PATIENT'}], '3243': [{'now': 'DATE'}, {'ages': 'DURATION'}, {'now': 'DATE'}, {'ages': 'DURATION'}, {'now': 'DATE'}, {'all week': 'DURATION'}, {'a week': 'DURATION'}], '24244': [{'all night': 'DURATION'}], '24342': [{'a couple of minutes': 'DURATION'}, {'Friday': 'DATE'}], '24366': [{'now': 'DATE'}], '24387': [{'Tanya': 'FAMILYNAME'}, {'Tanya': 'FAMILYNAME'}], '24404': [{'10 minutes': 'DURATION'}], '24691': [{'10 hours': 'DURATION'}, {'four': 'DURATION'}, {'six hours': 'DURATION'}, {'Ohio': 'STATE'}, {'couple of days': 'DURATION'}, {'Wednesday': 'DATE'}], '24760': [{'now': 'TIME'}, {'morning': 'TIME'}], '24770': [{'sophomore': 'DURATION'}], '24782': [{'three': 'TIME'}, {'Three': 'TIME'}, {'three hours': 'DURATION'}, {'now': 'DATE'}, {'three hours': 'DURATION'}], '24823': [{'tonight': 'TIME'}, {'last week': 'DATE'}, {'whole weekend': 'DURATION'}, {'tonight': 'TIME'}], '24847': [{'Micah': 'DOCTOR'}, {'Tuesday': 'DATE'}], '25023': [{'Riley': 'PERSONALNAME'}, {'Tuesday': 'DATE'}, {'morning': 'TIME'}, {'Tuesday': 'DATE'}], '25097': [{'Tomorrow': 'DATE'}, {'12:50': 'TIME'}], '25123': [{'now': 'DATE'}], '25237': [{'Tanya': 'FAMILYNAME'}], '25306': [{'Emma': 'FAMILYNAME'}], '25330': [{'David': 'PERSONALNAME'}], '25557': [{'now': 'DATE'}], '25685': [{'James': 'FAMILYNAME'}, {'three': 'DURATION'}, {'four hours': 'DURATION'}, {'this evening': 'TIME'}], '25860': [{'today': 'DATE'}, {'Ivan': 'FAMILYNAME'}], '25874': [{'Friday morning': 'TIME'}, {'Barnes': 'DOCTOR'}, {'Rhode Island': 'STATE'}], '26054': [{'two': 'DURATION'}, {'three minutes': 'DURATION'}, {'two': 'DURATION'}, {'three minutes': 'DURATION'}], '26092': [{'Tanya': 'PERSONALNAME'}], '26151': [{'this morning': 'TIME'}, {'today': 'DATE'}, {'two weeks': 'DURATION'}, {'today': 'DATE'}], '26193': [{'Sydney': 'PERSONALNAME'}, {'a few days': 'DURATION'}], '26197': [{'the day': 'DURATION'}, {'day': 'DURATION'}], '26239': [{'a few hours': 'DURATION'}], '26359': [{'now': 'DATE'}], '26406': [{'Kelly': 'PERSONALNAME'}, {'Kelly': 'PERSONALNAME'}], '26698': [{'now': 'DATE'}, {'Easter': 'DATE'}, {'next six weeks': 'DURATION'}], '26845': [{'Now': 'DATE'}], '26968': [{'years': 'DURATION'}, {'now': 'DATE'}, {'some months': 'DURATION'}, {'a while': 'DURATION'}], '26998': [{'now': 'DATE'}], '27112': [{'days': 'DURATION'}, {'every day': 'SET'}, {'now': 'DATE'}, {'this morning': 'TIME'}, {'couple days': 'DURATION'}, {'evenings': 'TIME'}], '27144': [{'six-year-old': 'AGE'}, {'six-year-old': 'AGE'}], '27350': [{'now': 'DATE'}, {'a month': 'DURATION'}, {'February': 'DATE'}, {'March': 'DATE'}, {'February': 'DATE'}, {'March': 'DATE'}], '27362': [{'for a while': 'DURATION'}], '27422': [{'now': 'DATE'}, {'now': 'DATE'}], '27472': [{'past 10 years': 'DURATION'}], '27501': [{'Tanya': 'PERSONALNAME'}], '27541': [{'last week': 'DATE'}, {'several days': 'DURATION'}], '27558': [{'Jessup': 'PATIENT'}], '27626': [{'Josh': 'FAMILYNAME'}, {'an hour': 'DURATION'}], '28137': [{'now': 'DATE'}], '28426': [{'night': 'TIME'}, {'Thursday': 'DATE'}, {'Cheshire': 'COUNTY'}, {'20 hours': 'DURATION'}], '28457': [{'Tanya': 'FAMILYNAME'}, {'now': 'DATE'}, {'years': 'DURATION'}], '28591': [{'Today': 'DATE'}], '28693': [{'day': 'DATE'}, {'yesterday': 'DATE'}], '28825': [{'May': 'DATE'}, {'a weekend': 'DURATION'}, {'Jess': 'PERSONALNAME'}], '29005': [{'in the past': 'DURATION'}], '29305': [{'Tanya': 'FAMILYNAME'}], '29342': [{'trick cyclist': 'PROFESSION'}, {'trick cyclist': 'PROFESSION'}], '29401': [{'last several months': 'DURATION'}, {'some time': 'DURATION'}], '29469': [{'Monday morning': 'TIME'}], '29627': [{'an hour': 'DURATION'}, {'a long time': 'DURATION'}], '29690': [{'Ramona': 'PATIENT'}, {'Farrow': 'DOCTOR'}], '29781': [{'next few Wednesdays': 'DATE'}], '29946': [{'long time': 'DURATION'}], '29977': [{'yesterday': 'DATE'}, {'day': 'DATE'}, {'Graham Greene': 'PERSONALNAME'}, {'London': 'STREET'}], '30015': [{'Dave': 'DOCTOR'}], '30159': [{'Greenwich': 'DISTRICT'}], '30226': [{'10': 'AGE'}], '30477': [{'two years': 'DURATION'}, {'Subway': 'ORGANIZATION'}], '30590': [{'now': 'DATE'}], '30646': [{'now': 'DATE'}], '30714': [{'every night': 'SET'}, {'a few minutes': 'DURATION'}, {'Monday': 'DATE'}], '30971': [{'all day': 'DURATION'}], '30992': [{'several months': 'DURATION'}], '31016': [{'35': 'AGE'}, {'now': 'DATE'}, {'a year': 'DURATION'}], '31081': [{'a few days': 'DURATION'}, {'Josh': 'FAMILYNAME'}, {'a few hours': 'DURATION'}], '31247': [{'Denver': 'CITY'}], '31398': [{'president of the country': 'PROFESSION'}], '31402': [{'now': 'DATE'}], '31965': [{'much time': 'DURATION'}], '31992': [{'6.30 on Sunday': 'TIME'}], '32127': [{'Paul': 'PERSONALNAME'}], '32140': [{'yesterday': 'DATE'}], '32246': [{'now': 'DATE'}], '32384': [{'in the past': 'DURATION'}], '40142': [{'now': 'DATE'}], '50017': [{'August 21, 2062': 'DATE'}, {'Darling Point': 'DEPARTMENT'}, {'Gippsland Southern Health Service Leongatha Campus': 'HOSPITAL'}, {'Sander': 'DOCTOR'}], '50027': [{'Susan Duren': 'PATIENT'}, {'7301067.DAE': 'MEDICAL_RECORD_NUMBER'}, {'73C10671.': 'ID_NUMBER'}], '50070': [{'Mike': 'PATIENT'}], '50149': [{'44D59224': 'ID_NUMBER'}, {'Injune Hospital.': 'HOSPITAL'}, {'Cabban Street': 'STREET'}, {'Kiama': 'CITY'}, {'South Australia': 'STATE'}, {'5134': 'ZIP'}, {'Dickinson 3 South Department.': 'DEPARTMENT'}], '50153': [{'502570T': 'ID_NUMBER'}, {'June 18, 2064': 'DATE'}, {'Anatomical Department': 'DEPARTMENT'}, {'Fitzroy Crossing Hospital': 'HOSPITAL'}, {'Bernardo Reggie Vanish': 'DOCTOR'}, {'YQ': 'DOCTOR'}, {'June 19': 'DATE'}], '50201': [{'September 11, 2063': 'DATE'}, {'George': 'PATIENT'}], '50257': [{'Curry': 'DOCTOR'}, {'Arthur.': 'DOCTOR'}, {'Richardson': 'DOCTOR'}, {'September 11, 2062': 'DATE'}], '50284': [{'2388.': 'ZIP'}, {'7533626.BKF': 'MEDICAL_RECORD_NUMBER'}, {'75J36260': 'ID_NUMBER'}, {'75J36260': 'ID_NUMBER'}, {'February 26, 2063': 'DATE'}], '50311': [{'Carter Leboeuf': 'PATIENT'}, {'81S903812V': 'ID_NUMBER'}, {'817903.VDH': 'MEDICAL_RECORD_NUMBER'}, {'October 10, 2062': 'DATE'}, {'2.23-hour stay surgical units': 'DEPARTMENT'}, {' Corrigin Hospital.': 'HOSPITAL'}], '50349': [{'Schroder': 'DOCTOR'}, {'Mudiay': 'DOCTOR'}, {'Cathy': 'PATIENT'}], '50381': [{'Mark': 'PATIENT'}, {'Rocky Spring': 'STREET'}, {'Bowen': 'CITY'}, {'Western Australia': 'STATE'}, {'7022': 'ZIP'}, {'January 16, 1991': 'DATE'}, {'June 28': 'DATE'}], '50389': [{'D. Sledge': 'DOCTOR'}], '50412': [{'Today': 'DATE'}, {'Stacy House': 'PATIENT'}, {'88D941303V': 'ID_NUMBER'}, {'8819413.CIV': 'MEDICAL_RECORD_NUMBER'}, {'Stacy': 'PATIENT'}, {'88D94130': 'ID_NUMBER'}], '50423': [{'61B09485': 'ID_NUMBER'}], '50427': [{'Tomas Booker': 'PATIENT'}, {'0699365.LVJ': 'MEDICAL_RECORD_NUMBER'}, {'06X936548J.': 'ID_NUMBER'}], '50453': [{'Sara': 'PATIENT'}, {'Eidsvold Multipurpose Health Service': 'HOSPITAL'}, {'Parkes 9 East Department': 'DEPARTMENT'}, {'April 7, 2014': 'DATE'}, {'5.40 p.m.': 'TIME'}, {'Sara': 'PATIENT'}, {'Relly': 'DOCTOR'}, {'Theis': 'DOCTOR'}, {'Stockton': 'DOCTOR'}, {'Barrio': 'DOCTOR'}], '50455': [{'August 22, 2062': 'DATE'}, {'Jolin': 'PATIENT'}, {'Anatomical Pathology Department': 'DEPARTMENT'}, {'Omeo District Health': 'HOSPITAL'}, {'Thompson.': 'DOCTOR'}, {'Stemler': 'DOCTOR'}, {'Wiseman.': 'DOCTOR'}], '50524': [{'May 24, 2012, at exactly 2.58 p.m.': 'TIME'}], '50543': [{'75J362603F': 'ID_NUMBER'}, {'Florrie Minion': 'PATIENT'}, {'Kangaroo Island Health Service': 'HOSPITAL'}, {'department  Peter Mac': 'DEPARTMENT'}, {'Florrie': 'PATIENT'}, {'June 24, 2015': 'DATE'}, {'Orbost': 'CITY'}, {'VIC': 'STATE'}, {'P.O. Box 15': 'LOCATION-OTHER'}], '50592': [{'St. George Private': 'DEPARTMENT'}, {'Hunter New England Mental Health Service.': 'HOSPITAL'}, {'Prairie Hill': 'STREET'}, {'Devonport': 'STREET'}, {'Northern Territory': 'STATE'}, {'2879': 'ZIP'}], '50631': [{'August 28, 2063': 'DATE'}, {'Leon': 'PATIENT'}, {'Roma Hospital': 'HOSPITAL'}, {'48B91548': 'ID_NUMBER'}, {'48B91548': 'ID_NUMBER'}, {'Legend Manor Street': 'STREET'}, {'Northam': 'CITY'}, {'Tasmania': 'STATE'}, {'2207.': 'ID_NUMBER'}], '50632': [{'Beyond Milton Ulladulla Hospital': 'HOSPITAL'}, {'Alan': 'PATIENT'}, {'Gulargambone Multi-Purpose Service': 'HOSPITAL'}, {'Collins': 'DOCTOR'}, {'July 25, 2062': 'DATE'}, {'Saric': 'DOCTOR'}, {'July 23': 'DATE'}], '50639': [{'176664.MDB': 'MEDICAL_RECORD_NUMBER'}, {'17S66441': 'ID_NUMBER'}, {'Alan': 'PATIENT'}, {'May 21, 2012': 'DATE'}, {'09:21 AM': 'TIME'}], '50662': [{'October 5, 2062': 'DATE'}, {'Professor A Saeler': 'DOCTOR'}, {'IJ': 'DOCTOR'}], '50665': [{'Ira Irwin Piggie': 'DOCTOR'}, {'Z. Sterkenburg': 'DOCTOR'}, {'Z. Gugliotti': 'DOCTOR'}, {'date': 'DOCTOR'}, {'2, 2062': 'DATE'}], '50680': [{'15:50': 'TIME'}, {'April 10, 2014': 'DATE'}, {'June 13, 2064': 'DATE'}, {'D. Bacchi': 'DOCTOR'}, {'Castiglione': 'DOCTOR'}, {' Maryborough District Health Service Dunolly': 'HOSPITAL'}, {'OD': 'DOCTOR'}, {'XL. Clinically': 'DOCTOR'}], '50728': [{'1138': 'ZIP'}, {'April 26, 1984.': 'DATE'}, {'June 25, 2012': 'DATE'}, {'9:48 AM': 'TIME'}, {'Batty received': 'PATIENT'}, {'SEALS Central': 'DEPARTMENT'}, {'within St Helens District Hospital': 'HOSPITAL'}], '50789': [{'73H429585J': 'ID_NUMBER'}, {'Gordan Hayward': 'PATIENT'}, {'January 21, 1987': 'DATE'}, {'Vincents': 'STREET'}, {'Armidale': 'CITY'}, {'Victoria': 'STATE'}, {'3797.': 'ZIP'}, {'7324295.VNJ': 'MEDICAL_RECORD_NUMBER'}], '50797': [{'81S90381': 'ID_NUMBER'}], '50836': [{'October 8, 2062': 'DATE'}, {'XP': 'DOCTOR'}, {'October 4, 2062': 'DATE'}, {'F Dennard': 'DOCTOR'}, {'F Chaisty.': 'DOCTOR'}], '50849': [{'F. Phillips': 'DOCTOR'}], '50915': [{'9246317.UNN': 'MEDICAL_RECORD_NUMBER'}, {'Eddy Shan': 'PATIENT'}, {'November 26, 1997': 'DATE'}, {'92M631785N': 'ID_NUMBER'}, {'92M63178': 'ID_NUMBER'}], '50918': [{'Mason Hield': 'PATIENT'}, {'76I313441D': 'ID_NUMBER'}], '50920': [{\"Kenny's health\": 'PATIENT'}], '51017': [{'2012': 'DATE'}, {'2:03 PM': 'TIME'}, {'Mark': 'PATIENT'}, {'St Vincent Department': 'DEPARTMENT'}, {'Kerang District Health': 'HOSPITAL'}, {'Pierce': 'DOCTOR'}, {'August 1, 2062': 'DATE'}, {'Mark': 'PATIENT'}], '51019': [{'867599.PQW': 'MEDICAL_RECORD_NUMBER'}, {'Ovidia Dishong': 'PATIENT'}, {'86U59966': 'ID_NUMBER'}, {'October 23, 2062': 'DATE'}], '51067': [{'Robinson': 'DOCTOR'}, {'Mann': 'DOCTOR'}, {'Hesse Rural Health Service': 'HOSPITAL'}, {'Ariel': 'PATIENT'}, {'Sarina Hospital': 'HOSPITAL'}], '51094': [{'Pathology for further': 'DEPARTMENT'}, {'Sandering Street': 'STREET'}, {'Barwon Heads': 'CITY'}, {'Western Australia': 'STATE'}, {'6906': 'ZIP'}, {'Jasper underwent': 'PATIENT'}, {'27O53740': 'ID_NUMBER'}, {'27O53740': 'ID_NUMBER'}], '51185': [{'Cernan Street': 'STREET'}, {'Goondiwindi': 'CITY'}, {'Western Australia': 'STATE'}], '51201': [{'S Emler': 'DOCTOR'}, {'Gippsland Southern Health Service, Leongatha Campus': 'HOSPITAL'}, {'November 10, 2062': 'DATE'}, {'October 30, 2062': 'DATE'}], '51278': [{'08V69142': 'ID_NUMBER'}, {'Wesley': 'DOCTOR'}, {'July 3, 2062': 'DATE'}, {'Speight': 'DOCTOR'}], '51392': [{'Haywood Mccoil': 'PATIENT'}, {'17I16340': 'ID_NUMBER'}, {'17I163403A': 'ID_NUMBER'}, {'173163.MBI': 'MEDICAL_RECORD_NUMBER'}, {'October 9, 2062': 'DATE'}], '51413': [{'6556855.SWK': 'MEDICAL_RECORD_NUMBER'}, {'65O68557': 'ID_NUMBER'}, {'Taylor': 'PATIENT'}, {'January 14, 2013': 'DATE'}, {'09:03 AM': 'TIME'}], '51496': [{'George Hill': 'PATIENT'}, {'January 17, 2003': 'DATE'}, {' Baralaba Hospital.': 'HOSPITAL'}, {'9602593.DIO': 'MEDICAL_RECORD_NUMBER'}, {'96C259313O': 'ID_NUMBER'}], '51515': [{'6987.': 'ZIP'}, {'04F073896I': 'ID_NUMBER'}, {'0420738.YQI': 'MEDICAL_RECORD_NUMBER'}, {'04F07389': 'ID_NUMBER'}], '51636': [{'September 6, 2063': 'DATE'}, {'Bane': 'DOCTOR'}, {'Sabonis': 'DOCTOR'}], '51706': [{'H Durisseau': 'DOCTOR'}, {'H Woodfolk': 'DOCTOR'}], '51734': [{'12': 'TIME'}, {'July 26, 2012': 'DATE'}], '51767': [{'Talbryn': 'STREET'}, {'Yamba': 'CITY'}, {'3158': 'ZIP'}, {'October 5, 2029.': 'DATE'}, {'95W78541': 'ID_NUMBER'}], '51771': [{'Michael Lynwood Resides': 'PATIENT'}, {'October 11, 1991': 'DATE'}, {'Lovelace Street': 'STREET'}, {'Casino': 'CITY'}, {'New South Wales': 'STATE'}, {'2224.': 'ZIP'}, {'5135025.TBT': 'MEDICAL_RECORD_NUMBER'}, {'51I50257': 'ID_NUMBER'}, {'51I': 'ID_NUMBER'}], '51794': [{'Mossman Hospital (Douglas Shire Multi Purpose Health Service)': 'HOSPITAL'}, {'Hunter Area Department': 'DEPARTMENT'}, {' Intensive Care Unit': 'DEPARTMENT'}, {'Daniels': 'DOCTOR'}, {'March 21, 2014': 'DATE'}], '51817': [{'Today, we': 'DATE'}, {'Jeremy Reaves': 'PATIENT'}, {'29F784757R': 'ID_NUMBER'}, {'292784.SPS': 'MEDICAL_RECORD_NUMBER'}, {'29F78475': 'ID_NUMBER'}, {'29F78475': 'ID_NUMBER'}, {'Jeremy resides': 'PATIENT'}, {'Richland Valley': 'STREET'}, {'Richmond': 'CITY'}, {'Australian Capital Territory': 'STATE'}], '51842': [{'September 28, 2062': 'DATE'}, {' Medic Surgery Ward': 'DEPARTMENT'}, {'West Wimmera Health Service': 'HOSPITAL'}, {'Quade Edison Jenness': 'DOCTOR'}, {'LV': 'DOCTOR'}, {'September 29, 2062': 'DATE'}], '51918': [{' Isa Smith': 'PATIENT'}, {'2027354.YLP': 'MEDICAL_RECORD_NUMBER'}, {'Isa': 'PATIENT'}, {'20F73549': 'ID_NUMBER'}, {'early June 2064': 'DATE'}], '51931': [{'Laura Crawford': 'PATIENT'}, {'3076815.ASC': 'MEDICAL_RECORD_NUMBER'}, {'30T681507C': 'ID_NUMBER'}, {'October 17, 2007': 'DATE'}, {'Rockingham General Hospital.': 'HOSPITAL'}], '51976': [{'2060': 'DATE'}, {'95W78541': 'ID_NUMBER'}], '52018': [{'Kendall Sorlie': 'PATIENT'}, {'21I762408W': 'ID_NUMBER'}, {'213762.MCV': 'MEDICAL_RECORD_NUMBER'}, {'21I76240': 'ID_NUMBER'}, {'Lower Matchaponix': 'STREET'}, {'Wauchope': 'CITY'}, {'Tasmania': 'STATE'}, {'7305': 'ZIP'}], '52114': [{'October 1, 2062': 'DATE'}], '52154': [{'21I76240': 'ID_NUMBER'}], '52175': [{'5014.': 'ZIP'}, {'May 30, 2025': 'DATE'}, {'Peter Mac': 'DEPARTMENT'}, {'Keith Wesley Landkamer.': 'DOCTOR'}, {'2060': 'DATE'}], '52230': [{'Ellis': 'DOCTOR'}, {'few days later': 'DURATION'}, {'April 19, 2064': 'DATE'}, {'Porter': 'DOCTOR'}, {'Mike': 'PATIENT'}], '52279': [{'2012': 'DATE'}, {'12:44 PM': 'TIME'}, {'Jalen': 'PATIENT'}, {' Pathwest': 'DEPARTMENT'}, {'War Memorial Hospital, under': 'HOSPITAL'}, {'Porter.': 'DOCTOR'}, {'August 27, 2062': 'DATE'}, {'Lillard': 'DOCTOR'}, {'Rubio': 'DOCTOR'}, {'Jalen': 'PATIENT'}], '52351': [{'Today': 'DATE'}, {'Sara Scott': 'PATIENT'}, {'51R013587V': 'ID_NUMBER'}, {'5160135.VUV': 'MEDICAL_RECORD_NUMBER'}], '52372': [{'Denny resides': 'PATIENT'}, {'Bramston Street': 'STREET'}, {'Thirlmere': 'CITY'}, {'TAS': 'STATE'}, {'5273': 'ZIP'}, {'July 23, 2004': 'DATE'}], '52375': [{'Today': 'DATE'}, {'Jolin Parker': 'PATIENT'}, {'98T406673L': 'ID_NUMBER'}, {'9874066.SJL.': 'ID_NUMBER'}, {'Jolin': 'PATIENT'}, {'98T40667': 'ID_NUMBER'}, {'98T40667': 'ID_NUMBER'}], '52384': [{'Edison Dado': 'PATIENT'}, {'63M741450O': 'ID_NUMBER'}, {'634741.LNA': 'MEDICAL_RECORD_NUMBER'}], '52448': [{'VanVleet': 'DOCTOR'}, {'On July 27, 2062': 'DATE'}, {'Dora’s condition': 'PATIENT'}, {'Gasol': 'DOCTOR'}, {'Dora': 'PATIENT'}], '52451': [{'Harley Rater': 'PATIENT'}, {'057758.KBP': 'MEDICAL_RECORD_NUMBER'}, {'05T758305M': 'ID_NUMBER'}, {'05T75830': 'ID_NUMBER'}, {'March 3, 1997': 'DATE'}, {'N Kaspar Street': 'STREET'}, {'Goolwa': 'CITY'}, {'6705': 'ZIP'}], '52479': [{'51R01358': 'ID_NUMBER'}, {' 51R01358': 'ID_NUMBER'}, {'Sara': 'PATIENT'}, {'Midge Hall': 'STREET'}, {'Newcastle': 'CITY'}, {'WA': 'STATE'}, {'2316': 'ZIP'}, {'April 24, 1997': 'DATE'}], '52481': [{'June 18, 2012': 'DATE'}, {'Jeremy': 'PATIENT'}, {'Douglass Hanly Moir': 'DEPARTMENT'}, {'Tasman Multi-Purpose Centre.': 'HOSPITAL'}, {'Nurse': 'PATIENT'}, {'August 21, 2062': 'DATE'}], '52548': [{'JU': 'DOCTOR'}, {'September 28, 2062': 'DATE'}, {'O Broussard': 'DOCTOR'}], '52569': [{'Dezenzo': 'DOCTOR'}], '52579': [{'Darling Point Department': 'DEPARTMENT'}, {'Midlands Multi- Purpose Health Centre': 'HOSPITAL'}, {'Hoult': 'DOCTOR'}, {'Russell': 'DOCTOR'}, {'Wimmera Health Care Group - Horsham': 'HOSPITAL'}], '52591': [{'Culhane Lashawn': 'PATIENT'}, {'71Y067830J': 'ID_NUMBER'}, {'7190678.JBJ': 'MEDICAL_RECORD_NUMBER'}, {'West Wimmera Health Service, Karniva': 'HOSPITAL'}, {'71Y06783': 'ID_NUMBER'}, {'New Jefferson': 'STREET'}, {'Vincentia': 'CITY'}, {'New South Wales': 'STATE'}, {'4076': 'ZIP'}], '52620': [{'Juniper Point': 'STREET'}, {'Moranbah': 'CITY'}, {'Western Australia': 'STATE'}, {'6181': 'ZIP'}, {'February 6, 1989': 'DATE'}, {'April 4, 2014': 'DATE'}, {'10:17 AM': 'TIME'}, {'Mater Mother’s Hospital': 'HOSPITAL'}, {'Anatomical Pathology department.': 'DEPARTMENT'}], '52754': [{'Boston Scientific': 'ORGANIZATION'}, {'Wentworth District Hospital': 'HOSPITAL'}, {'June 12, 2064': 'DATE'}, {'B Crofoot': 'DOCTOR'}], '52784': [{'B. Gutkowski': 'DOCTOR'}, {'14:30': 'TIME'}, {'June 19, 2013.': 'DATE'}, {'AL': 'DOCTOR'}, {'August 22, 2063': 'DATE'}], '52874': [{'Ellington': 'DOCTOR'}, {' May 17, 2064': 'DATE'}, {'May 24, 2061': 'DATE'}], '52905': [{'Obstetrics Department': 'DEPARTMENT'}, {' Western District Health Service, Pinterest': 'HOSPITAL'}, {'Tobias Andy Grosh': 'DOCTOR'}, {'SZ': 'DOCTOR'}, {'LY': 'DOCTOR'}, {'O Tipre': 'DOCTOR'}], '52917': [{'H Neidhardt': 'DOCTOR'}, {'Bruno Bault': 'DOCTOR'}, {'Ian Kipling': 'DOCTOR'}, {'Barrie Damewood.': 'DOCTOR'}, {'December 3, 2062': 'DATE'}], '53000': [{'Pleasant Chase': 'STREET'}, {' Camden Haven': 'CITY'}, {'South Australia': 'COUNTRY'}, {'4492': 'ZIP'}, {'48G13835': 'ID_NUMBER'}, {'48G13835': 'ID_NUMBER'}, {'June 25, 2013': 'DATE'}, {'06:09 p.m': 'TIME'}], '53012': [{'next day': 'DATE'}, {'August 22, 2062': 'DATE'}, {'Williams': 'DOCTOR'}, {'Gabriel': 'DOCTOR'}], '53111': [{'4378054.UUC': 'MEDICAL_RECORD_NUMBER'}, {'Guy Finn Lamson': 'PATIENT'}, {'43S80547': 'ID_NUMBER'}], '53112': [{'July 2, 2005': 'DATE'}, {'75A86169': 'ID_NUMBER'}], '53121': [{'073905.RQQ': 'MEDICAL_RECORD_NUMBER'}, {'Brigida Lauri Sprake': 'PATIENT'}, {'07K90566': 'ID_NUMBER'}, {'June 16, 2064': 'DATE'}, {'AR.': 'DOCTOR'}], '53184': [{'July 25, 2012': 'DATE'}, {'19:49 PM': 'TIME'}, {'Exmouth Hospital': 'HOSPITAL'}, {'Junior Jason Dice': 'DOCTOR'}, {'Envoi Pathology.': 'DEPARTMENT'}], '53213': [{'Tomas Zoe Takayama': 'PATIENT'}, {'27D83063': 'ID_NUMBER'}, {'27D83063': 'ID_NUMBER'}, {'271830.QJV': 'MEDICAL_RECORD_NUMBER'}], '53217': [{'Carol': 'PATIENT'}], '53267': [{'Taylor': 'PATIENT'}], '53344': [{'Alan': 'PATIENT'}, {' March 23, 2064': 'DATE'}, {'Hincks': 'DOCTOR'}, {'same date': 'DATE'}], '53352': [{'October 16, 2062': 'DATE'}, {'8 Goolagong Crescent': 'DEPARTMENT'}, {'Renal Clinic': 'DEPARTMENT'}, {'South Western Area': 'DEPARTMENT'}, {'Timbun and District Healthcare Services': 'HOSPITAL'}], '53363': [{'83Z17970.': 'ID_NUMBER'}, {'Nikola': 'PATIENT'}, {'Manolete Street': 'STREET'}, {'Aldgate': 'CITY'}, {'Tasmania': 'STATE'}, {'3576': 'ZIP'}, {'November 3, 2006': 'DATE'}], '53430': [{'Jasper Reddick': 'PATIENT'}, {' August 12, 1999': 'DATE'}, {'Shoalhaven': 'HOSPITAL'}, {'September 11, 2063': 'DATE'}, {'2755374.ARU': 'MEDICAL_RECORD_NUMBER'}, {'27O537406U': 'ID_NUMBER'}], '53488': [{'June 9, 2064': 'DATE'}, {'Stewart': 'DOCTOR'}, {'Stewart': 'DOCTOR'}, {'June 5': 'DATE'}, {'Hook': 'DOCTOR'}, {'Susan': 'PATIENT'}], '53495': [{'May 7, 2063': 'DATE'}, {'Lowy Pathology': 'DEPARTMENT'}, {'QLD': 'STATE'}], '53510': [{'92M63178': 'ID_NUMBER'}], '53530': [{'Ritson Nyah Marcus': 'DOCTOR'}, {'2805065.FMV': 'MEDICAL_RECORD_NUMBER'}, {'28B506514V': 'ID_NUMBER'}, {'28B50651': 'ID_NUMBER'}, {'28B50651': 'ID_NUMBER'}, {'Legra': 'STREET'}, {'Moranbah': 'CITY'}, {'TAS': 'STATE'}], '53535': [{'Theis': 'DOCTOR'}, {'Stockton': 'DOCTOR'}, {'June 10, 2064': 'DATE'}]}\n"
          ]
        }
      ],
      "source": [
        "#en\n",
        "\n",
        "with open( \"/content/drive/MyDrive/AICUP_DATA/offical_change/task2_val.txt\", \"r\", encoding=\"utf-8\" ) as f :\n",
        "  val_data = f.readlines()\n",
        "\n",
        "\n",
        "# with open( \"/content/drive/MyDrive/AICUP_DATA/en-dataset/3_fold/test_set/task2_answer_change.txt\", \"r\", encoding=\"utf-8\" ) as f :\n",
        "#   val_data = f.readlines()\n",
        "\n",
        "print(len(val_data))\n",
        "\n",
        "\n",
        "val_data_list = Prepare_Task2_NER( val_data )"
      ]
    },
    {
      "cell_type": "code",
      "execution_count": null,
      "metadata": {
        "id": "othNXXXQs0Gp"
      },
      "outputs": [],
      "source": [
        "def Prepare_Task1_NER( data, data_list):\n",
        "  train_data = []\n",
        "\n",
        "  for i in data:\n",
        "      # print( i )\n",
        "      line = i.strip()\n",
        "      line_split = line.split(\"\\t\")\n",
        "\n",
        "      name = line_split[0]\n",
        "      text = line_split[1]\n",
        "\n",
        "      tokens = tokenizer(text.strip(), return_offsets_mapping=True, return_tensors=\"pt\", truncation=True, add_special_tokens=True)\n",
        "      offsets = tokens[\"offset_mapping\"][0].tolist()\n",
        "      input_ids = tokens[\"input_ids\"][0].tolist()\n",
        "      token_texts = tokenizer.convert_ids_to_tokens(input_ids)\n",
        "\n",
        "      # 初始化 label\n",
        "      label = [config.label2id[\"O\"]] * len(input_ids)\n",
        "      label[0] = 77\n",
        "      label[-1] = 77\n",
        "\n",
        "\n",
        "      input_ids = tokens[\"input_ids\"]\n",
        "      attention_mask = tokens[\"attention_mask\"]\n",
        "\n",
        "      # print(f\"name: {name}\")\n",
        "      # print(f\"text: {text}\")\n",
        "      # print(f\"offsets: {offsets}\")\n",
        "      # print(tokens.tokens())\n",
        "\n",
        "\n",
        "      # 檢查是否有標註資料\n",
        "      if name not in data_list:\n",
        "          train_data.append({\n",
        "              \"input_ids\": input_ids[0].tolist(),\n",
        "              \"labels\": label,\n",
        "              \"attention_mask\": attention_mask[0].tolist()\n",
        "          })\n",
        "          continue\n",
        "\n",
        "      # 將標註合併為 (start, end, tag) 的格式\n",
        "      entities = []\n",
        "      used_indices = set()  # 防止重複使用相同文字\n",
        "      for ent in data_list[name]:\n",
        "          for word, tag in ent.items():\n",
        "              # 用 sliding window 尋找沒使用過的 word 位置\n",
        "              start = -1\n",
        "              for idx in range(len(text)):\n",
        "                  if idx in used_indices:\n",
        "                      continue\n",
        "                  if text[idx:idx+len(word)] == word:\n",
        "                      start = idx\n",
        "                      # 標記這些字元位置已經用過\n",
        "                      used_indices.update(range(start, start+len(word)))\n",
        "                      break\n",
        "              if start != -1:\n",
        "                  end = start + len(word)\n",
        "                  entities.append((start, end, tag))\n",
        "              else:\n",
        "                  print(f\"[未找到實體] name={name}, word='{word}', tag='{tag}'\")\n",
        "                  print(f\"→ 原始句子：{text}\")\n",
        "                  print(text[idx:idx+len(word)])\n",
        "\n",
        "      # print(f\"name: {name}\")\n",
        "      # print(f\"text: {text}\")\n",
        "      # print(f\"entities: {entities}\")\n",
        "\n",
        "      # 比對 offset 和 entity span，標註 label\n",
        "      for idx, (start, end) in enumerate(offsets):\n",
        "          if start == end:\n",
        "              continue\n",
        "          for ent_start, ent_end, tag in entities:\n",
        "              if start == ent_start:\n",
        "                  label[idx] = config.label2id[f\"B-{tag}\"]\n",
        "                  break\n",
        "              elif ent_start < start < ent_end:\n",
        "                  label[idx] = config.label2id[f\"I-{tag}\"]\n",
        "                  break\n",
        "\n",
        "      train_data.append({\n",
        "          \"input_ids\": input_ids[0].tolist(),\n",
        "          \"labels\": label,\n",
        "          \"attention_mask\": attention_mask[0].tolist()\n",
        "      })\n",
        "\n",
        "  return train_data\n"
      ]
    },
    {
      "cell_type": "code",
      "execution_count": null,
      "metadata": {
        "colab": {
          "base_uri": "https://localhost:8080/"
        },
        "id": "t7GcVzcgPvMY",
        "outputId": "6d98cd46-a775-499e-c166-2694505fe394"
      },
      "outputs": [
        {
          "name": "stdout",
          "output_type": "stream",
          "text": [
            "836\n"
          ]
        }
      ],
      "source": [
        "#en\n",
        "with open( \"/content/drive/MyDrive/AICUP_DATA/offical_change/task1_train.txt\", \"r\", encoding=\"utf-8\" ) as f :\n",
        "  data = f.readlines()\n",
        "\n",
        "# with open( \"/content/drive/MyDrive/AICUP_DATA/en-dataset/3_fold/hold_1/task1_answer_change.txt\", \"r\", encoding=\"utf-8\" ) as f :\n",
        "#   data = f.readlines()\n",
        "\n",
        "# print( len(data) )\n",
        "\n",
        "# with open( \"/content/drive/MyDrive/AICUP_DATA/en-dataset/3_fold/hold_2/task1_answer_change.txt\", \"r\", encoding=\"utf-8\" ) as f :\n",
        "#   data = data + f.readlines()\n",
        "\n",
        "# with open( \"/content/drive/MyDrive/AICUP_DATA/en-dataset/3_fold/hold_3/task1_answer_change.txt\", \"r\", encoding=\"utf-8\" ) as f :\n",
        "#   data = data + f.readlines()\n",
        "\n",
        "\n",
        "print( len(data) )\n",
        "\n",
        "train_data = Prepare_Task1_NER( data, data_list )\n"
      ]
    },
    {
      "cell_type": "code",
      "execution_count": null,
      "metadata": {
        "colab": {
          "base_uri": "https://localhost:8080/"
        },
        "id": "rOMDcgpR5_Ap",
        "outputId": "24f33169-37ca-498c-f33e-0741163b928c"
      },
      "outputs": [
        {
          "name": "stdout",
          "output_type": "stream",
          "text": [
            "534\n"
          ]
        }
      ],
      "source": [
        "#en\n",
        "with open( \"/content/drive/MyDrive/AICUP_DATA/offical_change/task1_val.txt\", \"r\", encoding=\"utf-8\" ) as f :\n",
        "  val_data = f.readlines()\n",
        "\n",
        "# with open( \"/content/drive/MyDrive/AICUP_DATA/en-dataset/3_fold/test_set/task1_answer_change.txt\", \"r\", encoding=\"utf-8\" ) as f :\n",
        "#   val_data = f.readlines()\n",
        "\n",
        "print( len(val_data) )\n",
        "\n",
        "\n",
        "test_data = Prepare_Task1_NER( val_data, val_data_list )"
      ]
    },
    {
      "cell_type": "code",
      "execution_count": null,
      "metadata": {
        "colab": {
          "base_uri": "https://localhost:8080/"
        },
        "id": "X7R4zkKLPLpy",
        "outputId": "724975dc-5770-4003-bc7d-2e78bf0e2efe"
      },
      "outputs": [
        {
          "name": "stdout",
          "output_type": "stream",
          "text": [
            "Requirement already satisfied: datasets in /usr/local/lib/python3.11/dist-packages (2.14.4)\n",
            "Requirement already satisfied: numpy>=1.17 in /usr/local/lib/python3.11/dist-packages (from datasets) (2.0.2)\n",
            "Requirement already satisfied: pyarrow>=8.0.0 in /usr/local/lib/python3.11/dist-packages (from datasets) (18.1.0)\n",
            "Requirement already satisfied: dill<0.3.8,>=0.3.0 in /usr/local/lib/python3.11/dist-packages (from datasets) (0.3.7)\n",
            "Requirement already satisfied: pandas in /usr/local/lib/python3.11/dist-packages (from datasets) (2.2.2)\n",
            "Requirement already satisfied: requests>=2.19.0 in /usr/local/lib/python3.11/dist-packages (from datasets) (2.32.3)\n",
            "Requirement already satisfied: tqdm>=4.62.1 in /usr/local/lib/python3.11/dist-packages (from datasets) (4.67.1)\n",
            "Requirement already satisfied: xxhash in /usr/local/lib/python3.11/dist-packages (from datasets) (3.5.0)\n",
            "Requirement already satisfied: multiprocess in /usr/local/lib/python3.11/dist-packages (from datasets) (0.70.15)\n",
            "Requirement already satisfied: fsspec>=2021.11.1 in /usr/local/lib/python3.11/dist-packages (from fsspec[http]>=2021.11.1->datasets) (2025.3.2)\n",
            "Requirement already satisfied: aiohttp in /usr/local/lib/python3.11/dist-packages (from datasets) (3.11.15)\n",
            "Requirement already satisfied: huggingface-hub<1.0.0,>=0.14.0 in /usr/local/lib/python3.11/dist-packages (from datasets) (0.32.2)\n",
            "Requirement already satisfied: packaging in /usr/local/lib/python3.11/dist-packages (from datasets) (24.2)\n",
            "Requirement already satisfied: pyyaml>=5.1 in /usr/local/lib/python3.11/dist-packages (from datasets) (6.0.2)\n",
            "Requirement already satisfied: aiohappyeyeballs>=2.3.0 in /usr/local/lib/python3.11/dist-packages (from aiohttp->datasets) (2.6.1)\n",
            "Requirement already satisfied: aiosignal>=1.1.2 in /usr/local/lib/python3.11/dist-packages (from aiohttp->datasets) (1.3.2)\n",
            "Requirement already satisfied: attrs>=17.3.0 in /usr/local/lib/python3.11/dist-packages (from aiohttp->datasets) (25.3.0)\n",
            "Requirement already satisfied: frozenlist>=1.1.1 in /usr/local/lib/python3.11/dist-packages (from aiohttp->datasets) (1.6.0)\n",
            "Requirement already satisfied: multidict<7.0,>=4.5 in /usr/local/lib/python3.11/dist-packages (from aiohttp->datasets) (6.4.4)\n",
            "Requirement already satisfied: propcache>=0.2.0 in /usr/local/lib/python3.11/dist-packages (from aiohttp->datasets) (0.3.1)\n",
            "Requirement already satisfied: yarl<2.0,>=1.17.0 in /usr/local/lib/python3.11/dist-packages (from aiohttp->datasets) (1.20.0)\n",
            "Requirement already satisfied: filelock in /usr/local/lib/python3.11/dist-packages (from huggingface-hub<1.0.0,>=0.14.0->datasets) (3.18.0)\n",
            "Requirement already satisfied: typing-extensions>=3.7.4.3 in /usr/local/lib/python3.11/dist-packages (from huggingface-hub<1.0.0,>=0.14.0->datasets) (4.13.2)\n",
            "Requirement already satisfied: hf-xet<2.0.0,>=1.1.2 in /usr/local/lib/python3.11/dist-packages (from huggingface-hub<1.0.0,>=0.14.0->datasets) (1.1.2)\n",
            "Requirement already satisfied: charset-normalizer<4,>=2 in /usr/local/lib/python3.11/dist-packages (from requests>=2.19.0->datasets) (3.4.2)\n",
            "Requirement already satisfied: idna<4,>=2.5 in /usr/local/lib/python3.11/dist-packages (from requests>=2.19.0->datasets) (3.10)\n",
            "Requirement already satisfied: urllib3<3,>=1.21.1 in /usr/local/lib/python3.11/dist-packages (from requests>=2.19.0->datasets) (2.4.0)\n",
            "Requirement already satisfied: certifi>=2017.4.17 in /usr/local/lib/python3.11/dist-packages (from requests>=2.19.0->datasets) (2025.4.26)\n",
            "Requirement already satisfied: python-dateutil>=2.8.2 in /usr/local/lib/python3.11/dist-packages (from pandas->datasets) (2.9.0.post0)\n",
            "Requirement already satisfied: pytz>=2020.1 in /usr/local/lib/python3.11/dist-packages (from pandas->datasets) (2025.2)\n",
            "Requirement already satisfied: tzdata>=2022.7 in /usr/local/lib/python3.11/dist-packages (from pandas->datasets) (2025.2)\n",
            "Requirement already satisfied: six>=1.5 in /usr/local/lib/python3.11/dist-packages (from python-dateutil>=2.8.2->pandas->datasets) (1.17.0)\n"
          ]
        }
      ],
      "source": [
        "!pip install datasets"
      ]
    },
    {
      "cell_type": "code",
      "execution_count": null,
      "metadata": {
        "id": "eXXHK3Ts9uXB"
      },
      "outputs": [],
      "source": [
        "from datasets import Dataset\n",
        "data_train = Dataset.from_list(train_data)\n",
        "data_test = Dataset.from_list(test_data)"
      ]
    },
    {
      "cell_type": "code",
      "execution_count": null,
      "metadata": {
        "colab": {
          "base_uri": "https://localhost:8080/"
        },
        "id": "3bXWWzQuPRFC",
        "outputId": "9947f6dd-1b32-4ba7-8d6f-12287a99a5bc"
      },
      "outputs": [
        {
          "data": {
            "text/plain": [
              "(Dataset({\n",
              "     features: ['input_ids', 'labels', 'attention_mask'],\n",
              "     num_rows: 836\n",
              " }),\n",
              " Dataset({\n",
              "     features: ['input_ids', 'labels', 'attention_mask'],\n",
              "     num_rows: 534\n",
              " }))"
            ]
          },
          "execution_count": 102,
          "metadata": {},
          "output_type": "execute_result"
        }
      ],
      "source": [
        "data_train, data_test"
      ]
    },
    {
      "cell_type": "markdown",
      "metadata": {
        "id": "8o1-mtRzSmTw"
      },
      "source": [
        "# **TRAIN**"
      ]
    },
    {
      "cell_type": "code",
      "execution_count": null,
      "metadata": {
        "colab": {
          "base_uri": "https://localhost:8080/"
        },
        "id": "JNvzAuVzcagW",
        "outputId": "6ce97cfb-1511-478f-df51-498417fb485e"
      },
      "outputs": [
        {
          "name": "stdout",
          "output_type": "stream",
          "text": [
            "{'input_ids': [0, 119057, 4, 41866, 16792, 87, 14037, 10, 3687, 221, 87, 25, 39, 959, 3853, 90908, 214, 1672, 450, 5, 8622, 25, 7, 10, 10176, 4785, 111, 25813, 9, 17489, 63920, 450, 621, 11405, 214, 163, 6637, 87, 25, 272, 37842, 6626, 53095, 136, 1632, 509, 7730, 47, 186, 100, 6088, 106, 271, 1884, 3650, 110763, 142, 56816, 678, 10, 37195, 56816, 15440, 4, 3129, 509, 7730, 47, 186, 645, 3650, 93712, 5, 87, 25, 39, 28875, 9077, 759, 25813, 831, 186, 16940, 23, 17262, 9, 188, 9, 160018, 21974, 5, 581, 14380, 450, 87, 6777, 3564, 1257, 7730, 678, 4, 2], 'labels': [77, 0, 0, 0, 0, 0, 0, 0, 0, 0, 0, 0, 0, 0, 0, 0, 0, 0, 0, 0, 0, 0, 0, 0, 0, 0, 0, 0, 0, 0, 0, 0, 0, 0, 0, 0, 0, 0, 0, 0, 0, 0, 0, 0, 0, 0, 0, 0, 0, 0, 39, 40, 40, 0, 0, 0, 43, 44, 0, 0, 43, 44, 0, 0, 0, 0, 0, 0, 0, 0, 0, 0, 0, 0, 0, 0, 0, 0, 0, 0, 0, 0, 0, 0, 43, 0, 0, 0, 43, 44, 0, 0, 0, 0, 0, 0, 0, 0, 0, 0, 0, 77], 'attention_mask': [1, 1, 1, 1, 1, 1, 1, 1, 1, 1, 1, 1, 1, 1, 1, 1, 1, 1, 1, 1, 1, 1, 1, 1, 1, 1, 1, 1, 1, 1, 1, 1, 1, 1, 1, 1, 1, 1, 1, 1, 1, 1, 1, 1, 1, 1, 1, 1, 1, 1, 1, 1, 1, 1, 1, 1, 1, 1, 1, 1, 1, 1, 1, 1, 1, 1, 1, 1, 1, 1, 1, 1, 1, 1, 1, 1, 1, 1, 1, 1, 1, 1, 1, 1, 1, 1, 1, 1, 1, 1, 1, 1, 1, 1, 1, 1, 1, 1, 1, 1, 1, 1]}\n"
          ]
        }
      ],
      "source": [
        "print(train_data[20])"
      ]
    },
    {
      "cell_type": "code",
      "execution_count": null,
      "metadata": {
        "id": "vBfKT7zv5euX"
      },
      "outputs": [],
      "source": [
        "def Process_Predict_Ner(pre):\n",
        "    answer_list = []\n",
        "    current_entity = None\n",
        "    current_word = \"\"\n",
        "    start_pos = None\n",
        "    end_pos = None\n",
        "\n",
        "    for dic in pre:\n",
        "        entity_type = dic['entity']\n",
        "        raw_word = dic['word']\n",
        "        word = raw_word.replace(\"▁\", \"\")\n",
        "        token_start = dic.get('start')\n",
        "        token_end = dic.get('end')\n",
        "        has_space = raw_word.startswith(\"▁\")\n",
        "\n",
        "        if entity_type.startswith(\"B-\"):\n",
        "            if current_entity and current_word:\n",
        "                answer_list.append({\n",
        "                    \"entity\": current_entity,\n",
        "                    \"word\": current_word,\n",
        "                    \"start\": start_pos,\n",
        "                    \"end\": end_pos\n",
        "                })\n",
        "            current_entity = entity_type.replace(\"B-\", \"\")\n",
        "            current_word = word\n",
        "            start_pos = token_start\n",
        "            end_pos = token_end\n",
        "\n",
        "        elif entity_type.startswith(\"I-\"):\n",
        "            ent = entity_type.replace(\"I-\", \"\")\n",
        "            if current_entity == ent:\n",
        "                if has_space:\n",
        "                    current_word += \" \" + word\n",
        "                else:\n",
        "                    current_word += word\n",
        "                end_pos = token_end\n",
        "            else:\n",
        "                if current_entity and current_word:\n",
        "                    answer_list.append({\n",
        "                        \"entity\": current_entity,\n",
        "                        \"word\": current_word,\n",
        "                        \"start\": start_pos,\n",
        "                        \"end\": end_pos\n",
        "                    })\n",
        "                current_entity = ent\n",
        "                current_word = word\n",
        "                start_pos = token_start\n",
        "                end_pos = token_end\n",
        "\n",
        "        else:  # O\n",
        "            if current_entity and current_word:\n",
        "                answer_list.append({\n",
        "                    \"entity\": current_entity,\n",
        "                    \"word\": current_word,\n",
        "                    \"start\": start_pos,\n",
        "                    \"end\": end_pos\n",
        "                })\n",
        "            current_entity = None\n",
        "            current_word = \"\"\n",
        "            start_pos = None\n",
        "            end_pos = None\n",
        "\n",
        "    # 收尾\n",
        "    if current_entity and current_word:\n",
        "        answer_list.append({\n",
        "            \"entity\": current_entity,\n",
        "            \"word\": current_word,\n",
        "            \"start\": start_pos,\n",
        "            \"end\": end_pos\n",
        "        })\n",
        "\n",
        "    return answer_list"
      ]
    },
    {
      "cell_type": "code",
      "execution_count": null,
      "metadata": {
        "id": "m-WjOySg7i67"
      },
      "outputs": [],
      "source": [
        "# 小心 -100 和 0   \"labels\": pad_sequence(labels, batch_first=True, padding_value=0)  # Changed padding_value to -100\n",
        "from torch.nn.utils.rnn import pad_sequence\n",
        "def custom_collator(features):\n",
        "    input_ids = [torch.tensor(f[\"input_ids\"]) for f in features]\n",
        "    attention_mask = [torch.tensor(f[\"attention_mask\"]) for f in features]\n",
        "    labels = [torch.tensor(f[\"labels\"]) for f in features]\n",
        "\n",
        "\n",
        "    batch = {\n",
        "        \"input_ids\": pad_sequence(input_ids, batch_first=True, padding_value=tokenizer.pad_token_id),\n",
        "        \"attention_mask\": pad_sequence(attention_mask, batch_first=True, padding_value=0),\n",
        "        \"labels\": pad_sequence(labels, batch_first=True, padding_value=77)  # Changed padding_value to -100\n",
        "    }\n",
        "\n",
        "    # print( batch )\n",
        "\n",
        "    return batch"
      ]
    },
    {
      "cell_type": "code",
      "execution_count": null,
      "metadata": {
        "id": "24X8mvIh6H9b"
      },
      "outputs": [],
      "source": [
        "def get_level2_entities_normal(model, tokenizer, sentence, label_map):\n",
        "    device = next(model.parameters()).device  # 取得 model 裝置\n",
        "\n",
        "    # 1. Tokenize with offsets\n",
        "    encoding = tokenizer(sentence, return_tensors=\"pt\", return_offsets_mapping=True, truncation=True)\n",
        "    input_ids = encoding[\"input_ids\"].to(device)          # 放到 GPU\n",
        "    attention_mask = encoding[\"attention_mask\"].to(device)  # 放到 GPU\n",
        "    offsets = encoding[\"offset_mapping\"][0].tolist()\n",
        "    tokens = tokenizer.convert_ids_to_tokens(input_ids[0].cpu())  # token ids 放 CPU 才能用 tokenizer\n",
        "\n",
        "    # 2. Model forward\n",
        "    model.eval()\n",
        "    with torch.no_grad():\n",
        "        outputs = model(input_ids=input_ids, attention_mask=attention_mask)\n",
        "        logits = outputs.logits  # [batch_size, seq_len, num_labels]\n",
        "\n",
        "    preds = torch.argmax(logits, dim=2)[0].cpu().numpy()  # 預測結果放回 CPU\n",
        "\n",
        "    results = []\n",
        "    for idx, (pred_id, offset) in enumerate(zip(preds, offsets)):\n",
        "        token_id = input_ids[0, idx].item()\n",
        "\n",
        "        # 跳過特殊 token 或無效 offset\n",
        "        if token_id in [tokenizer.pad_token_id, tokenizer.cls_token_id, tokenizer.sep_token_id]:\n",
        "            continue\n",
        "\n",
        "        start, end = offset\n",
        "        entity = label_map.get(pred_id, \"O\")\n",
        "\n",
        "        if entity != \"O\":\n",
        "            probs = torch.softmax(logits[0, idx], dim=0)\n",
        "            score = probs[pred_id].item()\n",
        "\n",
        "            results.append({\n",
        "                \"entity\": entity,\n",
        "                \"score\": np.float32(score),\n",
        "                \"index\": idx,\n",
        "                \"word\": tokens[idx],  # 更準確\n",
        "                \"start\": start,\n",
        "                \"end\": end\n",
        "            })\n",
        "\n",
        "    return results\n"
      ]
    },
    {
      "cell_type": "code",
      "execution_count": null,
      "metadata": {
        "id": "P-yNK0Rn5yYo"
      },
      "outputs": [],
      "source": [
        "import numpy as np\n",
        "import pandas as pd\n",
        "\n",
        "def calculate_overlap(pred_start, pred_end, gt_start, gt_end):\n",
        "    \"\"\"計算兩個時間區間的重疊長度\"\"\"\n",
        "    overlap_start = max(pred_start, gt_start)\n",
        "    overlap_end = min(pred_end, gt_end)\n",
        "    overlap = max(0, overlap_end - overlap_start)\n",
        "    return overlap\n",
        "\n",
        "def evaluate_task2( ground_truth_file, model, tokenizer ) :\n",
        "\n",
        "\n",
        "\n",
        "    answer = \"\"\n",
        "\n",
        "    for text in val_data :\n",
        "\n",
        "      answer_list = []\n",
        "\n",
        "      text_split = text.strip().split(\"\\t\")\n",
        "      name = text_split[0]\n",
        "      text = text_split[1]\n",
        "\n",
        "      pre = get_level2_entities_normal(model, tokenizer, text, label_map)\n",
        "      if len(pre) != 0:\n",
        "        answer_list = Process_Predict_Ner(pre)\n",
        "\n",
        "      for i in answer_list:\n",
        "        answer += f\"{name}\\t{i['entity']}\\t{i['start']}\\t{i['end']}\\t{i['word']}\\n\"\n",
        "\n",
        "    prediction_file = \"model_eval.txt\"\n",
        "    with open( prediction_file, \"w\", encoding=\"utf-8\") as f:\n",
        "      f.write(answer)\n",
        "\n",
        "\n",
        "    # 讀取預測和真實標籤數據\n",
        "    import csv\n",
        "    pred_df = pd.read_csv(\n",
        "          prediction_file,\n",
        "          sep='\\t',\n",
        "          header=None,\n",
        "          names=['id', 'type', 'start', 'end', 'content'],\n",
        "          quoting=csv.QUOTE_NONE,        # 不解析引號\n",
        "          encoding='utf-8',              # 或試 utf-8-sig\n",
        "          on_bad_lines='skip',           # 跳過爛行\n",
        "          engine='python'                # 更寬容的 parser\n",
        "      )\n",
        "    gt_df = pd.read_csv(ground_truth_file, sep='\\t', header=None,\n",
        "                       names=['id', 'type', 'start', 'end', 'content'])\n",
        "\n",
        "    # 獲取所有獨特的SHI類型\n",
        "    all_types = sorted(set(gt_df['type'].unique()) | set(pred_df['type'].unique()))\n",
        "\n",
        "    # 初始化每種類型的指標\n",
        "    metrics = {shi_type: {'tp': 0, 'fp': 0, 'fn': 0} for shi_type in all_types}\n",
        "\n",
        "    # 按音頻ID分組處理\n",
        "    unique_ids = sorted(set(gt_df['id'].unique()) | set(pred_df['id'].unique()))\n",
        "\n",
        "    for audio_id in unique_ids:\n",
        "        gt_records = gt_df[gt_df['id'] == audio_id].copy()\n",
        "        pred_records = pred_df[pred_df['id'] == audio_id].copy()\n",
        "\n",
        "        # 初始化匹配矩陣來追蹤已處理的預測和真實標籤\n",
        "        gt_matched = [False] * len(gt_records)\n",
        "        pred_matched = [False] * len(pred_records)\n",
        "\n",
        "        # 計算True Positives和部分False Positives/False Negatives\n",
        "        for i, pred_row in enumerate(pred_records.itertuples()):\n",
        "            pred_type = pred_row.type\n",
        "            pred_start = pred_row.start\n",
        "            pred_end = pred_row.end\n",
        "            pred_duration = pred_end - pred_start\n",
        "\n",
        "            best_overlap = 0\n",
        "            best_gt_idx = -1\n",
        "\n",
        "            # 找到與當前預測重疊最大的真實標籤\n",
        "            for j, gt_row in enumerate(gt_records.itertuples()):\n",
        "                if gt_row.type != pred_type:\n",
        "                    continue\n",
        "\n",
        "                overlap = calculate_overlap(pred_start, pred_end, gt_row.start, gt_row.end)\n",
        "                if overlap > best_overlap:\n",
        "                    best_overlap = overlap\n",
        "                    best_gt_idx = j\n",
        "\n",
        "            if best_gt_idx >= 0:  # 找到部分匹配\n",
        "                gt_row = gt_records.iloc[best_gt_idx]\n",
        "                gt_duration = gt_row.end - gt_row.start\n",
        "\n",
        "                # 計算 True Positive\n",
        "                metrics[pred_type]['tp'] += best_overlap\n",
        "\n",
        "                # 計算 False Positive (對於部分匹配，類型相同)\n",
        "                metrics[pred_type]['fp'] += pred_duration - best_overlap\n",
        "\n",
        "                # 計算 False Negative (對於部分匹配，類型相同)\n",
        "                metrics[pred_type]['fn'] += gt_duration - best_overlap\n",
        "\n",
        "                # 標記已處理\n",
        "                gt_matched[best_gt_idx] = True\n",
        "                pred_matched[i] = True\n",
        "            else:\n",
        "                # 完全不匹配或者類型不同：整個預測為False Positive\n",
        "                metrics[pred_type]['fp'] += pred_duration\n",
        "\n",
        "        # 處理未匹配的真實標籤 (False Negatives)\n",
        "        for j, matched in enumerate(gt_matched):\n",
        "            if not matched:\n",
        "                gt_row = gt_records.iloc[j]\n",
        "                gt_type = gt_row.type\n",
        "                gt_duration = gt_row.end - gt_row.start\n",
        "                metrics[gt_type]['fn'] += gt_duration\n",
        "\n",
        "        # 處理與類型不同的預測 (False Positives)\n",
        "        for i, (matched, pred_row) in enumerate(zip(pred_matched, pred_records.itertuples())):\n",
        "            if matched:\n",
        "                continue\n",
        "\n",
        "            # 檢查是否有與其他類型匹配\n",
        "            pred_type = pred_row.type\n",
        "            pred_start = pred_row.start\n",
        "            pred_end = pred_row.end\n",
        "            pred_duration = pred_end - pred_start\n",
        "\n",
        "            for gt_row in gt_records.itertuples():\n",
        "                if gt_row.type == pred_type:\n",
        "                    continue  # 已在之前的步驟中處理過\n",
        "\n",
        "                overlap = calculate_overlap(pred_start, pred_end, gt_row.start, gt_row.end)\n",
        "                if overlap > 0:\n",
        "                    # 類型不匹配但時間重疊：整個預測為False Positive\n",
        "                    metrics[pred_type]['fp'] += pred_duration\n",
        "                    break\n",
        "\n",
        "    # 計算每種類型的Precision, Recall和F1\n",
        "    f1_scores = []\n",
        "    for shi_type in all_types:\n",
        "        m = metrics[shi_type]\n",
        "        precision = m['tp'] / (m['tp'] + m['fp']) if (m['tp'] + m['fp']) > 0 else 0\n",
        "        recall = m['tp'] / (m['tp'] + m['fn']) if (m['tp'] + m['fn']) > 0 else 0\n",
        "        f1 = 2 * (precision * recall) / (precision + recall) if (precision + recall) > 0 else 0\n",
        "        f1_scores.append(f1)\n",
        "\n",
        "        # print(f\"類型 {shi_type}:\")\n",
        "        # print(f\"  Precision: {precision:.4f}\")\n",
        "        # print(f\"  Recall: {recall:.4f}\")\n",
        "        # print(f\"  F1: {f1:.4f}\")\n",
        "        # print(f\"  TP: {m['tp']:.2f}, FP: {m['fp']:.2f}, FN: {m['fn']:.2f}\")\n",
        "        # print()\n",
        "\n",
        "    # 計算宏平均F1\n",
        "    macro_f1 = np.mean(f1_scores)\n",
        "    # print(f\"Macro-Average F1: {macro_f1:.4f}\")\n",
        "\n",
        "    return macro_f1\n",
        "\n"
      ]
    },
    {
      "cell_type": "code",
      "execution_count": null,
      "metadata": {
        "id": "AxMxJIzEVZuV"
      },
      "outputs": [],
      "source": [
        "from transformers import TrainingArguments, Trainer\n",
        "training_args = TrainingArguments(\n",
        "    output_dir=\"./ner_results\",\n",
        "    eval_strategy=\"epoch\",\n",
        "    save_strategy=\"epoch\",\n",
        "    logging_strategy=\"epoch\",\n",
        "    logging_first_step=True,\n",
        "    logging_dir=\"./ner_logs\",\n",
        "    learning_rate=3e-5,                     # 微幅調高（視情況）3e-5\n",
        "    num_train_epochs=40,                   # 避免一次就設 50\n",
        "    weight_decay=0.03,                     # 適當正則化 0.03\n",
        "    # per_device_train_batch_size=8,        # 批量大一點也有助穩定\n",
        "    # per_device_eval_batch_size=8,\n",
        "    # load_best_model_at_end=True,           # ⚠️ 搭配 EarlyStopping 時很重要\n",
        "    # metric_for_best_model=\"eval_loss\",     # 根據 loss 選最佳模型\n",
        ")"
      ]
    },
    {
      "cell_type": "code",
      "execution_count": null,
      "metadata": {
        "id": "AKsiUc936jN6"
      },
      "outputs": [],
      "source": [
        "from transformers import TrainerCallback\n",
        "\n",
        "class CharBasedEvaluationCallback(TrainerCallback):\n",
        "    def __init__(self, task2_path, tokenizer):\n",
        "        self.task2_path = task2_path\n",
        "        self.tokenizer = tokenizer\n",
        "\n",
        "    def on_evaluate(self, args, state, control, **kwargs):\n",
        "        model = kwargs[\"model\"]\n",
        "\n",
        "        macro_f1 = evaluate_task2(self.task2_path, model, self.tokenizer)\n",
        "\n",
        "        print(f\"[Char-based Evaluation after epoch {state.epoch}]\")\n",
        "        print(\"Macro-F1:\", macro_f1)"
      ]
    },
    {
      "cell_type": "code",
      "execution_count": null,
      "metadata": {
        "id": "rVZoqY6_8r4U"
      },
      "outputs": [],
      "source": [
        "class FGM:\n",
        "    def __init__(self, model, epsilon=1.0):\n",
        "        self.model = model\n",
        "        self.epsilon = epsilon\n",
        "        self.backup = {}\n",
        "\n",
        "    def attack(self, emb_name='embeddings.word_embeddings'):\n",
        "        for name, param in self.model.named_parameters():\n",
        "            if param.requires_grad and emb_name in name:\n",
        "                self.backup[name] = param.data.clone()\n",
        "                norm = torch.norm(param.grad)\n",
        "                if norm != 0:\n",
        "                    r_at = self.epsilon * param.grad / norm\n",
        "                    param.data.add_(r_at)\n",
        "\n",
        "    def restore(self, emb_name='embeddings.word_embeddings'):\n",
        "        for name, param in self.model.named_parameters():\n",
        "            if param.requires_grad and emb_name in name and name in self.backup:\n",
        "                param.data = self.backup[name]\n",
        "        self.backup = {}\n"
      ]
    },
    {
      "cell_type": "code",
      "execution_count": null,
      "metadata": {
        "id": "TBilUoup8xh9"
      },
      "outputs": [],
      "source": [
        "from transformers import Trainer\n",
        "\n",
        "class TrainerWithFGM(Trainer):\n",
        "    def __init__(self, *args, fgm=None, **kwargs):\n",
        "        super().__init__(*args, **kwargs)\n",
        "        self.fgm = fgm\n",
        "\n",
        "    def training_step(self, model, inputs, num_items):  # ← 加上 num_items\n",
        "        model.train()\n",
        "        inputs = self._prepare_inputs(inputs)\n",
        "\n",
        "        # 原始 loss\n",
        "        loss = self.compute_loss(model, inputs)\n",
        "        loss.backward()\n",
        "\n",
        "        # 對抗訓練\n",
        "        if self.fgm is not None:\n",
        "            self.fgm.attack()\n",
        "            adv_loss = self.compute_loss(model, inputs)\n",
        "            adv_loss.backward()\n",
        "            self.fgm.restore()\n",
        "\n",
        "        return loss.detach()\n"
      ]
    },
    {
      "cell_type": "code",
      "execution_count": null,
      "metadata": {
        "colab": {
          "base_uri": "https://localhost:8080/",
          "height": 1000
        },
        "id": "lfv9J4AW2D6W",
        "outputId": "aba5bda1-4bb1-4fe7-e3d5-d0b24c34386f"
      },
      "outputs": [
        {
          "data": {
            "text/html": [
              "\n",
              "    <div>\n",
              "      \n",
              "      <progress value='1748' max='4200' style='width:300px; height:20px; vertical-align: middle;'></progress>\n",
              "      [1748/4200 40:17 < 56:35, 0.72 it/s, Epoch 16.64/40]\n",
              "    </div>\n",
              "    <table border=\"1\" class=\"dataframe\">\n",
              "  <thead>\n",
              " <tr style=\"text-align: left;\">\n",
              "      <th>Epoch</th>\n",
              "      <th>Training Loss</th>\n",
              "      <th>Validation Loss</th>\n",
              "    </tr>\n",
              "  </thead>\n",
              "  <tbody>\n",
              "    <tr>\n",
              "      <td>1</td>\n",
              "      <td>18.875300</td>\n",
              "      <td>15.303363</td>\n",
              "    </tr>\n",
              "    <tr>\n",
              "      <td>2</td>\n",
              "      <td>6.649300</td>\n",
              "      <td>12.282393</td>\n",
              "    </tr>\n",
              "    <tr>\n",
              "      <td>3</td>\n",
              "      <td>4.214400</td>\n",
              "      <td>11.460523</td>\n",
              "    </tr>\n",
              "    <tr>\n",
              "      <td>4</td>\n",
              "      <td>3.100700</td>\n",
              "      <td>10.774789</td>\n",
              "    </tr>\n",
              "    <tr>\n",
              "      <td>5</td>\n",
              "      <td>2.020600</td>\n",
              "      <td>11.842018</td>\n",
              "    </tr>\n",
              "    <tr>\n",
              "      <td>6</td>\n",
              "      <td>2.024000</td>\n",
              "      <td>12.281533</td>\n",
              "    </tr>\n",
              "    <tr>\n",
              "      <td>7</td>\n",
              "      <td>1.389200</td>\n",
              "      <td>12.959299</td>\n",
              "    </tr>\n",
              "    <tr>\n",
              "      <td>8</td>\n",
              "      <td>0.984800</td>\n",
              "      <td>13.806341</td>\n",
              "    </tr>\n",
              "    <tr>\n",
              "      <td>9</td>\n",
              "      <td>0.778300</td>\n",
              "      <td>14.365185</td>\n",
              "    </tr>\n",
              "    <tr>\n",
              "      <td>10</td>\n",
              "      <td>0.612200</td>\n",
              "      <td>15.615187</td>\n",
              "    </tr>\n",
              "    <tr>\n",
              "      <td>11</td>\n",
              "      <td>1.059100</td>\n",
              "      <td>15.854865</td>\n",
              "    </tr>\n",
              "    <tr>\n",
              "      <td>12</td>\n",
              "      <td>1.792700</td>\n",
              "      <td>16.599289</td>\n",
              "    </tr>\n",
              "    <tr>\n",
              "      <td>13</td>\n",
              "      <td>1.862300</td>\n",
              "      <td>17.195171</td>\n",
              "    </tr>\n",
              "    <tr>\n",
              "      <td>14</td>\n",
              "      <td>1.480600</td>\n",
              "      <td>17.550098</td>\n",
              "    </tr>\n",
              "    <tr>\n",
              "      <td>15</td>\n",
              "      <td>1.671100</td>\n",
              "      <td>17.319160</td>\n",
              "    </tr>\n",
              "    <tr>\n",
              "      <td>16</td>\n",
              "      <td>1.524900</td>\n",
              "      <td>17.172230</td>\n",
              "    </tr>\n",
              "  </tbody>\n",
              "</table><p>"
            ],
            "text/plain": [
              "<IPython.core.display.HTML object>"
            ]
          },
          "metadata": {},
          "output_type": "display_data"
        },
        {
          "name": "stdout",
          "output_type": "stream",
          "text": [
            "[Char-based Evaluation after epoch 1.0]\n",
            "Macro-F1: 0.4816576469325218\n",
            "[Char-based Evaluation after epoch 2.0]\n",
            "Macro-F1: 0.6002536323369817\n",
            "[Char-based Evaluation after epoch 3.0]\n",
            "Macro-F1: 0.618552906100802\n",
            "[Char-based Evaluation after epoch 4.0]\n",
            "Macro-F1: 0.6704181948208405\n",
            "[Char-based Evaluation after epoch 5.0]\n",
            "Macro-F1: 0.6703708450960366\n",
            "[Char-based Evaluation after epoch 6.0]\n",
            "Macro-F1: 0.6594484957639974\n",
            "[Char-based Evaluation after epoch 7.0]\n",
            "Macro-F1: 0.7030044213661656\n",
            "[Char-based Evaluation after epoch 8.0]\n",
            "Macro-F1: 0.6877784603967375\n",
            "[Char-based Evaluation after epoch 9.0]\n",
            "Macro-F1: 0.6757309925104699\n",
            "[Char-based Evaluation after epoch 10.0]\n",
            "Macro-F1: 0.6758555796301355\n",
            "[Char-based Evaluation after epoch 11.0]\n",
            "Macro-F1: 0.689032496233497\n",
            "[Char-based Evaluation after epoch 12.0]\n",
            "Macro-F1: 0.6724634105769386\n",
            "[Char-based Evaluation after epoch 13.0]\n",
            "Macro-F1: 0.6819186071968986\n",
            "[Char-based Evaluation after epoch 14.0]\n",
            "Macro-F1: 0.6859891532759896\n",
            "[Char-based Evaluation after epoch 15.0]\n",
            "Macro-F1: 0.6949359707404257\n",
            "[Char-based Evaluation after epoch 16.0]\n",
            "Macro-F1: 0.7032064294314214\n"
          ]
        },
        {
          "ename": "KeyboardInterrupt",
          "evalue": "",
          "output_type": "error",
          "traceback": [
            "\u001b[0;31m---------------------------------------------------------------------------\u001b[0m",
            "\u001b[0;31mKeyboardInterrupt\u001b[0m                         Traceback (most recent call last)",
            "\u001b[0;32m<ipython-input-115-06217b1c1cf7>\u001b[0m in \u001b[0;36m<cell line: 0>\u001b[0;34m()\u001b[0m\n\u001b[1;32m     17\u001b[0m )\n\u001b[1;32m     18\u001b[0m \u001b[0;34m\u001b[0m\u001b[0m\n\u001b[0;32m---> 19\u001b[0;31m \u001b[0mtrainer\u001b[0m\u001b[0;34m.\u001b[0m\u001b[0mtrain\u001b[0m\u001b[0;34m(\u001b[0m\u001b[0;34m)\u001b[0m\u001b[0;34m\u001b[0m\u001b[0;34m\u001b[0m\u001b[0m\n\u001b[0m",
            "\u001b[0;32m/usr/local/lib/python3.11/dist-packages/transformers/trainer.py\u001b[0m in \u001b[0;36mtrain\u001b[0;34m(self, resume_from_checkpoint, trial, ignore_keys_for_eval, **kwargs)\u001b[0m\n\u001b[1;32m   2238\u001b[0m                 \u001b[0mhf_hub_utils\u001b[0m\u001b[0;34m.\u001b[0m\u001b[0menable_progress_bars\u001b[0m\u001b[0;34m(\u001b[0m\u001b[0;34m)\u001b[0m\u001b[0;34m\u001b[0m\u001b[0;34m\u001b[0m\u001b[0m\n\u001b[1;32m   2239\u001b[0m         \u001b[0;32melse\u001b[0m\u001b[0;34m:\u001b[0m\u001b[0;34m\u001b[0m\u001b[0;34m\u001b[0m\u001b[0m\n\u001b[0;32m-> 2240\u001b[0;31m             return inner_training_loop(\n\u001b[0m\u001b[1;32m   2241\u001b[0m                 \u001b[0margs\u001b[0m\u001b[0;34m=\u001b[0m\u001b[0margs\u001b[0m\u001b[0;34m,\u001b[0m\u001b[0;34m\u001b[0m\u001b[0;34m\u001b[0m\u001b[0m\n\u001b[1;32m   2242\u001b[0m                 \u001b[0mresume_from_checkpoint\u001b[0m\u001b[0;34m=\u001b[0m\u001b[0mresume_from_checkpoint\u001b[0m\u001b[0;34m,\u001b[0m\u001b[0;34m\u001b[0m\u001b[0;34m\u001b[0m\u001b[0m\n",
            "\u001b[0;32m/usr/local/lib/python3.11/dist-packages/transformers/trainer.py\u001b[0m in \u001b[0;36m_inner_training_loop\u001b[0;34m(self, batch_size, args, resume_from_checkpoint, trial, ignore_keys_for_eval)\u001b[0m\n\u001b[1;32m   2553\u001b[0m                     )\n\u001b[1;32m   2554\u001b[0m                     \u001b[0;32mwith\u001b[0m \u001b[0mcontext\u001b[0m\u001b[0;34m(\u001b[0m\u001b[0;34m)\u001b[0m\u001b[0;34m:\u001b[0m\u001b[0;34m\u001b[0m\u001b[0;34m\u001b[0m\u001b[0m\n\u001b[0;32m-> 2555\u001b[0;31m                         \u001b[0mtr_loss_step\u001b[0m \u001b[0;34m=\u001b[0m \u001b[0mself\u001b[0m\u001b[0;34m.\u001b[0m\u001b[0mtraining_step\u001b[0m\u001b[0;34m(\u001b[0m\u001b[0mmodel\u001b[0m\u001b[0;34m,\u001b[0m \u001b[0minputs\u001b[0m\u001b[0;34m,\u001b[0m \u001b[0mnum_items_in_batch\u001b[0m\u001b[0;34m)\u001b[0m\u001b[0;34m\u001b[0m\u001b[0;34m\u001b[0m\u001b[0m\n\u001b[0m\u001b[1;32m   2556\u001b[0m \u001b[0;34m\u001b[0m\u001b[0m\n\u001b[1;32m   2557\u001b[0m                     if (\n",
            "\u001b[0;32m<ipython-input-114-4f591867f55d>\u001b[0m in \u001b[0;36mtraining_step\u001b[0;34m(self, model, inputs, num_items)\u001b[0m\n\u001b[1;32m     11\u001b[0m \u001b[0;34m\u001b[0m\u001b[0m\n\u001b[1;32m     12\u001b[0m         \u001b[0;31m# 原始 loss\u001b[0m\u001b[0;34m\u001b[0m\u001b[0;34m\u001b[0m\u001b[0m\n\u001b[0;32m---> 13\u001b[0;31m         \u001b[0mloss\u001b[0m \u001b[0;34m=\u001b[0m \u001b[0mself\u001b[0m\u001b[0;34m.\u001b[0m\u001b[0mcompute_loss\u001b[0m\u001b[0;34m(\u001b[0m\u001b[0mmodel\u001b[0m\u001b[0;34m,\u001b[0m \u001b[0minputs\u001b[0m\u001b[0;34m)\u001b[0m\u001b[0;34m\u001b[0m\u001b[0;34m\u001b[0m\u001b[0m\n\u001b[0m\u001b[1;32m     14\u001b[0m         \u001b[0mloss\u001b[0m\u001b[0;34m.\u001b[0m\u001b[0mbackward\u001b[0m\u001b[0;34m(\u001b[0m\u001b[0;34m)\u001b[0m\u001b[0;34m\u001b[0m\u001b[0;34m\u001b[0m\u001b[0m\n\u001b[1;32m     15\u001b[0m \u001b[0;34m\u001b[0m\u001b[0m\n",
            "\u001b[0;32m/usr/local/lib/python3.11/dist-packages/transformers/trainer.py\u001b[0m in \u001b[0;36mcompute_loss\u001b[0;34m(self, model, inputs, return_outputs, num_items_in_batch)\u001b[0m\n\u001b[1;32m   3808\u001b[0m                 \u001b[0mloss_kwargs\u001b[0m\u001b[0;34m[\u001b[0m\u001b[0;34m\"num_items_in_batch\"\u001b[0m\u001b[0;34m]\u001b[0m \u001b[0;34m=\u001b[0m \u001b[0mnum_items_in_batch\u001b[0m\u001b[0;34m\u001b[0m\u001b[0;34m\u001b[0m\u001b[0m\n\u001b[1;32m   3809\u001b[0m             \u001b[0minputs\u001b[0m \u001b[0;34m=\u001b[0m \u001b[0;34m{\u001b[0m\u001b[0;34m**\u001b[0m\u001b[0minputs\u001b[0m\u001b[0;34m,\u001b[0m \u001b[0;34m**\u001b[0m\u001b[0mloss_kwargs\u001b[0m\u001b[0;34m}\u001b[0m\u001b[0;34m\u001b[0m\u001b[0;34m\u001b[0m\u001b[0m\n\u001b[0;32m-> 3810\u001b[0;31m         \u001b[0moutputs\u001b[0m \u001b[0;34m=\u001b[0m \u001b[0mmodel\u001b[0m\u001b[0;34m(\u001b[0m\u001b[0;34m**\u001b[0m\u001b[0minputs\u001b[0m\u001b[0;34m)\u001b[0m\u001b[0;34m\u001b[0m\u001b[0;34m\u001b[0m\u001b[0m\n\u001b[0m\u001b[1;32m   3811\u001b[0m         \u001b[0;31m# Save past state if it exists\u001b[0m\u001b[0;34m\u001b[0m\u001b[0;34m\u001b[0m\u001b[0m\n\u001b[1;32m   3812\u001b[0m         \u001b[0;31m# TODO: this needs to be fixed and made cleaner later.\u001b[0m\u001b[0;34m\u001b[0m\u001b[0;34m\u001b[0m\u001b[0m\n",
            "\u001b[0;32m/usr/local/lib/python3.11/dist-packages/torch/nn/modules/module.py\u001b[0m in \u001b[0;36m_wrapped_call_impl\u001b[0;34m(self, *args, **kwargs)\u001b[0m\n\u001b[1;32m   1737\u001b[0m             \u001b[0;32mreturn\u001b[0m \u001b[0mself\u001b[0m\u001b[0;34m.\u001b[0m\u001b[0m_compiled_call_impl\u001b[0m\u001b[0;34m(\u001b[0m\u001b[0;34m*\u001b[0m\u001b[0margs\u001b[0m\u001b[0;34m,\u001b[0m \u001b[0;34m**\u001b[0m\u001b[0mkwargs\u001b[0m\u001b[0;34m)\u001b[0m  \u001b[0;31m# type: ignore[misc]\u001b[0m\u001b[0;34m\u001b[0m\u001b[0;34m\u001b[0m\u001b[0m\n\u001b[1;32m   1738\u001b[0m         \u001b[0;32melse\u001b[0m\u001b[0;34m:\u001b[0m\u001b[0;34m\u001b[0m\u001b[0;34m\u001b[0m\u001b[0m\n\u001b[0;32m-> 1739\u001b[0;31m             \u001b[0;32mreturn\u001b[0m \u001b[0mself\u001b[0m\u001b[0;34m.\u001b[0m\u001b[0m_call_impl\u001b[0m\u001b[0;34m(\u001b[0m\u001b[0;34m*\u001b[0m\u001b[0margs\u001b[0m\u001b[0;34m,\u001b[0m \u001b[0;34m**\u001b[0m\u001b[0mkwargs\u001b[0m\u001b[0;34m)\u001b[0m\u001b[0;34m\u001b[0m\u001b[0;34m\u001b[0m\u001b[0m\n\u001b[0m\u001b[1;32m   1740\u001b[0m \u001b[0;34m\u001b[0m\u001b[0m\n\u001b[1;32m   1741\u001b[0m     \u001b[0;31m# torchrec tests the code consistency with the following code\u001b[0m\u001b[0;34m\u001b[0m\u001b[0;34m\u001b[0m\u001b[0m\n",
            "\u001b[0;32m/usr/local/lib/python3.11/dist-packages/torch/nn/modules/module.py\u001b[0m in \u001b[0;36m_call_impl\u001b[0;34m(self, *args, **kwargs)\u001b[0m\n\u001b[1;32m   1748\u001b[0m                 \u001b[0;32mor\u001b[0m \u001b[0m_global_backward_pre_hooks\u001b[0m \u001b[0;32mor\u001b[0m \u001b[0m_global_backward_hooks\u001b[0m\u001b[0;34m\u001b[0m\u001b[0;34m\u001b[0m\u001b[0m\n\u001b[1;32m   1749\u001b[0m                 or _global_forward_hooks or _global_forward_pre_hooks):\n\u001b[0;32m-> 1750\u001b[0;31m             \u001b[0;32mreturn\u001b[0m \u001b[0mforward_call\u001b[0m\u001b[0;34m(\u001b[0m\u001b[0;34m*\u001b[0m\u001b[0margs\u001b[0m\u001b[0;34m,\u001b[0m \u001b[0;34m**\u001b[0m\u001b[0mkwargs\u001b[0m\u001b[0;34m)\u001b[0m\u001b[0;34m\u001b[0m\u001b[0;34m\u001b[0m\u001b[0m\n\u001b[0m\u001b[1;32m   1751\u001b[0m \u001b[0;34m\u001b[0m\u001b[0m\n\u001b[1;32m   1752\u001b[0m         \u001b[0mresult\u001b[0m \u001b[0;34m=\u001b[0m \u001b[0;32mNone\u001b[0m\u001b[0;34m\u001b[0m\u001b[0;34m\u001b[0m\u001b[0m\n",
            "\u001b[0;32m<ipython-input-89-928e66d3d6d6>\u001b[0m in \u001b[0;36mforward\u001b[0;34m(self, input_ids, attention_mask, labels)\u001b[0m\n\u001b[1;32m     32\u001b[0m             \u001b[0mmask\u001b[0m \u001b[0;34m=\u001b[0m \u001b[0mattention_mask\u001b[0m\u001b[0;34m.\u001b[0m\u001b[0mbool\u001b[0m\u001b[0;34m(\u001b[0m\u001b[0;34m)\u001b[0m\u001b[0;34m\u001b[0m\u001b[0;34m\u001b[0m\u001b[0m\n\u001b[1;32m     33\u001b[0m             \u001b[0mmask\u001b[0m\u001b[0;34m[\u001b[0m\u001b[0;34m:\u001b[0m\u001b[0;34m,\u001b[0m \u001b[0;36m0\u001b[0m\u001b[0;34m]\u001b[0m \u001b[0;34m=\u001b[0m \u001b[0;32mTrue\u001b[0m  \u001b[0;31m# 確保第一token是有效的mask\u001b[0m\u001b[0;34m\u001b[0m\u001b[0;34m\u001b[0m\u001b[0m\n\u001b[0;32m---> 34\u001b[0;31m             \u001b[0mloss\u001b[0m \u001b[0;34m=\u001b[0m \u001b[0;34m-\u001b[0m\u001b[0mself\u001b[0m\u001b[0;34m.\u001b[0m\u001b[0mcrf\u001b[0m\u001b[0;34m(\u001b[0m\u001b[0memissions\u001b[0m\u001b[0;34m,\u001b[0m \u001b[0mlabels\u001b[0m\u001b[0;34m,\u001b[0m \u001b[0mmask\u001b[0m\u001b[0;34m=\u001b[0m\u001b[0mmask\u001b[0m\u001b[0;34m,\u001b[0m \u001b[0mreduction\u001b[0m\u001b[0;34m=\u001b[0m\u001b[0;34m'mean'\u001b[0m\u001b[0;34m)\u001b[0m\u001b[0;34m\u001b[0m\u001b[0;34m\u001b[0m\u001b[0m\n\u001b[0m\u001b[1;32m     35\u001b[0m         return TokenClassifierOutput(\n\u001b[1;32m     36\u001b[0m             \u001b[0mloss\u001b[0m\u001b[0;34m=\u001b[0m\u001b[0mloss\u001b[0m\u001b[0;34m,\u001b[0m\u001b[0;34m\u001b[0m\u001b[0;34m\u001b[0m\u001b[0m\n",
            "\u001b[0;32m/usr/local/lib/python3.11/dist-packages/torch/nn/modules/module.py\u001b[0m in \u001b[0;36m_wrapped_call_impl\u001b[0;34m(self, *args, **kwargs)\u001b[0m\n\u001b[1;32m   1737\u001b[0m             \u001b[0;32mreturn\u001b[0m \u001b[0mself\u001b[0m\u001b[0;34m.\u001b[0m\u001b[0m_compiled_call_impl\u001b[0m\u001b[0;34m(\u001b[0m\u001b[0;34m*\u001b[0m\u001b[0margs\u001b[0m\u001b[0;34m,\u001b[0m \u001b[0;34m**\u001b[0m\u001b[0mkwargs\u001b[0m\u001b[0;34m)\u001b[0m  \u001b[0;31m# type: ignore[misc]\u001b[0m\u001b[0;34m\u001b[0m\u001b[0;34m\u001b[0m\u001b[0m\n\u001b[1;32m   1738\u001b[0m         \u001b[0;32melse\u001b[0m\u001b[0;34m:\u001b[0m\u001b[0;34m\u001b[0m\u001b[0;34m\u001b[0m\u001b[0m\n\u001b[0;32m-> 1739\u001b[0;31m             \u001b[0;32mreturn\u001b[0m \u001b[0mself\u001b[0m\u001b[0;34m.\u001b[0m\u001b[0m_call_impl\u001b[0m\u001b[0;34m(\u001b[0m\u001b[0;34m*\u001b[0m\u001b[0margs\u001b[0m\u001b[0;34m,\u001b[0m \u001b[0;34m**\u001b[0m\u001b[0mkwargs\u001b[0m\u001b[0;34m)\u001b[0m\u001b[0;34m\u001b[0m\u001b[0;34m\u001b[0m\u001b[0m\n\u001b[0m\u001b[1;32m   1740\u001b[0m \u001b[0;34m\u001b[0m\u001b[0m\n\u001b[1;32m   1741\u001b[0m     \u001b[0;31m# torchrec tests the code consistency with the following code\u001b[0m\u001b[0;34m\u001b[0m\u001b[0;34m\u001b[0m\u001b[0m\n",
            "\u001b[0;32m/usr/local/lib/python3.11/dist-packages/torch/nn/modules/module.py\u001b[0m in \u001b[0;36m_call_impl\u001b[0;34m(self, *args, **kwargs)\u001b[0m\n\u001b[1;32m   1748\u001b[0m                 \u001b[0;32mor\u001b[0m \u001b[0m_global_backward_pre_hooks\u001b[0m \u001b[0;32mor\u001b[0m \u001b[0m_global_backward_hooks\u001b[0m\u001b[0;34m\u001b[0m\u001b[0;34m\u001b[0m\u001b[0m\n\u001b[1;32m   1749\u001b[0m                 or _global_forward_hooks or _global_forward_pre_hooks):\n\u001b[0;32m-> 1750\u001b[0;31m             \u001b[0;32mreturn\u001b[0m \u001b[0mforward_call\u001b[0m\u001b[0;34m(\u001b[0m\u001b[0;34m*\u001b[0m\u001b[0margs\u001b[0m\u001b[0;34m,\u001b[0m \u001b[0;34m**\u001b[0m\u001b[0mkwargs\u001b[0m\u001b[0;34m)\u001b[0m\u001b[0;34m\u001b[0m\u001b[0;34m\u001b[0m\u001b[0m\n\u001b[0m\u001b[1;32m   1751\u001b[0m \u001b[0;34m\u001b[0m\u001b[0m\n\u001b[1;32m   1752\u001b[0m         \u001b[0mresult\u001b[0m \u001b[0;34m=\u001b[0m \u001b[0;32mNone\u001b[0m\u001b[0;34m\u001b[0m\u001b[0;34m\u001b[0m\u001b[0m\n",
            "\u001b[0;32m/usr/local/lib/python3.11/dist-packages/torchcrf/__init__.py\u001b[0m in \u001b[0;36mforward\u001b[0;34m(self, emissions, tags, mask, reduction)\u001b[0m\n\u001b[1;32m     95\u001b[0m \u001b[0;34m\u001b[0m\u001b[0m\n\u001b[1;32m     96\u001b[0m         \u001b[0;32mif\u001b[0m \u001b[0mself\u001b[0m\u001b[0;34m.\u001b[0m\u001b[0mbatch_first\u001b[0m\u001b[0;34m:\u001b[0m\u001b[0;34m\u001b[0m\u001b[0;34m\u001b[0m\u001b[0m\n\u001b[0;32m---> 97\u001b[0;31m             \u001b[0memissions\u001b[0m \u001b[0;34m=\u001b[0m \u001b[0memissions\u001b[0m\u001b[0;34m.\u001b[0m\u001b[0mtranspose\u001b[0m\u001b[0;34m(\u001b[0m\u001b[0;36m0\u001b[0m\u001b[0;34m,\u001b[0m \u001b[0;36m1\u001b[0m\u001b[0;34m)\u001b[0m\u001b[0;34m\u001b[0m\u001b[0;34m\u001b[0m\u001b[0m\n\u001b[0m\u001b[1;32m     98\u001b[0m             \u001b[0mtags\u001b[0m \u001b[0;34m=\u001b[0m \u001b[0mtags\u001b[0m\u001b[0;34m.\u001b[0m\u001b[0mtranspose\u001b[0m\u001b[0;34m(\u001b[0m\u001b[0;36m0\u001b[0m\u001b[0;34m,\u001b[0m \u001b[0;36m1\u001b[0m\u001b[0;34m)\u001b[0m\u001b[0;34m\u001b[0m\u001b[0;34m\u001b[0m\u001b[0m\n\u001b[1;32m     99\u001b[0m             \u001b[0mmask\u001b[0m \u001b[0;34m=\u001b[0m \u001b[0mmask\u001b[0m\u001b[0;34m.\u001b[0m\u001b[0mtranspose\u001b[0m\u001b[0;34m(\u001b[0m\u001b[0;36m0\u001b[0m\u001b[0;34m,\u001b[0m \u001b[0;36m1\u001b[0m\u001b[0;34m)\u001b[0m\u001b[0;34m\u001b[0m\u001b[0;34m\u001b[0m\u001b[0m\n",
            "\u001b[0;31mKeyboardInterrupt\u001b[0m: "
          ]
        }
      ],
      "source": [
        "from transformers import Trainer\n",
        "\n",
        "\n",
        "task2_path = \"/content/drive/MyDrive/AICUP_DATA/offical_change/entity_token_indices.txt\"\n",
        "\n",
        "\n",
        "fgm = FGM(model)\n",
        "\n",
        "trainer = TrainerWithFGM(\n",
        "    model=model,\n",
        "    args=training_args,\n",
        "    train_dataset=data_train,\n",
        "    eval_dataset=data_test,\n",
        "    data_collator=custom_collator,\n",
        "    callbacks=[CharBasedEvaluationCallback(task2_path, tokenizer)],\n",
        "    fgm=fgm,  # ✅ 加入這裡\n",
        ")\n",
        "\n",
        "trainer.train()\n"
      ]
    },
    {
      "cell_type": "markdown",
      "metadata": {
        "id": "CZJY1o-Aw_l6"
      },
      "source": [
        "儲存模型"
      ]
    },
    {
      "cell_type": "code",
      "execution_count": null,
      "metadata": {
        "colab": {
          "base_uri": "https://localhost:8080/",
          "height": 35
        },
        "id": "-jv3nBX5w-vN",
        "outputId": "d6010005-9724-4bec-93fe-72ad24fb883b"
      },
      "outputs": [
        {
          "data": {
            "application/vnd.google.colaboratory.intrinsic+json": {
              "type": "string"
            },
            "text/plain": [
              "'/content/drive/MyDrive/AI_CUP_NER/k_fold_new/crf_FGM_offical/model_checkpoint-1680'"
            ]
          },
          "execution_count": 119,
          "metadata": {},
          "output_type": "execute_result"
        }
      ],
      "source": [
        "import shutil\n",
        "shutil.copytree('/content/ner_results/checkpoint-1680', '/content/drive/MyDrive/AI_CUP_NER/k_fold_new/crf_FGM_offical/model_checkpoint-1680')"
      ]
    }
  ],
  "metadata": {
    "accelerator": "GPU",
    "colab": {
      "gpuType": "L4",
      "machine_shape": "hm",
      "provenance": []
    },
    "kernelspec": {
      "display_name": "Python 3",
      "name": "python3"
    },
    "language_info": {
      "name": "python"
    }
  },
  "nbformat": 4,
  "nbformat_minor": 0
}
